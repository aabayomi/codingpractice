{
 "cells": [
  {
   "cell_type": "markdown",
   "metadata": {},
   "source": [
    "Your function will take an input string that begins with a number representing the shift. The number will be in the range -1000000000 to 1000000000 (negative 1 billion to 1 billion). The number is followed by a colon (‘:’). The rest of the line consists of a string of 1 to 200 arbitrary characters and represents a fragment of the text to be encrypted.\n",
    " \n",
    "OUTPUT FORMAT\n",
    "Output will be the corresponding encrypted text fragment\n",
    "  \n",
    "SAMPLE INPUT:\n",
    "1:some text\n",
    " \n",
    "SAMPLE OUTPUT:\n",
    "tpnf ufyu\n"
   ]
  },
  {
   "cell_type": "code",
   "execution_count": 45,
   "metadata": {},
   "outputs": [],
   "source": [
    "def cipher(cipher):\n",
    "    cipher = cipher.split(':')\n",
    "    if len(cipher) != 2 or cipher[0] == \"\":\n",
    "        raise ValueError(\"Invalid input\")\n",
    "    \n",
    "    shift = int(cipher[0])\n",
    "    nCipher = cipher[1]\n",
    "    print shift, nCipher\n",
    "    \n",
    "   \n",
    "#     if str(shift).isdigit() == False  :\n",
    "#         raise ValueError(\"Invalid input\")\n",
    "#     print shift, nCipher\n",
    "\n",
    "    newString = \"\"\n",
    "    if shift < 0:\n",
    "         for char in nCipher:\n",
    "            if char in [\" \",\"#\",\"&\",\"!\",\"@\",\"$\",\"^\",\"*\",\"(\",\")\",\"~\",\"`\",\"-\",\"_\",\"+\",\"=\"]:\n",
    "                newString +=(char)\n",
    "            elif char.isdigit() == True:\n",
    "                newString +=(char)\n",
    "            else:\n",
    "                shiftChar = ord(char) - shift\n",
    "                newString +=(chr(shiftChar))\n",
    "    else:\n",
    "        for char in nCipher:\n",
    "            if char in [\" \",\"#\",\"&\",\"!\",\"@\",\"$\",\"^\",\"*\",\"(\",\")\",\"~\",\"`\",\"-\",\"_\",\"+\",\"=\"]:\n",
    "                newString +=(char)\n",
    "            elif char.isdigit() == True:\n",
    "                newString +=(char)\n",
    "            else:\n",
    "                shiftChar = ord(char) + shift\n",
    "                newString +=(chr(shiftChar))\n",
    "    print newString"
   ]
  },
  {
   "cell_type": "code",
   "execution_count": 48,
   "metadata": {},
   "outputs": [
    {
     "name": "stdout",
     "output_type": "stream",
     "text": [
      "-9 some text222222\n",
      "|xvn }n�}222222\n"
     ]
    }
   ],
   "source": [
    "# cipher(\"1:gdgdkj\")\n",
    "# cipher(\"1:some text\")\n",
    "cipher(\"-9:some text222222\")"
   ]
  }
 ],
 "metadata": {
  "kernelspec": {
   "display_name": "Python 2",
   "language": "python",
   "name": "python2"
  },
  "language_info": {
   "codemirror_mode": {
    "name": "ipython",
    "version": 2
   },
   "file_extension": ".py",
   "mimetype": "text/x-python",
   "name": "python",
   "nbconvert_exporter": "python",
   "pygments_lexer": "ipython2",
   "version": "2.7.14"
  }
 },
 "nbformat": 4,
 "nbformat_minor": 2
}
