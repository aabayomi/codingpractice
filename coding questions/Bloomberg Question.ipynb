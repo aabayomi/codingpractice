{
 "cells": [
  {
   "cell_type": "code",
   "execution_count": null,
   "metadata": {
    "collapsed": true
   },
   "outputs": [],
   "source": [
    "def stock_price(price_list):\n",
    "    new_list =[]\n",
    "    count=0\n",
    "    index =0\n",
    "    for price in range(price_list):\n",
    "        if price_list[index] < price_list[index+1]:\n",
    "            count+=1\n",
    "        new_list.append(counter)\n",
    "        elif price_list[index]>= price_list[index+1]:\n",
    "            count\n",
    "        \n",
    "        \n",
    "    index+=1\n",
    "            "
   ]
  }
 ],
 "metadata": {
  "kernelspec": {
   "display_name": "Python 2",
   "language": "python",
   "name": "python2"
  },
  "language_info": {
   "codemirror_mode": {
    "name": "ipython",
    "version": 2
   },
   "file_extension": ".py",
   "mimetype": "text/x-python",
   "name": "python",
   "nbconvert_exporter": "python",
   "pygments_lexer": "ipython2",
   "version": "2.7.14"
  }
 },
 "nbformat": 4,
 "nbformat_minor": 2
}
