{
 "cells": [
  {
   "cell_type": "markdown",
   "metadata": {},
   "source": [
    "base converter using a stack"
   ]
  },
  {
   "cell_type": "code",
   "execution_count": 15,
   "metadata": {
    "collapsed": true
   },
   "outputs": [],
   "source": [
    "class Stack:\n",
    "    def __init__(self):\n",
    "        self.items = []\n",
    "    def push(self,item):\n",
    "        self.items.append(item)\n",
    "    def pop(self):\n",
    "        return self.items.pop()\n",
    "    def isEmpty(self):\n",
    "        return self.items == []\n",
    "    \n",
    "baseStack = Stack()\n",
    "def baseConverter(n,base):\n",
    "    convertSring = \"0123456789ABCDEF\"\n",
    "    \n",
    "    while n > 0:\n",
    "        if n < base:\n",
    "            baseStack.push(convertSring[n])\n",
    "        else:\n",
    "            baseStack.push(convertSring[n%base])\n",
    "        n = n // base\n",
    "    \n",
    "    newString = \"\"\n",
    "    while not baseStack.isEmpty():\n",
    "            newString = newString + str(baseStack.pop())\n",
    "    return newString"
   ]
  },
  {
   "cell_type": "code",
   "execution_count": 17,
   "metadata": {},
   "outputs": [
    {
     "data": {
      "text/plain": [
       "'10'"
      ]
     },
     "execution_count": 17,
     "metadata": {},
     "output_type": "execute_result"
    }
   ],
   "source": [
    "baseConverter(2,2)"
   ]
  },
  {
   "cell_type": "markdown",
   "metadata": {},
   "source": [
    "coin change problem"
   ]
  },
  {
   "cell_type": "code",
   "execution_count": 1,
   "metadata": {
    "collapsed": true
   },
   "outputs": [],
   "source": [
    "def coinChange(coinList,change):\n",
    "    minCoin = change\n",
    "    if change in coinList:\n",
    "        return 1\n",
    "    else:\n",
    "        changeList = []\n",
    "        for c in coinList:\n",
    "            if c <= change:\n",
    "                changeList.append(c)\n",
    "        for i in changeList:\n",
    "            numCoin = 1 + coinChange(coinList,change - i)\n",
    "            if numCoin < minCoin:\n",
    "                minCoin = numCoin\n",
    "            return minCoin"
   ]
  },
  {
   "cell_type": "code",
   "execution_count": 2,
   "metadata": {},
   "outputs": [
    {
     "data": {
      "text/plain": [
       "2"
      ]
     },
     "execution_count": 2,
     "metadata": {},
     "output_type": "execute_result"
    }
   ],
   "source": [
    "coinChange([1,5,10,25],26)"
   ]
  },
  {
   "cell_type": "code",
   "execution_count": 17,
   "metadata": {
    "collapsed": true
   },
   "outputs": [],
   "source": [
    "def coinChange1(coinList,change,knownvalues):  #memoization\n",
    "    minCoin = change\n",
    "    if change in coinList:\n",
    "        knownvalues[change] = 1\n",
    "        return 1\n",
    "    elif knownvalues[change] > 0:\n",
    "        return knownvalues[change]\n",
    "    else:\n",
    "        changeList = []\n",
    "        for c in coinList:\n",
    "            if c <= change:\n",
    "                changeList.append(c)\n",
    "        for i in changeList:\n",
    "            numCoin = 1 + coinChange1(coinList,change - i,knownvalues)\n",
    "            if numCoin < minCoin:\n",
    "                minCoin = numCoin \n",
    "                knownvalues[change] = minCoin\n",
    "        return minCoin\n",
    "\n",
    "        \n"
   ]
  },
  {
   "cell_type": "code",
   "execution_count": 18,
   "metadata": {},
   "outputs": [
    {
     "data": {
      "text/plain": [
       "2"
      ]
     },
     "execution_count": 18,
     "metadata": {},
     "output_type": "execute_result"
    }
   ],
   "source": [
    "coinChange1([1,5,10,25],26,[0]*27)"
   ]
  },
  {
   "cell_type": "code",
   "execution_count": 23,
   "metadata": {
    "collapsed": true
   },
   "outputs": [],
   "source": [
    "def shift(arr):\n",
    "    newArray = [0]* (len(arr))\n",
    "    \n",
    "    oldList = []\n",
    "    count = 0\n",
    "    i= 0\n",
    "    for ele in arr:\n",
    "        if ele !=0:\n",
    "            oldList.append(ele)\n",
    "    while len(oldList)< len(arr):\n",
    "        oldList.append(0)\n",
    "    print oldList\n",
    "            \n",
    "            "
   ]
  },
  {
   "cell_type": "code",
   "execution_count": 24,
   "metadata": {},
   "outputs": [
    {
     "name": "stdout",
     "output_type": "stream",
     "text": [
      "[1, 5, 10, 25, 9, 10, 3, 4, 0, 0, 0]\n"
     ]
    }
   ],
   "source": [
    "shift([1,0,5,0,10,25,0,9,10,3,4])"
   ]
  }
 ],
 "metadata": {
  "kernelspec": {
   "display_name": "Python 2",
   "language": "python",
   "name": "python2"
  },
  "language_info": {
   "codemirror_mode": {
    "name": "ipython",
    "version": 2
   },
   "file_extension": ".py",
   "mimetype": "text/x-python",
   "name": "python",
   "nbconvert_exporter": "python",
   "pygments_lexer": "ipython2",
   "version": "2.7.14"
  }
 },
 "nbformat": 4,
 "nbformat_minor": 2
}
