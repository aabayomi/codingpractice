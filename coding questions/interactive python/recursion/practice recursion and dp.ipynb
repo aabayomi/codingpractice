{
 "cells": [
  {
   "cell_type": "markdown",
   "metadata": {},
   "source": [
    "base converter using a stack"
   ]
  },
  {
   "cell_type": "code",
   "execution_count": 15,
   "metadata": {
    "collapsed": true
   },
   "outputs": [],
   "source": [
    "class Stack:\n",
    "    def __init__(self):\n",
    "        self.items = []\n",
    "    def push(self,item):\n",
    "        self.items.append(item)\n",
    "    def pop(self):\n",
    "        return self.items.pop()\n",
    "    def isEmpty(self):\n",
    "        return self.items == []\n",
    "    \n",
    "baseStack = Stack()\n",
    "def baseConverter(n,base):\n",
    "    convertSring = \"0123456789ABCDEF\"\n",
    "    \n",
    "    while n > 0:\n",
    "        if n < base:\n",
    "            baseStack.push(convertSring[n])\n",
    "        else:\n",
    "            baseStack.push(convertSring[n%base])\n",
    "        n = n // base\n",
    "    \n",
    "    newString = \"\"\n",
    "    while not baseStack.isEmpty():\n",
    "            newString = newString + str(baseStack.pop())\n",
    "    return newString"
   ]
  },
  {
   "cell_type": "code",
   "execution_count": 17,
   "metadata": {},
   "outputs": [
    {
     "data": {
      "text/plain": [
       "'10'"
      ]
     },
     "execution_count": 17,
     "metadata": {},
     "output_type": "execute_result"
    }
   ],
   "source": [
    "baseConverter(2,2)"
   ]
  },
  {
   "cell_type": "markdown",
   "metadata": {},
   "source": [
    "coin change problem"
   ]
  },
  {
   "cell_type": "code",
   "execution_count": 1,
   "metadata": {
    "collapsed": true
   },
   "outputs": [],
   "source": [
    "def coinChange(coinList,change):\n",
    "    minCoin = change\n",
    "    if change in coinList:\n",
    "        return 1\n",
    "    else:\n",
    "        changeList = []\n",
    "        for c in coinList:\n",
    "            if c <= change:\n",
    "                changeList.append(c)\n",
    "        for i in changeList:\n",
    "            numCoin = 1 + coinChange(coinList,change - i)\n",
    "            if numCoin < minCoin:\n",
    "                minCoin = numCoin\n",
    "            return minCoin"
   ]
  },
  {
   "cell_type": "code",
   "execution_count": 2,
   "metadata": {},
   "outputs": [
    {
     "data": {
      "text/plain": [
       "2"
      ]
     },
     "execution_count": 2,
     "metadata": {},
     "output_type": "execute_result"
    }
   ],
   "source": [
    "coinChange([1,5,10,25],26)"
   ]
  },
  {
   "cell_type": "code",
   "execution_count": 17,
   "metadata": {
    "collapsed": true
   },
   "outputs": [],
   "source": [
    "def coinChange1(coinList,change,knownvalues):  #memoization\n",
    "    minCoin = change\n",
    "    if change in coinList:\n",
    "        knownvalues[change] = 1\n",
    "        return 1\n",
    "    elif knownvalues[change] > 0:\n",
    "        return knownvalues[change]\n",
    "    else:\n",
    "        changeList = []\n",
    "        for c in coinList:\n",
    "            if c <= change:\n",
    "                changeList.append(c)\n",
    "        for i in changeList:\n",
    "            numCoin = 1 + coinChange1(coinList,change - i,knownvalues)\n",
    "            if numCoin < minCoin:\n",
    "                minCoin = numCoin \n",
    "                knownvalues[change] = minCoin\n",
    "        return minCoin\n",
    "\n",
    "        \n"
   ]
  },
  {
   "cell_type": "code",
   "execution_count": 18,
   "metadata": {},
   "outputs": [
    {
     "data": {
      "text/plain": [
       "2"
      ]
     },
     "execution_count": 18,
     "metadata": {},
     "output_type": "execute_result"
    }
   ],
   "source": [
    "coinChange1([1,5,10,25],26,[0]*27)"
   ]
  },
  {
   "cell_type": "code",
   "execution_count": 23,
   "metadata": {
    "collapsed": true
   },
   "outputs": [],
   "source": [
    "def shift(arr):\n",
    "    newArray = [0]* (len(arr))\n",
    "    \n",
    "    oldList = []\n",
    "    count = 0\n",
    "    i= 0\n",
    "    for ele in arr:\n",
    "        if ele !=0:\n",
    "            oldList.append(ele)\n",
    "    while len(oldList)< len(arr):\n",
    "        oldList.append(0)\n",
    "    print oldList\n",
    "            \n",
    "            "
   ]
  },
  {
   "cell_type": "code",
   "execution_count": 24,
   "metadata": {},
   "outputs": [
    {
     "name": "stdout",
     "output_type": "stream",
     "text": [
      "[1, 5, 10, 25, 9, 10, 3, 4, 0, 0, 0]\n"
     ]
    }
   ],
   "source": [
    "shift([1,0,5,0,10,25,0,9,10,3,4])"
   ]
  },
  {
   "cell_type": "code",
   "execution_count": null,
   "metadata": {
    "collapsed": true
   },
   "outputs": [],
   "source": []
  },
  {
   "cell_type": "markdown",
   "metadata": {},
   "source": [
    "Recursion Exercises \n",
    "https://www.python-course.eu/recursive_functions.php"
   ]
  },
  {
   "cell_type": "markdown",
   "metadata": {},
   "source": [
    "Q1: Think of a recusive version of the function f(n) = 3 * n, i.e. the multiples of 3"
   ]
  },
  {
   "cell_type": "code",
   "execution_count": 7,
   "metadata": {},
   "outputs": [],
   "source": [
    "def threeMultiple(n):\n",
    "    if n == 0:\n",
    "        return 0\n",
    "    if n == 1:\n",
    "        return 3\n",
    "    else:\n",
    "        return threeMultiple(n-1) + 3   \n",
    "# for i in range(1,10):\n",
    "#     print (threeMultiple(i))"
   ]
  },
  {
   "cell_type": "code",
   "execution_count": 9,
   "metadata": {},
   "outputs": [
    {
     "data": {
      "text/plain": [
       "6"
      ]
     },
     "execution_count": 9,
     "metadata": {},
     "output_type": "execute_result"
    }
   ],
   "source": [
    "threeMultiple(2)"
   ]
  },
  {
   "cell_type": "markdown",
   "metadata": {},
   "source": [
    "Q2: Write a recursive Python function that returns the sum of the first n integers. \n",
    "(Hint: The function will be similiar to the factorial function!)"
   ]
  },
  {
   "cell_type": "code",
   "execution_count": 10,
   "metadata": {
    "collapsed": true
   },
   "outputs": [],
   "source": [
    "def allSum(n):\n",
    "    if n == 0:\n",
    "        return 0\n",
    "    if n == 1:\n",
    "        return 1\n",
    "    else:\n",
    "        return n + allSum(n-1)"
   ]
  },
  {
   "cell_type": "code",
   "execution_count": 16,
   "metadata": {},
   "outputs": [
    {
     "data": {
      "text/plain": [
       "55"
      ]
     },
     "execution_count": 16,
     "metadata": {},
     "output_type": "execute_result"
    }
   ],
   "source": [
    "allSum(10)"
   ]
  },
  {
   "cell_type": "markdown",
   "metadata": {},
   "source": [
    "Q3: Write a function which implements the Pascal's triangle:"
   ]
  },
  {
   "cell_type": "code",
   "execution_count": 25,
   "metadata": {
    "collapsed": true
   },
   "outputs": [],
   "source": [
    "def pascalTrig(n):\n",
    "    if n == 1:\n",
    "        return [1]\n",
    "    else:\n",
    "        line = [1]\n",
    "        prev_line = pascalTrig(n-1)\n",
    "        for i in range(len(prev_line) -1):\n",
    "            line.append(prev_line[i] + prev_line[i+1])\n",
    "        line += [1]\n",
    "    return line "
   ]
  },
  {
   "cell_type": "code",
   "execution_count": 26,
   "metadata": {},
   "outputs": [
    {
     "data": {
      "text/plain": [
       "[1, 2, 1]"
      ]
     },
     "execution_count": 26,
     "metadata": {},
     "output_type": "execute_result"
    }
   ],
   "source": [
    "pascalTrig(3)"
   ]
  },
  {
   "cell_type": "markdown",
   "metadata": {},
   "source": [
    "Recursion using Memoization "
   ]
  },
  {
   "cell_type": "code",
   "execution_count": 4,
   "metadata": {
    "collapsed": true
   },
   "outputs": [],
   "source": [
    "memo = {0:0, 1:1}\n",
    "numbers = [0,1]\n",
    "def fibm(n):\n",
    "    if not n in memo:\n",
    "        memo[n] = fibm(n-1) + fibm(n-2)\n",
    "    print memo\n",
    "    return memo[n]"
   ]
  },
  {
   "cell_type": "code",
   "execution_count": 5,
   "metadata": {},
   "outputs": [
    {
     "name": "stdout",
     "output_type": "stream",
     "text": [
      "{0: 0, 1: 1}\n",
      "{0: 0, 1: 1}\n",
      "{0: 0, 1: 1, 2: 1}\n",
      "{0: 0, 1: 1, 2: 1}\n",
      "{0: 0, 1: 1, 2: 1, 3: 2}\n"
     ]
    },
    {
     "data": {
      "text/plain": [
       "2"
      ]
     },
     "execution_count": 5,
     "metadata": {},
     "output_type": "execute_result"
    }
   ],
   "source": [
    "fibm(3)"
   ]
  },
  {
   "cell_type": "code",
   "execution_count": null,
   "metadata": {
    "collapsed": true
   },
   "outputs": [],
   "source": []
  },
  {
   "cell_type": "code",
   "execution_count": 8,
   "metadata": {},
   "outputs": [
    {
     "name": "stdout",
     "output_type": "stream",
     "text": [
      "1\n",
      "1\n",
      "2\n",
      "3\n",
      "5\n",
      "8\n",
      "13\n",
      "21\n",
      "34\n"
     ]
    }
   ],
   "source": [
    "def fib_pascal(n,fib_pos):\n",
    "    if n == 1:\n",
    "        line = [1]\n",
    "        fib_sum = 1 if fib_pos == 0 else 0\n",
    "    else:\n",
    "        line = [1]\n",
    "        (previous_line, fib_sum) = fib_pascal(n-1, fib_pos+1)\n",
    "        for i in range(len(previous_line)-1):\n",
    "            line.append(previous_line[i] + previous_line[i+1])\n",
    "        line += [1]\n",
    "        if fib_pos < len(line):\n",
    "            fib_sum += line[fib_pos]\n",
    "    return (line, fib_sum)\n",
    "\n",
    "def fib(n):\n",
    "    return fib_pascal(n,0)[1]\n",
    "\n",
    "# and now printing out the first ten Fibonacci numbers:\n",
    "for i in range(1,10):\n",
    "    print(fib(i))"
   ]
  },
  {
   "cell_type": "code",
   "execution_count": 112,
   "metadata": {},
   "outputs": [],
   "source": [
    "def OneCount(N):\n",
    "    Bin = bin(N)\n",
    "    BinList = list(Bin)\n",
    "    Bin2 = BinList[2:] \n",
    "    length = len(Bin2)\n",
    "   \n",
    "    ma= 0\n",
    "    i = 0\n",
    "    count = 0\n",
    "    while i < length:\n",
    "        if Bin2[i] == \"0\":\n",
    "            count = 0\n",
    "        else:\n",
    "            count += 1\n",
    "        i += 1\n",
    "        ma = max(count,ma)\n",
    "    print ma  \n",
    "        \n"
   ]
  },
  {
   "cell_type": "code",
   "execution_count": 113,
   "metadata": {},
   "outputs": [
    {
     "name": "stdout",
     "output_type": "stream",
     "text": [
      "2\n"
     ]
    }
   ],
   "source": [
    "OneCount(13)"
   ]
  }
 ],
 "metadata": {
  "kernelspec": {
   "display_name": "Python 2",
   "language": "python",
   "name": "python2"
  },
  "language_info": {
   "codemirror_mode": {
    "name": "ipython",
    "version": 2
   },
   "file_extension": ".py",
   "mimetype": "text/x-python",
   "name": "python",
   "nbconvert_exporter": "python",
   "pygments_lexer": "ipython2",
   "version": "2.7.14"
  }
 },
 "nbformat": 4,
 "nbformat_minor": 2
}
