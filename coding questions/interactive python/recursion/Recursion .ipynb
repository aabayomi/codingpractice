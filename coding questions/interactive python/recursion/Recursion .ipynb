{
 "cells": [
  {
   "cell_type": "code",
   "execution_count": 5,
   "metadata": {
    "collapsed": true
   },
   "outputs": [],
   "source": [
    "def addList(l):\n",
    "    addSum = 0\n",
    "    for i in l:\n",
    "        addSum = addSum + i\n",
    "    return addSum\n",
    "def addList2(l):\n",
    "    if len(l) == 1:\n",
    "        return l[0]\n",
    "    else:\n",
    "        return l[0]+addList(l[1:])"
   ]
  },
  {
   "cell_type": "code",
   "execution_count": 6,
   "metadata": {},
   "outputs": [
    {
     "name": "stdout",
     "output_type": "stream",
     "text": [
      "25\n",
      "25\n"
     ]
    }
   ],
   "source": [
    "print addList([1,3,5,7,9])\n",
    "print addList2([1,3,5,7,9])"
   ]
  },
  {
   "cell_type": "code",
   "execution_count": 1,
   "metadata": {
    "collapsed": true
   },
   "outputs": [],
   "source": [
    "def toString(n,base):\n",
    "    convertString =\"0123456789ABCDEF\"\n",
    "    if n < base:\n",
    "        return convertString[n]\n",
    "    else:\n",
    "        return toString(n//base,base) + convertString[n%base]"
   ]
  },
  {
   "cell_type": "code",
   "execution_count": 8,
   "metadata": {
    "collapsed": true
   },
   "outputs": [],
   "source": [
    "def reverseString(wordstring):\n",
    "    if len(wordstring) == 1:\n",
    "        return wordstring[0]\n",
    "    else:\n",
    "        return reverseString(wordstring[1:]) + wordstring[0] \n",
    "    "
   ]
  },
  {
   "cell_type": "code",
   "execution_count": 9,
   "metadata": {},
   "outputs": [
    {
     "name": "stdout",
     "output_type": "stream",
     "text": [
      "imoyaba\n"
     ]
    }
   ],
   "source": [
    "print reverseString(\"abayomi\")"
   ]
  },
  {
   "cell_type": "code",
   "execution_count": 6,
   "metadata": {
    "collapsed": true
   },
   "outputs": [],
   "source": [
    "def reverseString2(wordstring):  # Palindrome check \n",
    "#     wordstring = wordstring.replace(' ','')\n",
    "    \n",
    "    if len(wordstring) == 1:\n",
    "        return wordstring[0]\n",
    "    else:\n",
    "        return reverseString2(wordstring[1:]) + wordstring[0]\n",
    "    \n",
    "def palindromeCheck(wordstring):\n",
    "    wordstring = wordstring.replace(' ','')\n",
    "    if reverseString2(wordstring) == wordstring:\n",
    "        return True\n",
    "    else:\n",
    "        return False"
   ]
  },
  {
   "cell_type": "code",
   "execution_count": 7,
   "metadata": {},
   "outputs": [
    {
     "name": "stdout",
     "output_type": "stream",
     "text": [
      "False\n",
      "True\n",
      "False\n",
      "False\n",
      "madami'madam\n"
     ]
    }
   ],
   "source": [
    "print palindromeCheck(\"madam i'm adam\")\n",
    "print palindromeCheck(\"aibohphobia\")\n",
    "print palindromeCheck(\"Live not on evil\")\n",
    "print palindromeCheck(\"Reviled did I live, said I, as evil I did deliver\")\n",
    "\n",
    "string = \"madam i'm adam\"\n",
    "string = string.replace(' ','')\n",
    "print string"
   ]
  },
  {
   "cell_type": "code",
   "execution_count": 8,
   "metadata": {
    "collapsed": true
   },
   "outputs": [],
   "source": [
    "from pythonds.basic.stack import Stack   # using stack to convert number to string\n",
    "\n",
    "rStack = Stack()\n",
    "def toStr(n,base):\n",
    "    convertString = \"0123456789ABCDEF\"\n",
    "    while n >0:\n",
    "        if n < base:\n",
    "            rStack.push(convertString[n])\n",
    "        else:\n",
    "            rStack.push(convertString[n%base])\n",
    "        n = n // base\n",
    "    res = \"\"\n",
    "    while not rStack.isEmpty():\n",
    "        res = res + str(rStack.pop())\n",
    "    return res\n",
    "        \n",
    "    "
   ]
  },
  {
   "cell_type": "code",
   "execution_count": 9,
   "metadata": {
    "collapsed": true
   },
   "outputs": [],
   "source": [
    "import turtle\n",
    "\n",
    "myTurtle = turtle.Turtle()\n",
    "myWin = turtle.Screen()\n",
    "\n",
    "def drawSpiral(myTurtle, lineLen):\n",
    "    if lineLen > 0:\n",
    "        myTurtle.forward(lineLen)\n",
    "        myTurtle.right(90)\n",
    "        drawSpiral(myTurtle,lineLen-5)\n",
    "\n",
    "drawSpiral(myTurtle,100)\n",
    "myWin.exitonclick()"
   ]
  },
  {
   "cell_type": "markdown",
   "metadata": {},
   "source": [
    "sierpinki triangle"
   ]
  },
  {
   "cell_type": "code",
   "execution_count": null,
   "metadata": {
    "collapsed": true
   },
   "outputs": [],
   "source": [
    "import turtle\n",
    "\n",
    "def drawTriangle(points,color,myTurtle):\n",
    "    myTurtle.fillcolor(color)\n",
    "    myTurtle.up()\n",
    "    myTurtle.goto(points[0][0],points[0][1])\n",
    "    myTurtle.down()\n",
    "    myTurtle.begin_fill()\n",
    "    myTurtle.goto(points[1][0],points[1][1])\n",
    "    myTurtle.goto(points[2][0],points[2][1])\n",
    "    myTurtle.goto(points[0][0],points[0][1])\n",
    "    myTurtle.end_fill()\n",
    "\n",
    "def getMid(p1,p2):\n",
    "    return ( (p1[0]+p2[0]) / 2, (p1[1] + p2[1]) / 2)\n",
    "\n",
    "def sierpinski(points,degree,myTurtle):\n",
    "    colormap = ['blue','red','green','white','yellow',\n",
    "                'violet','orange']\n",
    "    drawTriangle(points,colormap[degree],myTurtle)\n",
    "    if degree > 0:\n",
    "        sierpinski([points[0],\n",
    "                        getMid(points[0], points[1]),\n",
    "                        getMid(points[0], points[2])],\n",
    "                   degree-1, myTurtle)\n",
    "        sierpinski([points[1],\n",
    "                        getMid(points[0], points[1]),\n",
    "                        getMid(points[1], points[2])],\n",
    "                   degree-1, myTurtle)\n",
    "        sierpinski([points[2],\n",
    "                        getMid(points[2], points[1]),\n",
    "                        getMid(points[0], points[2])],\n",
    "                   degree-1, myTurtle)\n",
    "\n",
    "def main():\n",
    "   myTurtle = turtle.Turtle()\n",
    "   myWin = turtle.Screen()\n",
    "   myPoints = [[-100,-50],[0,100],[100,-50]]\n",
    "   sierpinski(myPoints,3,myTurtle)\n",
    "   myWin.exitonclick()\n",
    "\n",
    "main()\n",
    "\n"
   ]
  },
  {
   "cell_type": "code",
   "execution_count": null,
   "metadata": {
    "collapsed": true
   },
   "outputs": [],
   "source": [
    "Tower Of Hanoi"
   ]
  },
  {
   "cell_type": "code",
   "execution_count": 1,
   "metadata": {
    "collapsed": true
   },
   "outputs": [],
   "source": [
    "def moveTower(height,fromPole,toPole,withPole):\n",
    "    if height >= 1:\n",
    "        moveTower(height-1,fromPole,withPole,toPole)\n",
    "        moveDisk(fromPole,toPole)\n",
    "        moveTower(height-1,withPole,toPole,fromPole)\n",
    "def moveDisk(fp,tp):\n",
    "    print \"moving disk from\",fp,\"to\",tp"
   ]
  },
  {
   "cell_type": "code",
   "execution_count": 2,
   "metadata": {},
   "outputs": [
    {
     "name": "stdout",
     "output_type": "stream",
     "text": [
      "moving disk from A to B\n",
      "moving disk from A to C\n",
      "moving disk from B to C\n",
      "moving disk from A to B\n",
      "moving disk from C to A\n",
      "moving disk from C to B\n",
      "moving disk from A to B\n",
      "moving disk from A to C\n",
      "moving disk from B to C\n",
      "moving disk from B to A\n",
      "moving disk from C to A\n",
      "moving disk from B to C\n",
      "moving disk from A to B\n",
      "moving disk from A to C\n",
      "moving disk from B to C\n",
      "moving disk from A to B\n",
      "moving disk from C to A\n",
      "moving disk from C to B\n",
      "moving disk from A to B\n",
      "moving disk from C to A\n",
      "moving disk from B to C\n",
      "moving disk from B to A\n",
      "moving disk from C to A\n",
      "moving disk from C to B\n",
      "moving disk from A to B\n",
      "moving disk from A to C\n",
      "moving disk from B to C\n",
      "moving disk from A to B\n",
      "moving disk from C to A\n",
      "moving disk from C to B\n",
      "moving disk from A to B\n"
     ]
    }
   ],
   "source": [
    "moveTower(5,\"A\",\"B\",\"C\")"
   ]
  },
  {
   "cell_type": "markdown",
   "metadata": {},
   "source": [
    "Exploring a maze"
   ]
  },
  {
   "cell_type": "code",
   "execution_count": null,
   "metadata": {
    "collapsed": true
   },
   "outputs": [],
   "source": [
    "import turtle\n",
    "\n",
    "PART_OF_PATH = 'O'\n",
    "TRIED = '.'\n",
    "OBSTACLE = '+'\n",
    "DEAD_END = '-'\n",
    "\n",
    "class Maze:\n",
    "    def __init__(self,mazeFileName):\n",
    "        rowsInMaze = 0\n",
    "        columnsInMaze = 0\n",
    "        self.mazelist = []\n",
    "        mazeFile = open(mazeFileName,'r')\n",
    "        rowsInMaze = 0\n",
    "        for line in mazeFile:\n",
    "            rowList = []\n",
    "            col = 0\n",
    "            for ch in line[:-1]:\n",
    "                rowList.append(ch)\n",
    "                if ch == 'S':\n",
    "                    self.startRow = rowsInMaze\n",
    "                    self.startCol = col\n",
    "                col = col + 1\n",
    "            rowsInMaze = rowsInMaze + 1\n",
    "            self.mazelist.append(rowList)\n",
    "            columnsInMaze = len(rowList)\n",
    "\n",
    "        self.rowsInMaze = rowsInMaze\n",
    "        self.columnsInMaze = columnsInMaze\n",
    "        self.xTranslate = -columnsInMaze/2\n",
    "        self.yTranslate = rowsInMaze/2\n",
    "        self.t = turtle.Turtle()\n",
    "        self.t.shape('turtle')\n",
    "        self.wn = turtle.Screen()\n",
    "        self.wn.setworldcoordinates(-(columnsInMaze-1)/2-.5,-(rowsInMaze-1)/2-.5,(columnsInMaze-1)/2+.5,(rowsInMaze-1)/2+.5)\n",
    "\n",
    "    def drawMaze(self):\n",
    "        self.t.speed(10)\n",
    "        self.wn.tracer(0)\n",
    "        for y in range(self.rowsInMaze):\n",
    "            for x in range(self.columnsInMaze):\n",
    "                if self.mazelist[y][x] == OBSTACLE:\n",
    "                    self.drawCenteredBox(x+self.xTranslate,-y+self.yTranslate,'orange')\n",
    "        self.t.color('black')\n",
    "        self.t.fillcolor('blue')\n",
    "        self.wn.update()\n",
    "        self.wn.tracer(1)\n",
    "\n",
    "    def drawCenteredBox(self,x,y,color):\n",
    "        self.t.up()\n",
    "        self.t.goto(x-.5,y-.5)\n",
    "        self.t.color(color)\n",
    "        self.t.fillcolor(color)\n",
    "        self.t.setheading(90)\n",
    "        self.t.down()\n",
    "        self.t.begin_fill()\n",
    "        for i in range(4):\n",
    "            self.t.forward(1)\n",
    "            self.t.right(90)\n",
    "        self.t.end_fill()\n",
    "\n",
    "    def moveTurtle(self,x,y):\n",
    "        self.t.up()\n",
    "        self.t.setheading(self.t.towards(x+self.xTranslate,-y+self.yTranslate))\n",
    "        self.t.goto(x+self.xTranslate,-y+self.yTranslate)\n",
    "\n",
    "    def dropBreadcrumb(self,color):\n",
    "        self.t.dot(10,color)\n",
    "\n",
    "    def updatePosition(self,row,col,val=None):\n",
    "        if val:\n",
    "            self.mazelist[row][col] = val\n",
    "        self.moveTurtle(col,row)\n",
    "\n",
    "        if val == PART_OF_PATH:\n",
    "            color = 'green'\n",
    "        elif val == OBSTACLE:\n",
    "            color = 'red'\n",
    "        elif val == TRIED:\n",
    "            color = 'black'\n",
    "        elif val == DEAD_END:\n",
    "            color = 'red'\n",
    "        else:\n",
    "            color = None\n",
    "\n",
    "        if color:\n",
    "            self.dropBreadcrumb(color)\n",
    "\n",
    "    def isExit(self,row,col):\n",
    "        return (row == 0 or\n",
    "                row == self.rowsInMaze-1 or\n",
    "                col == 0 or\n",
    "                col == self.columnsInMaze-1 )\n",
    "\n",
    "    def __getitem__(self,idx):\n",
    "        return self.mazelist[idx]\n",
    "\n",
    "\n",
    "def searchFrom(maze, startRow, startColumn):\n",
    "    # try each of four directions from this point until we find a way out.\n",
    "    # base Case return values:\n",
    "    #  1. We have run into an obstacle, return false\n",
    "    maze.updatePosition(startRow, startColumn)\n",
    "    if maze[startRow][startColumn] == OBSTACLE :\n",
    "        return False\n",
    "    #  2. We have found a square that has already been explored\n",
    "    if maze[startRow][startColumn] == TRIED or maze[startRow][startColumn] == DEAD_END:\n",
    "        return False\n",
    "    # 3. We have found an outside edge not occupied by an obstacle\n",
    "    if maze.isExit(startRow,startColumn):\n",
    "        maze.updatePosition(startRow, startColumn, PART_OF_PATH)\n",
    "        return True\n",
    "    maze.updatePosition(startRow, startColumn, TRIED)\n",
    "    # Otherwise, use logical short circuiting to try each direction\n",
    "    # in turn (if needed)\n",
    "    found = searchFrom(maze, startRow-1, startColumn) or \\\n",
    "            searchFrom(maze, startRow+1, startColumn) or \\\n",
    "            searchFrom(maze, startRow, startColumn-1) or \\\n",
    "            searchFrom(maze, startRow, startColumn+1)\n",
    "    if found:\n",
    "        maze.updatePosition(startRow, startColumn, PART_OF_PATH)\n",
    "    else:\n",
    "        maze.updatePosition(startRow, startColumn, DEAD_END)\n",
    "    return found\n",
    "\n",
    "\n",
    "myMaze = Maze('maze2.txt')\n",
    "myMaze.drawMaze()\n",
    "myMaze.updatePosition(myMaze.startRow,myMaze.startCol)\n",
    "\n",
    "searchFrom(myMaze, myMaze.startRow, myMaze.startCol)\n"
   ]
  },
  {
   "cell_type": "markdown",
   "metadata": {},
   "source": [
    "++++++++++++++++++++++\n",
    "+   +   ++ ++        +\n",
    "      +     ++++++++++\n",
    "+ +    ++  ++++ +++ ++\n",
    "+ +   + + ++    +++  +\n",
    "+          ++  ++  + +\n",
    "+++++ + +      ++  + +\n",
    "+++++ +++  + +  ++   +\n",
    "+          + + S+ +  +\n",
    "+++++ +  + + +     + +\n",
    "++++++++++++++++++++++"
   ]
  }
 ],
 "metadata": {
  "kernelspec": {
   "display_name": "Python 2",
   "language": "python",
   "name": "python2"
  },
  "language_info": {
   "codemirror_mode": {
    "name": "ipython",
    "version": 2
   },
   "file_extension": ".py",
   "mimetype": "text/x-python",
   "name": "python",
   "nbconvert_exporter": "python",
   "pygments_lexer": "ipython2",
   "version": "2.7.14"
  }
 },
 "nbformat": 4,
 "nbformat_minor": 2
}
