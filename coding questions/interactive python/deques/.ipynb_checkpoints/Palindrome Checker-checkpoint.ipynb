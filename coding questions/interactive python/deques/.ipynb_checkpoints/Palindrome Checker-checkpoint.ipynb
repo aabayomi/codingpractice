{
 "cells": [
  {
   "cell_type": "code",
   "execution_count": 8,
   "metadata": {
    "collapsed": true
   },
   "outputs": [],
   "source": [
    "# Deque Implementation\n",
    "class Deque:\n",
    "    def __init__(self):\n",
    "        self.items = []\n",
    "    def addRear(self,item):\n",
    "        self.items.insert(0,item)\n",
    "    def addFront(self,item):\n",
    "        self.items.append(item)\n",
    "    def removeRear(self):\n",
    "        return self.items.pop(0)\n",
    "    def removeFront(self):\n",
    "        return self.items.pop()\n",
    "    def isEmpty(self):\n",
    "        return self.items == []\n",
    "    def size(self):\n",
    "        return len(self.items)"
   ]
  },
  {
   "cell_type": "code",
   "execution_count": 9,
   "metadata": {
    "collapsed": true
   },
   "outputs": [],
   "source": [
    "def palCheacker(string):\n",
    "    \n",
    "    stringDeque = Deque()\n",
    "    \n",
    "    for char in string:\n",
    "        stringDeque.addRear(char)\n",
    "        \n",
    "    stillEqual = True\n",
    "    \n",
    "    while stringDeque.size() > 1 and stillEqual:\n",
    "        first = stringDeque.removeFront()\n",
    "        last = stringDeque.removeRear()\n",
    "        \n",
    "        if first != last:\n",
    "            return False\n",
    "    return stillEqual\n",
    "    "
   ]
  },
  {
   "cell_type": "code",
   "execution_count": 10,
   "metadata": {},
   "outputs": [
    {
     "name": "stdout",
     "output_type": "stream",
     "text": [
      "False\n",
      "True\n"
     ]
    }
   ],
   "source": [
    "print palCheacker(\"lsdkjfskf\")\n",
    "print palCheacker(\"radar\")"
   ]
  }
 ],
 "metadata": {
  "kernelspec": {
   "display_name": "Python 2",
   "language": "python",
   "name": "python2"
  },
  "language_info": {
   "codemirror_mode": {
    "name": "ipython",
    "version": 2
   },
   "file_extension": ".py",
   "mimetype": "text/x-python",
   "name": "python",
   "nbconvert_exporter": "python",
   "pygments_lexer": "ipython2",
   "version": "2.7.14"
  }
 },
 "nbformat": 4,
 "nbformat_minor": 2
}
