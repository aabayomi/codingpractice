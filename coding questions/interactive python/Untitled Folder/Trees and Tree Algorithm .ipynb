{
 "cells": [
  {
   "cell_type": "code",
   "execution_count": 15,
   "metadata": {
    "collapsed": true
   },
   "outputs": [],
   "source": [
    "def BinaryTree(r):\n",
    "    return [r,[],[]]\n",
    "def insertLeft(root,newBranch):\n",
    "    t = root.pop(1)\n",
    "    if len(t) > 1:\n",
    "        root.insert(1,[newBranch,t,[]])\n",
    "    else:\n",
    "        root.insert(1,[newBranch,[],[]])\n",
    "    return root\n",
    "def insertRight(root,newBranch):\n",
    "    t=root.pop(2)\n",
    "    if len(t) > 1:\n",
    "        root.insert(2,[newBranch,[],t])\n",
    "    else:\n",
    "        root.insert(2,[newBranch,[],[]])\n",
    "    return root\n",
    "\n",
    "def getRootVal(root):\n",
    "    return root[0]\n",
    "def setRootVal(root,newVal):\n",
    "    root[0] = newVal\n",
    "    \n",
    "def getLeftChild(root):\n",
    "    return root[1]\n",
    "def getRightChild(root):\n",
    "    return root[2]\n",
    "\n",
    "        "
   ]
  },
  {
   "cell_type": "code",
   "execution_count": 25,
   "metadata": {},
   "outputs": [
    {
     "name": "stdout",
     "output_type": "stream",
     "text": [
      "[3, [5, [4, [], []], []], [7, [], [6, [], []]]]\n",
      "\n",
      "[5, [4, [], []], []]\n",
      "[9, [4, [], []], []]\n",
      "[3, [9, [4, [], []], []], [7, [], [6, [], []]]]\n",
      "\n",
      "[3, [9, [11, [4, [], []], []], []], [7, [], [6, [], []]]]\n",
      "\n",
      "[6, [], []]\n"
     ]
    }
   ],
   "source": [
    "r = BinaryTree(3)\n",
    "# print r\n",
    "insertLeft(r,4)\n",
    "# print r \n",
    "insertLeft(r,5)\n",
    "insertRight(r,6)\n",
    "insertRight(r,7)\n",
    "print r\n",
    "print \n",
    "l = getLeftChild(r)\n",
    "print(l)\n",
    "setRootVal(l,9)\n",
    "print(l)\n",
    "print r\n",
    "insertLeft(l,11)\n",
    "print \n",
    "print(r)\n",
    "print \n",
    "print(getRightChild(getRightChild(r)))\n",
    "\n",
    "# print \n",
    "# print(r)\n",
    "\n"
   ]
  },
  {
   "cell_type": "code",
   "execution_count": 27,
   "metadata": {},
   "outputs": [
    {
     "name": "stdout",
     "output_type": "stream",
     "text": [
      "['a', ['b', [], []], ['c', [], ['d', ['e', [], []], []]]]\n"
     ]
    }
   ],
   "source": [
    "x = BinaryTree('a')\n",
    "insertLeft(x,'b')\n",
    "insertRight(x,'c')\n",
    "insertRight(getRightChild(x),'d')\n",
    "insertLeft(getRightChild(getRightChild(x)),'e')\n",
    "print x"
   ]
  },
  {
   "cell_type": "code",
   "execution_count": null,
   "metadata": {
    "collapsed": true
   },
   "outputs": [],
   "source": [
    "from test import testEqual\n",
    "\n",
    "def buildTree(r):\n",
    "    return [r,[],[]]\n",
    "\n",
    "def insertLeft(root,newBranch):\n",
    "    t = root.pop(1)\n",
    "    if len(t) > 1:\n",
    "        root.insert(1,[newBranch,])\n",
    "        \n",
    "        \n",
    "    else:\n",
    "        root.insert(1,[newBranch,[],[]])\n",
    "        \n",
    "    return root\n",
    "\n",
    "ttree = buildTree()\n",
    "testEqual(getRootVal(getRightChild(ttree)),'c')\n",
    "testEqual(getRootVal(getRightChild(getLeftChild(ttree))),'d')\n",
    "testEqual(getRootVal(getRightChild(getRightChild(ttree))),'f')\n",
    "\n"
   ]
  },
  {
   "cell_type": "code",
   "execution_count": null,
   "metadata": {
    "collapsed": true
   },
   "outputs": [],
   "source": [
    "import heapq\n",
    "\n"
   ]
  }
 ],
 "metadata": {
  "kernelspec": {
   "display_name": "Python 2",
   "language": "python",
   "name": "python2"
  },
  "language_info": {
   "codemirror_mode": {
    "name": "ipython",
    "version": 2
   },
   "file_extension": ".py",
   "mimetype": "text/x-python",
   "name": "python",
   "nbconvert_exporter": "python",
   "pygments_lexer": "ipython2",
   "version": "2.7.14"
  }
 },
 "nbformat": 4,
 "nbformat_minor": 2
}
