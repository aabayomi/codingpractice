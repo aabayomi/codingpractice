{
 "cells": [
  {
   "cell_type": "markdown",
   "metadata": {},
   "source": [
    "Learning Matrix"
   ]
  },
  {
   "cell_type": "code",
   "execution_count": 5,
   "metadata": {},
   "outputs": [
    {
     "name": "stdout",
     "output_type": "stream",
     "text": [
      "[[0, 0, 0, 0], [0, 0, 0, 0], [0, 0, 0, 0], [0, 0, 0, 0]]\n"
     ]
    }
   ],
   "source": [
    "n = 4  # rows \n",
    "m = 4  # columns\n",
    "\n",
    "a = [0] * n\n",
    "for i in range(n):  # iterate by the number of rows \n",
    "    a[i] = [0] * m\n",
    "print a"
   ]
  },
  {
   "cell_type": "code",
   "execution_count": null,
   "metadata": {
    "collapsed": true
   },
   "outputs": [],
   "source": []
  },
  {
   "cell_type": "code",
   "execution_count": null,
   "metadata": {
    "collapsed": true
   },
   "outputs": [],
   "source": []
  },
  {
   "cell_type": "code",
   "execution_count": null,
   "metadata": {
    "collapsed": true
   },
   "outputs": [],
   "source": []
  },
  {
   "cell_type": "code",
   "execution_count": 1,
   "metadata": {
    "collapsed": true
   },
   "outputs": [],
   "source": [
    "import random\n",
    "\n",
    "def generate_one(string_len):\n",
    "    alphabet =\"abcdefghijklmnopqrstuvwxyz \"\n",
    "    res = \"\"\n",
    "   \n",
    "    for i in range(string_len):\n",
    "        res = res + alphabet[random.randrange(27)]\n",
    "    return res\n",
    "        \n",
    "    \n",
    "def score(goal,teststring):\n",
    "    numSame = 0\n",
    "    for i in range(len(goal)):\n",
    "        if goal[i]== teststring[i]:\n",
    "            numSame +=1\n",
    "    return numSame / len(goal)\n",
    "\n",
    "def main():\n",
    "    goalstring =\"methinks it is like a weasel\"\n",
    "    newstring = generate_one(28)\n",
    "    \n",
    "    best =0\n",
    "    one_best =0\n",
    "    newscore = score(goalstring,newstring)\n",
    "    \n",
    "    while newscore <1:\n",
    "        if newscore >= best:\n",
    "            print newscore,newstring \n",
    "            best = newscore\n",
    "            one_best +=1\n",
    "        if one_best%1000000 == 0:\n",
    "            print newscore\n",
    "            \n",
    "        newstring = generate_one(28)\n",
    "        newscore = score(goalstring,newstring)\n",
    "        \n",
    "        \n",
    "main()\n",
    "    "
   ]
  },
  {
   "cell_type": "code",
   "execution_count": null,
   "metadata": {
    "collapsed": true
   },
   "outputs": [],
   "source": []
  },
  {
   "cell_type": "code",
   "execution_count": 5,
   "metadata": {},
   "outputs": [
    {
     "data": {
      "text/plain": [
       "'tv'"
      ]
     },
     "execution_count": 5,
     "metadata": {},
     "output_type": "execute_result"
    }
   ],
   "source": [
    "generate_one(2)"
   ]
  },
  {
   "cell_type": "code",
   "execution_count": 12,
   "metadata": {
    "collapsed": true
   },
   "outputs": [],
   "source": [
    "def reverse(chars):\n",
    "        # TODO: Implement me\n",
    "        \n",
    "        if chars == \"\":\n",
    "            raise TypeError (\"Invalid \")\n",
    "        \n",
    "        if chars == []:\n",
    "            return \"\"\n",
    "    \n",
    "        length =len(chars)\n",
    "        \n",
    "        reversed_string =[]\n",
    "        \n",
    "        for i in range(0,length,-1):\n",
    "            reversed_string.append(chars[i])\n",
    "        return reversed_string\n",
    "        pass\n",
    "        "
   ]
  },
  {
   "cell_type": "code",
   "execution_count": 13,
   "metadata": {},
   "outputs": [
    {
     "data": {
      "text/plain": [
       "[]"
      ]
     },
     "execution_count": 13,
     "metadata": {},
     "output_type": "execute_result"
    }
   ],
   "source": [
    "reverse(['f', 'o', 'o', ' ', 'b', 'a', 'r'])"
   ]
  },
  {
   "cell_type": "code",
   "execution_count": 30,
   "metadata": {
    "collapsed": true
   },
   "outputs": [],
   "source": [
    "def gcd (m,n):\n",
    "    while m%n !=0:\n",
    "        oldm = m\n",
    "        oldn = n\n",
    "            \n",
    "        m =oldn\n",
    "        n = oldm%oldn\n",
    "    return n\n",
    "    "
   ]
  },
  {
   "cell_type": "code",
   "execution_count": 44,
   "metadata": {
    "collapsed": true
   },
   "outputs": [],
   "source": [
    "class Fraction:\n",
    "    \n",
    "    # firstly a defination of a constructor in  class\n",
    "    def __init__(self ,top,bottom):\n",
    "        \n",
    "        self.num = top\n",
    "        self.dem = bottom\n",
    "        \n",
    "    def show(self):\n",
    "        print self.num,\"/\", self.dem\n",
    "        \n",
    "    def __str__(self):\n",
    "        return str(self.num) + \"/\" + str(self.dem)\n",
    "    \n",
    "    \n",
    "#     def gcd (m,n):\n",
    "#         while m%n !=0:\n",
    "#             oldm = m\n",
    "#             oldn = n\n",
    "            \n",
    "#             m =oldn\n",
    "#             n = oldm%oldn\n",
    "#         return n\n",
    "    \n",
    "    \n",
    "    def __add__(self,otherfraction):\n",
    "        \n",
    "        newnum = self.num * otherfraction.dem + self.dem * otherfraction.num\n",
    "        newdem = self.dem * otherfraction.dem\n",
    "        \n",
    "        common = gcd(newnum,newdem)\n",
    "        \n",
    "        return Fraction(newnum//common,newdem//common)\n",
    "    \n",
    "    def __eq__(self,otherfraction):\n",
    "        \n",
    "        firstnum =self.num*otherfraction.dem\n",
    "        secnum = self.dem*otherfraction.num\n",
    "        return firstnum == secnum\n",
    "    \n",
    "    def __mul__(self,otherfraction):\n",
    "        \n",
    "        mulnum=self.num * otherfraction.num\n",
    "        muldem=self.dem * otherfraction.dem\n",
    "        \n",
    "        return Fraction(mulnum,muldem)\n",
    "    \n",
    "    \n",
    "    def __div__(self,otherfraction):\n",
    "            \n",
    "        divnum= self.num * otherfraction.dem\n",
    "        divden= self.dem * otherfraction.num\n",
    "        \n",
    "        return Fraction(divnum,divden)\n",
    "    def __sub__(self,otherfraction):\n",
    "        \n",
    "        subnum = self.num * otherfraction.dem - self.dem * otherfraction.num\n",
    "        subdem= self.dem * otherfraction.dem\n",
    "        \n",
    "        return Fraction(subnum,subdem)"
   ]
  },
  {
   "cell_type": "code",
   "execution_count": 22,
   "metadata": {
    "collapsed": true
   },
   "outputs": [],
   "source": [
    "myF = Fraction(3,5)"
   ]
  },
  {
   "cell_type": "code",
   "execution_count": 23,
   "metadata": {},
   "outputs": [
    {
     "name": "stdout",
     "output_type": "stream",
     "text": [
      "3 / 5\n"
     ]
    }
   ],
   "source": [
    "myF.show()"
   ]
  },
  {
   "cell_type": "code",
   "execution_count": 24,
   "metadata": {},
   "outputs": [
    {
     "name": "stdout",
     "output_type": "stream",
     "text": [
      "3/5\n"
     ]
    }
   ],
   "source": [
    "print(myF)"
   ]
  },
  {
   "cell_type": "code",
   "execution_count": 45,
   "metadata": {},
   "outputs": [
    {
     "name": "stdout",
     "output_type": "stream",
     "text": [
      "3/4\n",
      "False\n",
      "1/8\n",
      "2/4\n",
      "-2/8\n"
     ]
    }
   ],
   "source": [
    "f1=Fraction(1,4)\n",
    "f2=Fraction(1,2)\n",
    "f3=f1+f2\n",
    "print f3\n",
    "print f1==f2\n",
    "print f1*f2\n",
    "print f1/f2\n",
    "print f1-f2"
   ]
  },
  {
   "cell_type": "code",
   "execution_count": 100,
   "metadata": {
    "collapsed": true
   },
   "outputs": [],
   "source": [
    "class LogicGate:\n",
    "    \n",
    "    def __init__(self,n):\n",
    "        self.label = n\n",
    "        self.output = None\n",
    "        \n",
    "    def getLabel(self):\n",
    "        return self.label\n",
    "    def getOutput(self):\n",
    "        self.output=self.performLogicGate()\n",
    "        return self.output\n",
    "    \n",
    "        "
   ]
  },
  {
   "cell_type": "code",
   "execution_count": 101,
   "metadata": {
    "collapsed": true
   },
   "outputs": [],
   "source": [
    "class BinaryGate(LogicGate):\n",
    "    \n",
    "    def __init__(self,n):\n",
    "        LogicGate.__init__(self,n)\n",
    "        \n",
    "        self.pinA=None\n",
    "        self.pinB=None\n",
    "        \n",
    "    def getPinA(self):\n",
    "        return int(input(\"Enter Pin A input for gate \"+ self.getLabel()+\"-->\"))\n",
    "               \n",
    "    \n",
    "    def getPinB(self):\n",
    "        return int(input(\"Enter Pin A input for gate \"+ self.getLabel()+\"-->\"))\n",
    "    \n",
    "    "
   ]
  },
  {
   "cell_type": "code",
   "execution_count": 102,
   "metadata": {
    "collapsed": true
   },
   "outputs": [],
   "source": [
    "class UnaryGate(LogicGate):\n",
    "    \n",
    "    def __init__(self,n):\n",
    "        LogicGate.__init__(self,n)\n",
    "        \n",
    "        self.pin= None\n",
    "        \n",
    "    def getPin(self):\n",
    "        return int(input(\"Enter Pin input for logic gate \" + self.getLabel() + \"-->\"))\n",
    "               "
   ]
  },
  {
   "cell_type": "code",
   "execution_count": 103,
   "metadata": {
    "collapsed": true
   },
   "outputs": [],
   "source": [
    "class AndGate(BinaryGate):\n",
    "    \n",
    "    def __init__(self,n):\n",
    "        BinaryGate.__init__(self,n)\n",
    "    \n",
    "    def performLogicGate(self):\n",
    "        a = self.getPinA()\n",
    "        b = self.getPinB()\n",
    "        \n",
    "        if a == 1 and b==1:\n",
    "            return 1\n",
    "        else:\n",
    "            return 0\n",
    "        "
   ]
  },
  {
   "cell_type": "code",
   "execution_count": 69,
   "metadata": {},
   "outputs": [
    {
     "name": "stdout",
     "output_type": "stream",
     "text": [
      "Enter Pin A input for gate G1-->1\n",
      "Enter Pin A input for gate G1-->1\n"
     ]
    },
    {
     "data": {
      "text/plain": [
       "1"
      ]
     },
     "execution_count": 69,
     "metadata": {},
     "output_type": "execute_result"
    }
   ],
   "source": [
    "g1=AndGate(\"G1\")\n",
    "g1.getOutput()\n"
   ]
  },
  {
   "cell_type": "code",
   "execution_count": 104,
   "metadata": {
    "collapsed": true
   },
   "outputs": [],
   "source": [
    "class OrGate(BinaryGate):\n",
    "    \n",
    "    def __init__(self,n):\n",
    "        BinaryGate.__init__(self,n)\n",
    "        \n",
    "    def performLogicGate(self):\n",
    "        a = self.getPinA()\n",
    "        b = self.getPinB()\n",
    "        \n",
    "        if a == 0 and b==0:\n",
    "            return 1\n",
    "        else:\n",
    "            return 0"
   ]
  },
  {
   "cell_type": "code",
   "execution_count": 105,
   "metadata": {
    "collapsed": true
   },
   "outputs": [],
   "source": [
    "class NotGate(UnaryGate):\n",
    "    def __init__(self,n):\n",
    "        UnaryGate.__init__(self,n)\n",
    "    def performLogicGate(self):\n",
    "        \n",
    "        a = self.getPin()\n",
    "        if a == 1:\n",
    "            return 0\n",
    "        else:\n",
    "            return 1"
   ]
  },
  {
   "cell_type": "code",
   "execution_count": 72,
   "metadata": {},
   "outputs": [
    {
     "name": "stdout",
     "output_type": "stream",
     "text": [
      "Enter Pin A input for gate G2-->1\n",
      "Enter Pin A input for gate G2-->1\n"
     ]
    },
    {
     "data": {
      "text/plain": [
       "0"
      ]
     },
     "execution_count": 72,
     "metadata": {},
     "output_type": "execute_result"
    }
   ],
   "source": [
    "g2 = OrGate(\"G2\")\n",
    "g2.getOutput()"
   ]
  },
  {
   "cell_type": "code",
   "execution_count": 73,
   "metadata": {},
   "outputs": [
    {
     "name": "stdout",
     "output_type": "stream",
     "text": [
      "Enter Pin A input for gate G2-->0\n",
      "Enter Pin A input for gate G2-->0\n"
     ]
    },
    {
     "data": {
      "text/plain": [
       "1"
      ]
     },
     "execution_count": 73,
     "metadata": {},
     "output_type": "execute_result"
    }
   ],
   "source": [
    "g2.getOutput()"
   ]
  },
  {
   "cell_type": "code",
   "execution_count": 92,
   "metadata": {},
   "outputs": [
    {
     "name": "stdout",
     "output_type": "stream",
     "text": [
      "Enter Pin input for logic gate G3-->1\n"
     ]
    },
    {
     "data": {
      "text/plain": [
       "0"
      ]
     },
     "execution_count": 92,
     "metadata": {},
     "output_type": "execute_result"
    }
   ],
   "source": [
    "g3=NotGate(\"G3\")\n",
    "g3.getOutput()"
   ]
  },
  {
   "cell_type": "code",
   "execution_count": 106,
   "metadata": {
    "collapsed": true
   },
   "outputs": [],
   "source": [
    "class Connector:\n",
    "    def __init__(self,fgate,tgate):\n",
    "        self.fromgate = fgate\n",
    "        self.togate = tgate\n",
    "        \n",
    "        tgate.setNextPin(self)\n",
    "        \n",
    "        def getFrom(self):\n",
    "            return self.fromgate\n",
    "        def getTo(self):\n",
    "            return self.togate"
   ]
  },
  {
   "cell_type": "code",
   "execution_count": 111,
   "metadata": {
    "collapsed": true
   },
   "outputs": [],
   "source": [
    "def setNextPin(self,source):\n",
    "    if self.pinA == None:\n",
    "        self.pinA = source\n",
    "    else:\n",
    "        if self.pinB == None:\n",
    "            self.pinB = source\n",
    "        else:\n",
    "            raise RuntimeError (\"Error: no empty pins\")\n",
    "        "
   ]
  },
  {
   "cell_type": "code",
   "execution_count": 112,
   "metadata": {
    "collapsed": true
   },
   "outputs": [],
   "source": [
    "def getPinA(self):\n",
    "    if self.pinA == None:\n",
    "        return input(\"Enter Pin A input for gate\"+ self.getName()+\"--->\")\n",
    "    else:\n",
    "        return self.pinA.getFrom().getOutput()"
   ]
  },
  {
   "cell_type": "code",
   "execution_count": 123,
   "metadata": {},
   "outputs": [
    {
     "ename": "TypeError",
     "evalue": "super() takes at least 1 argument (0 given)",
     "output_type": "error",
     "traceback": [
      "\u001b[0;31m---------------------------------------------------------------------------\u001b[0m",
      "\u001b[0;31mTypeError\u001b[0m                                 Traceback (most recent call last)",
      "\u001b[0;32m<ipython-input-123-9ac31ddc2a14>\u001b[0m in \u001b[0;36m<module>\u001b[0;34m()\u001b[0m\n\u001b[1;32m    144\u001b[0m \u001b[0;31m#     c3 = Connector(g3,g4)\u001b[0m\u001b[0;34m\u001b[0m\u001b[0;34m\u001b[0m\u001b[0m\n\u001b[1;32m    145\u001b[0m \u001b[0;34m\u001b[0m\u001b[0m\n\u001b[0;32m--> 146\u001b[0;31m \u001b[0mmain\u001b[0m\u001b[0;34m(\u001b[0m\u001b[0;34m)\u001b[0m\u001b[0;34m\u001b[0m\u001b[0m\n\u001b[0m",
      "\u001b[0;32m<ipython-input-123-9ac31ddc2a14>\u001b[0m in \u001b[0;36mmain\u001b[0;34m()\u001b[0m\n\u001b[1;32m    137\u001b[0m     \u001b[0mg1\u001b[0m \u001b[0;34m=\u001b[0m \u001b[0mAndGate\u001b[0m\u001b[0;34m(\u001b[0m\u001b[0;34m\"G1\"\u001b[0m\u001b[0;34m)\u001b[0m\u001b[0;34m\u001b[0m\u001b[0m\n\u001b[1;32m    138\u001b[0m     \u001b[0mg2\u001b[0m \u001b[0;34m=\u001b[0m \u001b[0mNandGate\u001b[0m\u001b[0;34m(\u001b[0m\u001b[0;34m\"G2\"\u001b[0m\u001b[0;34m)\u001b[0m\u001b[0;34m\u001b[0m\u001b[0m\n\u001b[0;32m--> 139\u001b[0;31m     \u001b[0;32mprint\u001b[0m \u001b[0mg2\u001b[0m\u001b[0;34m.\u001b[0m\u001b[0mgetOutput\u001b[0m\u001b[0;34m(\u001b[0m\u001b[0;34m)\u001b[0m\u001b[0;34m\u001b[0m\u001b[0m\n\u001b[0m\u001b[1;32m    140\u001b[0m \u001b[0;31m#     g3 = OrGate(\"G3\")\u001b[0m\u001b[0;34m\u001b[0m\u001b[0;34m\u001b[0m\u001b[0m\n\u001b[1;32m    141\u001b[0m \u001b[0;31m#     g4 = NotGate(\"G4\")\u001b[0m\u001b[0;34m\u001b[0m\u001b[0;34m\u001b[0m\u001b[0m\n",
      "\u001b[0;32m<ipython-input-123-9ac31ddc2a14>\u001b[0m in \u001b[0;36mgetOutput\u001b[0;34m(self)\u001b[0m\n\u001b[1;32m      8\u001b[0m         \u001b[0;32mreturn\u001b[0m \u001b[0mself\u001b[0m\u001b[0;34m.\u001b[0m\u001b[0mlabel\u001b[0m\u001b[0;34m\u001b[0m\u001b[0m\n\u001b[1;32m      9\u001b[0m     \u001b[0;32mdef\u001b[0m \u001b[0mgetOutput\u001b[0m\u001b[0;34m(\u001b[0m\u001b[0mself\u001b[0m\u001b[0;34m)\u001b[0m\u001b[0;34m:\u001b[0m\u001b[0;34m\u001b[0m\u001b[0m\n\u001b[0;32m---> 10\u001b[0;31m         \u001b[0mself\u001b[0m\u001b[0;34m.\u001b[0m\u001b[0moutput\u001b[0m\u001b[0;34m=\u001b[0m\u001b[0mself\u001b[0m\u001b[0;34m.\u001b[0m\u001b[0mperformLogicGate\u001b[0m\u001b[0;34m(\u001b[0m\u001b[0;34m)\u001b[0m\u001b[0;34m\u001b[0m\u001b[0m\n\u001b[0m\u001b[1;32m     11\u001b[0m         \u001b[0;32mreturn\u001b[0m \u001b[0mself\u001b[0m\u001b[0;34m.\u001b[0m\u001b[0moutput\u001b[0m\u001b[0;34m\u001b[0m\u001b[0m\n\u001b[1;32m     12\u001b[0m \u001b[0;34m\u001b[0m\u001b[0m\n",
      "\u001b[0;32m<ipython-input-123-9ac31ddc2a14>\u001b[0m in \u001b[0;36mperformLogicGate\u001b[0;34m(self)\u001b[0m\n\u001b[1;32m     81\u001b[0m \u001b[0;34m\u001b[0m\u001b[0m\n\u001b[1;32m     82\u001b[0m     \u001b[0;32mdef\u001b[0m \u001b[0mperformLogicGate\u001b[0m\u001b[0;34m(\u001b[0m\u001b[0mself\u001b[0m\u001b[0;34m)\u001b[0m\u001b[0;34m:\u001b[0m\u001b[0;34m\u001b[0m\u001b[0m\n\u001b[0;32m---> 83\u001b[0;31m         \u001b[0;32mif\u001b[0m \u001b[0msuper\u001b[0m\u001b[0;34m(\u001b[0m\u001b[0;34m)\u001b[0m\u001b[0;34m.\u001b[0m\u001b[0mperformLogicGate\u001b[0m\u001b[0;34m(\u001b[0m\u001b[0;34m)\u001b[0m \u001b[0;34m==\u001b[0m \u001b[0;36m1\u001b[0m\u001b[0;34m:\u001b[0m\u001b[0;34m\u001b[0m\u001b[0m\n\u001b[0m\u001b[1;32m     84\u001b[0m             \u001b[0;32mreturn\u001b[0m \u001b[0;36m0\u001b[0m\u001b[0;34m\u001b[0m\u001b[0m\n\u001b[1;32m     85\u001b[0m         \u001b[0;32melse\u001b[0m\u001b[0;34m:\u001b[0m\u001b[0;34m\u001b[0m\u001b[0m\n",
      "\u001b[0;31mTypeError\u001b[0m: super() takes at least 1 argument (0 given)"
     ]
    }
   ],
   "source": [
    "class LogicGate:\n",
    "    \n",
    "    def __init__(self,n):\n",
    "        self.label = n\n",
    "        self.output = None\n",
    "        \n",
    "    def getLabel(self):\n",
    "        return self.label\n",
    "    def getOutput(self):\n",
    "        self.output=self.performLogicGate()\n",
    "        return self.output\n",
    "    \n",
    "class BinaryGate(LogicGate):\n",
    "    \n",
    "    def __init__(self,n):\n",
    "        LogicGate.__init__(self,n)\n",
    "        \n",
    "        self.pinA=None\n",
    "        self.pinB=None\n",
    "        \n",
    "    def getPinA(self):\n",
    "        if self.pinA == None:\n",
    "            return int(input(\"Enter Pin A input for gate \"+ self.getLabel()+\"-->\"))\n",
    "        else:\n",
    "            return self.pinA.getFrom().getOutput()\n",
    "    \n",
    "    def getPinB(self):\n",
    "        if self.pinB == None:\n",
    "            return int(input(\"Enter Pin A input for gate \"+ self.getLabel()+\"-->\"))\n",
    "        else:\n",
    "             return self.pinB.getFrom().getOutput()\n",
    "    \n",
    "    def setNextPin(self,source):\n",
    "        if self.pinA == None:\n",
    "            self.pinA = source\n",
    "        else:\n",
    "            if self.pinB == None:\n",
    "                self.pinB = source\n",
    "            else:\n",
    "                raise RuntimeError (\"Error: no empty pins\")\n",
    "        \n",
    "    \n",
    "    \n",
    "class UnaryGate(LogicGate):\n",
    "    \n",
    "    def __init__(self,n):\n",
    "        LogicGate.__init__(self,n)\n",
    "        \n",
    "        self.pin= None\n",
    "        \n",
    "    def getPin(self):\n",
    "        if self.pin == None:\n",
    "            return int(input(\"Enter Pin input for logic gate \" + self.getLabel() + \"-->\"))\n",
    "        else:\n",
    "            return self.pin.getFrom().getOutput()\n",
    "    \n",
    "    \n",
    "    def setNextPin(self,source):\n",
    "        if self.pin == None:\n",
    "            self.pin = source\n",
    "        else:\n",
    "            print(\"Cannot Connect: NO EMPTY PINS on this gate\")\n",
    "\n",
    "\n",
    "    \n",
    "class AndGate(BinaryGate):\n",
    "    \n",
    "    def __init__(self,n):\n",
    "        BinaryGate.__init__(self,n)\n",
    "    \n",
    "    def performLogicGate(self):\n",
    "        a = self.getPinA()\n",
    "        b = self.getPinB()\n",
    "        \n",
    "        if a == 1 and b==1:\n",
    "            return 1\n",
    "        else:\n",
    "            return 0\n",
    "        \n",
    "class NandGate(AndGate):\n",
    "    \n",
    "    def performLogicGate(self):\n",
    "        if super().performLogicGate() == 1:\n",
    "            return 0\n",
    "        else:\n",
    "            return 1\n",
    "        \n",
    "        \n",
    "        \n",
    "class OrGate(BinaryGate):\n",
    "    \n",
    "    def __init__(self,n):\n",
    "        BinaryGate.__init__(self,n)\n",
    "        \n",
    "    def performLogicGate(self):\n",
    "        a = self.getPinA()\n",
    "        b = self.getPinB()\n",
    "        \n",
    "        if a == 0 and b==0:\n",
    "            return 1\n",
    "        else:\n",
    "            return 0 \n",
    "\n",
    "        \n",
    "class NorGate(OrGate):\n",
    "    def performLogicGate(self):\n",
    "        if super().performLogicGate() == 1:\n",
    "            return 0\n",
    "        else:\n",
    "            return 1\n",
    "     \n",
    "    \n",
    "    \n",
    "class NotGate(UnaryGate):\n",
    "    def __init__(self,n):\n",
    "        UnaryGate.__init__(self,n)\n",
    "        \n",
    "    def performLogicGate(self):\n",
    "        if self.getPin():\n",
    "            return 0\n",
    "        else:\n",
    "            return 1\n",
    "        \n",
    "class Connector:\n",
    "    def __init__(self,fgate,tgate):\n",
    "        self.fromgate = fgate\n",
    "        self.togate = tgate\n",
    "        \n",
    "        tgate.setNextPin(self)\n",
    "        \n",
    "        def getFrom(self):\n",
    "            return self.fromgate\n",
    "        def getTo(self):\n",
    "            return self.togate\n",
    "        \n",
    "def main():\n",
    "    g1 = AndGate(\"G1\")\n",
    "    g2 = NandGate(\"G2\")\n",
    "    print g2.getOutput()\n",
    "#     g3 = OrGate(\"G3\")\n",
    "#     g4 = NotGate(\"G4\")\n",
    "#     c1 = Connector(g1,g3)\n",
    "#     c2 = Connector(g2,g3)\n",
    "#     c3 = Connector(g3,g4)\n",
    "    \n",
    "main()"
   ]
  },
  {
   "cell_type": "code",
   "execution_count": 121,
   "metadata": {
    "collapsed": true
   },
   "outputs": [],
   "source": [
    "g1 = AndGate(\"G1\")\n",
    "g2 = AndGate(\"G2\")\n",
    "g3 = OrGate(\"G3\")\n",
    "g4 = NotGate(\"G4\")\n",
    "c1 = Connector(g1,g3)\n",
    "c2 = Connector(g2,g3)\n",
    "c3 = Connector(g3,g4)"
   ]
  },
  {
   "cell_type": "code",
   "execution_count": null,
   "metadata": {
    "collapsed": true
   },
   "outputs": [],
   "source": []
  },
  {
   "cell_type": "markdown",
   "metadata": {},
   "source": [
    "Exercises"
   ]
  },
  {
   "cell_type": "code",
   "execution_count": null,
   "metadata": {
    "collapsed": true
   },
   "outputs": [],
   "source": []
  },
  {
   "cell_type": "markdown",
   "metadata": {},
   "source": [
    "Big O Notation And Analysis"
   ]
  },
  {
   "cell_type": "code",
   "execution_count": 4,
   "metadata": {},
   "outputs": [
    {
     "name": "stdout",
     "output_type": "stream",
     "text": [
      "10\n",
      "size: 1000 time: 0.165870 \n",
      "87\n",
      "size: 2000 time: 0.631459 \n",
      "48\n",
      "size: 3000 time: 1.370115 \n",
      "41\n",
      "size: 4000 time: 2.590425 \n",
      "28\n",
      "size: 5000 time: 3.799823 \n",
      "13\n",
      "size: 6000 time: 5.271559 \n",
      "26\n",
      "size: 7000 time: 7.251470 \n",
      "8\n",
      "size: 8000 time: 9.509377 \n",
      "1\n",
      "size: 9000 time: 12.165782 \n",
      "4\n",
      "size: 10000 time: 15.358248 \n"
     ]
    }
   ],
   "source": [
    "__author__ =\"aabayomi\"\n",
    "\n",
    "import time\n",
    "from random import randrange\n",
    "\n",
    "def findMin(alist):\n",
    "    overallmin = alist[0]\n",
    "    for i in alist:\n",
    "        issmallest = True                          #O(n^2)\n",
    "        for j in alist:\n",
    "            if i > j:\n",
    "                issmallest =False\n",
    "        if issmallest:\n",
    "            overallmin= i\n",
    "    return overallmin\n",
    "\n",
    "\n",
    "def findMin2(alist):\n",
    "    minsofar = alist[0]                          \n",
    "    for i in alist:                              #O(n)\n",
    "        if i < minsofar:\n",
    "            minsofar =i\n",
    "    return minsofar\n",
    "\n",
    "#print findMin([5,4,3,2,1,0])\n",
    "\n",
    "#print findMin([0,5,4,3,2,1])\n",
    "\n",
    "for listSize in range(1000,10001,1000):\n",
    "    alist =[randrange(100000) for x in range (listSize)]\n",
    "    start = time.time()\n",
    "    print (findMin(alist))\n",
    "    end = time.time()\n",
    "    print \"size: %d time: %f \" %(listSize,end-start)\n"
   ]
  },
  {
   "cell_type": "markdown",
   "metadata": {},
   "source": [
    "Linear Data Structures "
   ]
  },
  {
   "cell_type": "code",
   "execution_count": 3,
   "metadata": {
    "collapsed": true
   },
   "outputs": [],
   "source": [
    "class Stack:\n",
    "    def __init__(self):\n",
    "        self.items = []\n",
    "    def isEmpty(self):\n",
    "        return self.items==[]\n",
    "    def push(self,item):\n",
    "        self.items.append(item)\n",
    "    def pop(self):\n",
    "        return self.items.pop()\n",
    "    def peek(self):\n",
    "        return self.items[len(self.items)-1]\n",
    "    def size(self):\n",
    "        return len(self.items)\n",
    "    "
   ]
  },
  {
   "cell_type": "code",
   "execution_count": 6,
   "metadata": {},
   "outputs": [
    {
     "name": "stdout",
     "output_type": "stream",
     "text": [
      "True\n",
      "dog\n",
      "3\n",
      "False\n",
      "8.4\n",
      "True\n",
      "2\n"
     ]
    }
   ],
   "source": [
    "# from pythonds.basic stack import stack               # inbuilt python stack module pythonic way \n",
    "\n",
    "s = Stack()\n",
    "\n",
    "print s.isEmpty()\n",
    "s.push(4)\n",
    "s.push(\"dog\")\n",
    "print s.peek()\n",
    "s.push(True)\n",
    "print s.size()\n",
    "print s.isEmpty()\n",
    "s.push(8.4)\n",
    "print(s.pop())\n",
    "print(s.pop())\n",
    "print(s.size())\n",
    "\n"
   ]
  }
 ],
 "metadata": {
  "kernelspec": {
   "display_name": "Python 2",
   "language": "python",
   "name": "python2"
  },
  "language_info": {
   "codemirror_mode": {
    "name": "ipython",
    "version": 2
   },
   "file_extension": ".py",
   "mimetype": "text/x-python",
   "name": "python",
   "nbconvert_exporter": "python",
   "pygments_lexer": "ipython2",
   "version": "2.7.14"
  }
 },
 "nbformat": 4,
 "nbformat_minor": 2
}
