{
 "cells": [
  {
   "cell_type": "code",
   "execution_count": null,
   "metadata": {
    "collapsed": true
   },
   "outputs": [],
   "source": []
  },
  {
   "cell_type": "code",
   "execution_count": 28,
   "metadata": {},
   "outputs": [],
   "source": [
    " def reverse(chars):\n",
    "        # TODO: Implement me\n",
    "        if chars == None:\n",
    "            return None\n",
    "        \n",
    "        if chars == \"\":\n",
    "            return \"\"\n",
    "        \n",
    "        new_chars = list(chars)\n",
    "#         new_chars.reverse()\n",
    "        \n",
    "        print new_chars\n",
    "        new_list = []\n",
    "    \n",
    "        for letters in new_chars[::-1]:\n",
    "            new_list.append(letters)\n",
    "        print new_list\n",
    "        \n",
    "        pass"
   ]
  },
  {
   "cell_type": "code",
   "execution_count": 29,
   "metadata": {},
   "outputs": [
    {
     "name": "stdout",
     "output_type": "stream",
     "text": [
      "['f', 'o', 'o', ' ', 'b', 'a', 'r']\n",
      "['r', 'a', 'b', ' ', 'o', 'o', 'f']\n"
     ]
    }
   ],
   "source": [
    "reverse(\"foo bar\")"
   ]
  }
 ],
 "metadata": {
  "kernelspec": {
   "display_name": "Python 2",
   "language": "python",
   "name": "python2"
  },
  "language_info": {
   "codemirror_mode": {
    "name": "ipython",
    "version": 2
   },
   "file_extension": ".py",
   "mimetype": "text/x-python",
   "name": "python",
   "nbconvert_exporter": "python",
   "pygments_lexer": "ipython2",
   "version": "2.7.14"
  }
 },
 "nbformat": 4,
 "nbformat_minor": 2
}
