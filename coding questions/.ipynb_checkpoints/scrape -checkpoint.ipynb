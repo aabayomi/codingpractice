{
 "cells": [
  {
   "cell_type": "code",
   "execution_count": 9,
   "metadata": {},
   "outputs": [],
   "source": [
    "from collections import Counter\n",
    "\n",
    "def findMaxGoalsProbability(teamGoals):\n",
    "    \n",
    "    for index in range(len(teamGoals)):\n",
    "            pairs = []\n",
    "            size = 3\n",
    "            positionsizefromlastelement = len(teamGoals)-size\n",
    "            rangevalue = positionsizefromlastelement+1\n",
    "            for index in range(len(teamGoals)):\n",
    "                for indexj in range((index+1), len(teamGoals)):\n",
    "                    pairs.append([teamGoals[index], teamGoals[indexj]])\n",
    "            pairslist = list(map(sum, pairs))\n",
    "\n",
    "            # print(pairslist)\n",
    "            count = Counter()\n",
    "            for x in pairslist:\n",
    "                count[x] += 1\n",
    "            dictcount = dict(count)\n",
    "            # print(dictcount)\n",
    "            maximumscore = max(dictcount.keys())\n",
    "            total = sum(dictcount.values())\n",
    "        #     print(total)\n",
    "        #     print(maximumscore)\n",
    "\n",
    "            frequency = dictcount[maximumscore]\n",
    "            # print(frequency)\n",
    "            proba = str(float(frequency/total))\n",
    "\n",
    "            if proba == \"1.0\":\n",
    "                proba = \"1.00\"\n",
    "                #print(proba)\n",
    "            proba1 = proba.split(\".\")\n",
    "            xproba = \".\".join([proba1[0], str(proba1[1])[:2]])\n",
    "            #print(xproba)\n",
    "            return xproba\n",
    "        \n",
    "        \n",
    "        \n",
    "        \n",
    "        \n",
    "        \n",
    "        \n",
    "        \n",
    "        \n",
    "def size(arr, n, yindex, xindex):\n",
    "    if n==1:\n",
    "        return arr[yindex]\n",
    "    else:\n",
    "        return [size(arr, n-1), arr[yindex+((n-1)*index)]]\n",
    "    from collections import Counter\n",
    "    v = [1, 2, 2, 3]\n",
    "    for index in range(len(v)):\n",
    "        print(index)\n",
    "    pairs = []\n",
    "    size = 3\n",
    "    positionsizefromlastelement = len(v)-size\n",
    "    rangevalue = positionsizefromlastelement+1\n",
    "    #for index in range(len(v)-size+1):\n",
    "        #yindex = index\n",
    "        #pairs = [size(v, size, yindex, index) for index in range(1, len(v)) if(index+yindex<len(v))]\n",
    "        #print(pairs)\n",
    "    for index in range(len(v)):\n",
    "        for indexj in range((index+1), len(v)):\n",
    "            pairs.append([v[index], v[indexj]])\n",
    "    #print(pairs)\n",
    "    pairslist = list(map(sum, pairs))\n",
    "    print(pairslist)\n",
    "    count = Counter()\n",
    "    for x in pairslist:\n",
    "        count[x] += 1\n",
    "    dictcount = dict(count)\n",
    "    print(dictcount)\n",
    "    maximumscore = max(dictcount.keys())\n",
    "    total = sum(dictcount.values())\n",
    "    print(total)\n",
    "    print(maximumscore)\n",
    "    #print(dictcount[7])\n",
    "    frequency = dictcount[maximumscore]\n",
    "    print(frequency)\n",
    "    proba = str(float(frequency/total))\n",
    "    if proba == \"1.0\":\n",
    "        proba = \"1.00\"\n",
    "        #print(proba)\n",
    "    proba1 = proba.split(\".\")\n",
    "    xproba = \".\".join([proba1[0], str(proba1[1])[:2]])\n",
    "    #print(xproba)\n",
    "    return xproba\n",
    "\n"
   ]
  },
  {
   "cell_type": "code",
   "execution_count": 10,
   "metadata": {},
   "outputs": [
    {
     "data": {
      "text/plain": [
       "'0.0'"
      ]
     },
     "execution_count": 10,
     "metadata": {},
     "output_type": "execute_result"
    }
   ],
   "source": [
    "findMaxGoalsProbability([1,2,2,3])"
   ]
  },
  {
   "cell_type": "code",
   "execution_count": 27,
   "metadata": {
    "collapsed": true
   },
   "outputs": [],
   "source": [
    "def formatCSV(CSV):\n",
    "    new = \n",
    "    \n",
    "    new.split(\",\")\n",
    "    for items in new:\n",
    "        print items\n",
    "        \n",
    "        "
   ]
  },
  {
   "cell_type": "code",
   "execution_count": 28,
   "metadata": {},
   "outputs": [
    {
     "ename": "NameError",
     "evalue": "global name 'new' is not defined",
     "output_type": "error",
     "traceback": [
      "\u001b[0;31m---------------------------------------------------------------------------\u001b[0m",
      "\u001b[0;31mNameError\u001b[0m                                 Traceback (most recent call last)",
      "\u001b[0;32m<ipython-input-28-fc16672a9b96>\u001b[0m in \u001b[0;36m<module>\u001b[0;34m()\u001b[0m\n\u001b[1;32m      1\u001b[0m \u001b[0mCSV\u001b[0m \u001b[0;34m=\u001b[0m \u001b[0;34m[\u001b[0m\u001b[0;34m\"Name,\"\u001b[0m\u001b[0;34m,\u001b[0m\u001b[0;34m\"Course,\"\u001b[0m\u001b[0;34m,\u001b[0m\u001b[0;34m\"Percent,\"\u001b[0m\u001b[0;34m,\u001b[0m \u001b[0;34m\"Grade,\"\u001b[0m\u001b[0;34m,\u001b[0m\u001b[0;34m\"Letter,\"\u001b[0m \u001b[0;34m\"Grade,\"\u001b[0m\u001b[0;34m]\u001b[0m\u001b[0;34m\u001b[0m\u001b[0m\n\u001b[0;32m----> 2\u001b[0;31m \u001b[0mformatCSV\u001b[0m\u001b[0;34m(\u001b[0m\u001b[0mCSV\u001b[0m\u001b[0;34m)\u001b[0m\u001b[0;34m\u001b[0m\u001b[0m\n\u001b[0m",
      "\u001b[0;32m<ipython-input-27-5eea33c9d454>\u001b[0m in \u001b[0;36mformatCSV\u001b[0;34m(CSV)\u001b[0m\n\u001b[1;32m      1\u001b[0m \u001b[0;32mdef\u001b[0m \u001b[0mformatCSV\u001b[0m\u001b[0;34m(\u001b[0m\u001b[0mCSV\u001b[0m\u001b[0;34m)\u001b[0m\u001b[0;34m:\u001b[0m\u001b[0;34m\u001b[0m\u001b[0m\n\u001b[0;32m----> 2\u001b[0;31m     \u001b[0mnew\u001b[0m\u001b[0;34m\u001b[0m\u001b[0m\n\u001b[0m\u001b[1;32m      3\u001b[0m \u001b[0;34m\u001b[0m\u001b[0m\n\u001b[1;32m      4\u001b[0m     \u001b[0mnew\u001b[0m\u001b[0;34m.\u001b[0m\u001b[0msplit\u001b[0m\u001b[0;34m(\u001b[0m\u001b[0;34m\",\"\u001b[0m\u001b[0;34m)\u001b[0m\u001b[0;34m\u001b[0m\u001b[0m\n\u001b[1;32m      5\u001b[0m     \u001b[0;32mfor\u001b[0m \u001b[0mitems\u001b[0m \u001b[0;32min\u001b[0m \u001b[0mnew\u001b[0m\u001b[0;34m:\u001b[0m\u001b[0;34m\u001b[0m\u001b[0m\n",
      "\u001b[0;31mNameError\u001b[0m: global name 'new' is not defined"
     ]
    }
   ],
   "source": [
    "CSV = [\"Name,\",\"Course,\",\"Percent,\", \"Grade,\",\"Letter,\" \"Grade,\"]\n",
    "formatCSV(CSV)"
   ]
  }
 ],
 "metadata": {
  "kernelspec": {
   "display_name": "Python 2",
   "language": "python",
   "name": "python2"
  },
  "language_info": {
   "codemirror_mode": {
    "name": "ipython",
    "version": 2
   },
   "file_extension": ".py",
   "mimetype": "text/x-python",
   "name": "python",
   "nbconvert_exporter": "python",
   "pygments_lexer": "ipython2",
   "version": "2.7.14"
  }
 },
 "nbformat": 4,
 "nbformat_minor": 2
}
