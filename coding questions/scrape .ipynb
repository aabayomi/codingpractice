{
 "cells": [
  {
   "cell_type": "code",
   "execution_count": 9,
   "metadata": {
    "collapsed": true
   },
   "outputs": [],
   "source": [
    "from collections import Counter\n",
    "\n",
    "def findMaxGoalsProbability(teamGoals):\n",
    "    \n",
    "    for index in range(len(teamGoals)):\n",
    "            pairs = []\n",
    "            size = 3\n",
    "            positionsizefromlastelement = len(teamGoals)-size\n",
    "            rangevalue = positionsizefromlastelement+1\n",
    "            for index in range(len(teamGoals)):\n",
    "                for indexj in range((index+1), len(teamGoals)):\n",
    "                    pairs.append([teamGoals[index], teamGoals[indexj]])\n",
    "            pairslist = list(map(sum, pairs))\n",
    "\n",
    "            # print(pairslist)\n",
    "            count = Counter()\n",
    "            for x in pairslist:\n",
    "                count[x] += 1\n",
    "            dictcount = dict(count)\n",
    "            # print(dictcount)\n",
    "            maximumscore = max(dictcount.keys())\n",
    "            total = sum(dictcount.values())\n",
    "        #     print(total)\n",
    "        #     print(maximumscore)\n",
    "\n",
    "            frequency = dictcount[maximumscore]\n",
    "            # print(frequency)\n",
    "            proba = str(float(frequency/total))\n",
    "\n",
    "            if proba == \"1.0\":\n",
    "                proba = \"1.00\"\n",
    "                #print(proba)\n",
    "            proba1 = proba.split(\".\")\n",
    "            xproba = \".\".join([proba1[0], str(proba1[1])[:2]])\n",
    "            #print(xproba)\n",
    "            return xproba\n",
    "        \n",
    "        \n",
    "        \n",
    "        \n",
    "        \n",
    "        \n",
    "        \n",
    "        \n",
    "        \n",
    "def size(arr, n, yindex, xindex):\n",
    "    if n==1:\n",
    "        return arr[yindex]\n",
    "    else:\n",
    "        return [size(arr, n-1), arr[yindex+((n-1)*index)]]\n",
    "    from collections import Counter\n",
    "    v = [1, 2, 2, 3]\n",
    "    for index in range(len(v)):\n",
    "        print(index)\n",
    "    pairs = []\n",
    "    size = 3\n",
    "    positionsizefromlastelement = len(v)-size\n",
    "    rangevalue = positionsizefromlastelement+1\n",
    "    #for index in range(len(v)-size+1):\n",
    "        #yindex = index\n",
    "        #pairs = [size(v, size, yindex, index) for index in range(1, len(v)) if(index+yindex<len(v))]\n",
    "        #print(pairs)\n",
    "    for index in range(len(v)):\n",
    "        for indexj in range((index+1), len(v)):\n",
    "            pairs.append([v[index], v[indexj]])\n",
    "    #print(pairs)\n",
    "    pairslist = list(map(sum, pairs))\n",
    "    print(pairslist)\n",
    "    count = Counter()\n",
    "    for x in pairslist:\n",
    "        count[x] += 1\n",
    "    dictcount = dict(count)\n",
    "    print(dictcount)\n",
    "    maximumscore = max(dictcount.keys())\n",
    "    total = sum(dictcount.values())\n",
    "    print(total)\n",
    "    print(maximumscore)\n",
    "    #print(dictcount[7])\n",
    "    frequency = dictcount[maximumscore]\n",
    "    print(frequency)\n",
    "    proba = str(float(frequency/total))\n",
    "    if proba == \"1.0\":\n",
    "        proba = \"1.00\"\n",
    "        #print(proba)\n",
    "    proba1 = proba.split(\".\")\n",
    "    xproba = \".\".join([proba1[0], str(proba1[1])[:2]])\n",
    "    #print(xproba)\n",
    "    return xproba\n",
    "\n"
   ]
  },
  {
   "cell_type": "code",
   "execution_count": 10,
   "metadata": {},
   "outputs": [
    {
     "data": {
      "text/plain": [
       "'0.0'"
      ]
     },
     "execution_count": 10,
     "metadata": {},
     "output_type": "execute_result"
    }
   ],
   "source": [
    "findMaxGoalsProbability([1,2,2,3])"
   ]
  },
  {
   "cell_type": "code",
   "execution_count": 1,
   "metadata": {
    "collapsed": true
   },
   "outputs": [],
   "source": [
    "def formatCSV(CSV):\n",
    "    newlist = []\n",
    "    big =[]\n",
    "    wording = \"\"\n",
    "    for items in CSV:\n",
    "        new = items.split(\",\")\n",
    "        for words in new:\n",
    "            big.append(\"\\t\" + words)\n",
    "        big.append(\"\\n\")\n",
    "            \n",
    "    newWord = \"\".join(big)\n",
    "    return newWord\n",
    "        "
   ]
  },
  {
   "cell_type": "code",
   "execution_count": 2,
   "metadata": {},
   "outputs": [
    {
     "name": "stdout",
     "output_type": "stream",
     "text": [
      "\tName\tCourse\tPercentGrade\tLetterGrade\t\n",
      "\tMark Johnson\tBiology\t75\tB\n",
      "\n"
     ]
    }
   ],
   "source": [
    "# CSV = [\"Name,\",\"Course,\",\"Percent,\", \"Grade,\",\"Letter,\" ,\"Grade,\"]\n",
    "CSV = [\"Name,Course,PercentGrade,LetterGrade,\",\"Mark Johnson,Biology,75,B\"]\n",
    "print formatCSV(CSV)"
   ]
  },
  {
   "cell_type": "code",
   "execution_count": 8,
   "metadata": {
    "collapsed": true
   },
   "outputs": [],
   "source": [
    "# def count_bits(x):  # counts the number of 1s in an interger \n",
    "#     num_bits = 0\n",
    "#     while x:\n",
    "#         num_bits += x & 1\n",
    "#         x >>= 1\n",
    "#     return num_bits\n",
    "\n",
    "def count_bits2(x):  # counts the number of 1s in an interger \n",
    "    num_bits = 0\n",
    "    while x:\n",
    "        num_bits += x & 1\n",
    "        x >>= 1\n",
    "    return num_bits"
   ]
  },
  {
   "cell_type": "code",
   "execution_count": 25,
   "metadata": {},
   "outputs": [
    {
     "name": "stdout",
     "output_type": "stream",
     "text": [
      "0b111\n",
      "5\n"
     ]
    }
   ],
   "source": [
    "print bin(7)\n",
    "# print  bin(~5)\n",
    "x = 5\n",
    "x <<= 0\n",
    "print x"
   ]
  },
  {
   "cell_type": "code",
   "execution_count": 9,
   "metadata": {},
   "outputs": [
    {
     "data": {
      "text/plain": [
       "2"
      ]
     },
     "execution_count": 9,
     "metadata": {},
     "output_type": "execute_result"
    }
   ],
   "source": [
    "count_bits2(5)"
   ]
  },
  {
   "cell_type": "code",
   "execution_count": 1,
   "metadata": {
    "collapsed": true
   },
   "outputs": [],
   "source": [
    "def parity(x): \n",
    "    result = 0\n",
    "    while x:\n",
    "        result ^= x & 1\n",
    "        x >>= 1 \n",
    "    return result"
   ]
  },
  {
   "cell_type": "code",
   "execution_count": 3,
   "metadata": {},
   "outputs": [
    {
     "data": {
      "text/plain": [
       "1"
      ]
     },
     "execution_count": 3,
     "metadata": {},
     "output_type": "execute_result"
    }
   ],
   "source": [
    "parity(13)"
   ]
  },
  {
   "cell_type": "code",
   "execution_count": 5,
   "metadata": {
    "collapsed": true
   },
   "outputs": [],
   "source": [
    "def mergeSort(alist):\n",
    "    if len(alist) > 1:\n",
    "        mid = len(alist) //2\n",
    "        left= alist[:mid]\n",
    "        right = alist[mid:]\n",
    "        \n",
    "        mergeSort(left)\n",
    "        mergeSort(right)\n",
    "        \n",
    "        i = 0\n",
    "        j = 0\n",
    "        k = 0\n",
    "        \n",
    "        while i < len(left) and j < len(right):\n",
    "            if left[i] < right[j]:\n",
    "                alist[k] = left[i]\n",
    "                i+=1\n",
    "            else:\n",
    "                alist[k] = right[j]\n",
    "                j +=1\n",
    "            k+=1\n",
    "        while i < len(left):\n",
    "            alist[k] = left[i]\n",
    "            i+=1\n",
    "            k+=1\n",
    "        while j < len(right):\n",
    "            alist[k] = right[j]\n",
    "            j +=1\n",
    "            k+=1\n",
    "        \n",
    "        \n",
    "    return alist\n",
    "        \n",
    "                "
   ]
  },
  {
   "cell_type": "code",
   "execution_count": 6,
   "metadata": {},
   "outputs": [
    {
     "data": {
      "text/plain": [
       "[2, 4, 6, 9, 12, 13, 23, 34, 55, 56, 67, 78, 89, 133]"
      ]
     },
     "execution_count": 6,
     "metadata": {},
     "output_type": "execute_result"
    }
   ],
   "source": [
    "mergeSort([23,56,12,78,34,9,13,133,67,89,4,2,55,6])"
   ]
  }
 ],
 "metadata": {
  "kernelspec": {
   "display_name": "Python 2",
   "language": "python",
   "name": "python2"
  },
  "language_info": {
   "codemirror_mode": {
    "name": "ipython",
    "version": 2
   },
   "file_extension": ".py",
   "mimetype": "text/x-python",
   "name": "python",
   "nbconvert_exporter": "python",
   "pygments_lexer": "ipython2",
   "version": "2.7.14"
  }
 },
 "nbformat": 4,
 "nbformat_minor": 2
}
