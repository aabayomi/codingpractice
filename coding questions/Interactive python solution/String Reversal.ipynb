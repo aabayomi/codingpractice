{
 "cells": [
  {
   "cell_type": "code",
   "execution_count": null,
   "metadata": {
    "collapsed": true
   },
   "outputs": [],
   "source": []
  },
  {
   "cell_type": "code",
   "execution_count": 28,
   "metadata": {
    "collapsed": true
   },
   "outputs": [],
   "source": [
    " def reverse(chars):\n",
    "        # TODO: Implement me\n",
    "        if chars == None:\n",
    "            return None\n",
    "        \n",
    "        if chars == \"\":\n",
    "            return \"\"\n",
    "        \n",
    "        new_chars = list(chars)\n",
    "#         new_chars.reverse()\n",
    "        \n",
    "        print new_chars\n",
    "        new_list = []\n",
    "    \n",
    "        for letters in new_chars[::-1]:\n",
    "            new_list.append(letters)\n",
    "        print new_list\n",
    "        \n",
    "        pass"
   ]
  },
  {
   "cell_type": "code",
   "execution_count": 29,
   "metadata": {},
   "outputs": [
    {
     "name": "stdout",
     "output_type": "stream",
     "text": [
      "['f', 'o', 'o', ' ', 'b', 'a', 'r']\n",
      "['r', 'a', 'b', ' ', 'o', 'o', 'f']\n"
     ]
    }
   ],
   "source": [
    "reverse(\"foo bar\")"
   ]
  },
  {
   "cell_type": "code",
   "execution_count": 1,
   "metadata": {
    "collapsed": true
   },
   "outputs": [],
   "source": [
    "class Stack:\n",
    "    def __init__(self):\n",
    "        self.items =[]\n",
    "    def push(self,item):\n",
    "          self.items.append(item)\n",
    "    def pop(self):\n",
    "        return self.items.pop()\n",
    "    def peek(self):\n",
    "        return self.items[len(self.items)-1]\n",
    "    def isEmpty(self):\n",
    "        return self.items == []\n",
    "    def size(self):\n",
    "        return len(self.items)"
   ]
  },
  {
   "cell_type": "code",
   "execution_count": 9,
   "metadata": {
    "collapsed": true
   },
   "outputs": [],
   "source": [
    "def reverse_str(string):\n",
    "    \n",
    "    string_stack = Stack()\n",
    "    for char in string:\n",
    "        string_stack.push(char)\n",
    "    rev_str =\"\"\n",
    "    while not string_stack.isEmpty():\n",
    "        rev_str = rev_str + string_stack.pop()\n",
    "    return rev_str\n",
    "        \n",
    "        "
   ]
  },
  {
   "cell_type": "code",
   "execution_count": 10,
   "metadata": {},
   "outputs": [
    {
     "data": {
      "text/plain": [
       "'rab oof'"
      ]
     },
     "execution_count": 10,
     "metadata": {},
     "output_type": "execute_result"
    }
   ],
   "source": [
    "reverse_str(\"foo bar\")"
   ]
  }
 ],
 "metadata": {
  "kernelspec": {
   "display_name": "Python 2",
   "language": "python",
   "name": "python2"
  },
  "language_info": {
   "codemirror_mode": {
    "name": "ipython",
    "version": 2
   },
   "file_extension": ".py",
   "mimetype": "text/x-python",
   "name": "python",
   "nbconvert_exporter": "python",
   "pygments_lexer": "ipython2",
   "version": "2.7.14"
  }
 },
 "nbformat": 4,
 "nbformat_minor": 2
}
