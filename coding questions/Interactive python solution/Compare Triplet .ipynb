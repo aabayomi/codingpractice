{
 "cells": [
  {
   "cell_type": "code",
   "execution_count": 13,
   "metadata": {
    "collapsed": true
   },
   "outputs": [],
   "source": [
    "def compareTriplets(a,b):\n",
    "    \n",
    "    score = [0,0]\n",
    "    \n",
    "    aliceScore = 0\n",
    "    bobScore = 0\n",
    "    \n",
    "    for i,v in zip (a,b):\n",
    "        if i > v:\n",
    "            aliceScore +=1\n",
    "        elif i < v:\n",
    "            bobScore += 1\n",
    "        else:\n",
    "            pass\n",
    "    score[0] = aliceScore\n",
    "    score [1] = bobScore\n",
    "    \n",
    "    return score\n",
    "        "
   ]
  },
  {
   "cell_type": "code",
   "execution_count": 14,
   "metadata": {},
   "outputs": [
    {
     "data": {
      "text/plain": [
       "[1, 1]"
      ]
     },
     "execution_count": 14,
     "metadata": {},
     "output_type": "execute_result"
    }
   ],
   "source": [
    "a= [1,2,3]\n",
    "b = [3,2,1]\n",
    "compareTriplets(a,b)"
   ]
  }
 ],
 "metadata": {
  "kernelspec": {
   "display_name": "Python 2",
   "language": "python",
   "name": "python2"
  },
  "language_info": {
   "codemirror_mode": {
    "name": "ipython",
    "version": 2
   },
   "file_extension": ".py",
   "mimetype": "text/x-python",
   "name": "python",
   "nbconvert_exporter": "python",
   "pygments_lexer": "ipython2",
   "version": "2.7.14"
  }
 },
 "nbformat": 4,
 "nbformat_minor": 2
}
