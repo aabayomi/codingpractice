{
 "cells": [
  {
   "cell_type": "code",
   "execution_count": null,
   "metadata": {
    "collapsed": true
   },
   "outputs": [],
   "source": [
    "Stack implementation using array\n",
    "\n"
   ]
  },
  {
   "cell_type": "code",
   "execution_count": 1,
   "metadata": {
    "collapsed": true
   },
   "outputs": [],
   "source": [
    "class Stack(object):\n",
    "    def __init__(self,num_stack,stack_size):\n",
    "        self.num_stack = num_stack\n",
    "        self.stack_size = stack_size\n",
    "        self.stack_pointers = [-1] * self.num_stack\n",
    "        self.stack_array = [None] * self.num_stack * self.stack_size\n",
    "        \n",
    "    def abs_index(self,stack_index):\n",
    "        return stack_index * self.stack_size + self.stack_pointers[stack_index]\n",
    "    def push(self,stack_index,data):\n",
    "        if self.stack_pointers[stack_index] == self.stack_size - 1:\n",
    "            raise Exception(\"Stack is full\")\n",
    "        stack_pointers[stack_index] += 1\n",
    "        array_index = self.abs_index(stack_index)\n",
    "        self.stack_array[array_index] = data\n",
    "    def pop(self,stack_index):\n",
    "        if self.stack_pointers[stack_index] == -1:\n",
    "            raise Exception(\"Stack is empty\")\n",
    "        array_index = self.abs_index(stack_index)\n",
    "        data = self.stack_array[array_index]\n",
    "        self.stack_array[array_index] = None\n",
    "        self.stack_pointers[stack_index] -=1\n",
    "        return data\n",
    "        \n",
    "        \n",
    "        "
   ]
  }
 ],
 "metadata": {
  "kernelspec": {
   "display_name": "Python 2",
   "language": "python",
   "name": "python2"
  },
  "language_info": {
   "codemirror_mode": {
    "name": "ipython",
    "version": 2
   },
   "file_extension": ".py",
   "mimetype": "text/x-python",
   "name": "python",
   "nbconvert_exporter": "python",
   "pygments_lexer": "ipython2",
   "version": "2.7.14"
  }
 },
 "nbformat": 4,
 "nbformat_minor": 2
}
