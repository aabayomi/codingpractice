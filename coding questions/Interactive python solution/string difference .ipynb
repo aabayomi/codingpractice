{
 "cells": [
  {
   "cell_type": "code",
   "execution_count": 3,
   "metadata": {
    "collapsed": true
   },
   "outputs": [],
   "source": [
    "def find_diff(s, t):\n",
    "        # TODO: Implement me\n",
    "        if s == \"\" or t == \"\":\n",
    "            raise TypeError (\"Invalid \")\n",
    "        \n",
    "        lookup_dict = {}\n",
    "        \n",
    "        for char in s:\n",
    "            lookup_dict[char]=lookup_dict.get(char,0) + 1\n",
    "        for char in t:\n",
    "            if char in lookup_dict:\n",
    "                lookup_dict.get(char)-1\n",
    "            else:\n",
    "                return char      "
   ]
  },
  {
   "cell_type": "code",
   "execution_count": 4,
   "metadata": {},
   "outputs": [
    {
     "data": {
      "text/plain": [
       "'e'"
      ]
     },
     "execution_count": 4,
     "metadata": {},
     "output_type": "execute_result"
    }
   ],
   "source": [
    "find_diff('aaabbcdd', 'abdbacade')"
   ]
  }
 ],
 "metadata": {
  "kernelspec": {
   "display_name": "Python 2",
   "language": "python",
   "name": "python2"
  },
  "language_info": {
   "codemirror_mode": {
    "name": "ipython",
    "version": 2
   },
   "file_extension": ".py",
   "mimetype": "text/x-python",
   "name": "python",
   "nbconvert_exporter": "python",
   "pygments_lexer": "ipython2",
   "version": "2.7.14"
  }
 },
 "nbformat": 4,
 "nbformat_minor": 2
}
