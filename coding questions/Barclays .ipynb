{
 "cells": [
  {
   "cell_type": "markdown",
   "metadata": {},
   "source": [
    "Minimize side bar\n",
    "Challenge Tab - Active\n",
    " Test Case Output Tab\n",
    "Programming Challenge Description:\n",
    "Credits: Programming Challenges by Steven S. Skiena and Miguel A. Revilla\n",
    "\n",
    "The problem is as follows: choose a number, reverse its digits and add it to the original. If the sum is not a palindrome (which means, it is not the same number from left to right and right to left), repeat this procedure. eg. \n",
    "195 (initial number) + 591 (reverse of initial number) = 786\n",
    "\n",
    "786 + 687 = 1473\n",
    "\n",
    "1473 + 3741 = 5214\n",
    "\n",
    "5214 + 4125 = 9339 (palindrome)\n",
    "In this particular case the palindrome 9339 appeared after the 4th addition. This method leads to palindromes in a few step for almost all of the integers. But there are interesting exceptions. 196 is the first number for which no palindrome has been found. It is not proven though, that there is no such a palindrome.\n",
    "Input:\n",
    "Your program should read lines of text from standard input. Each line will contain an integer n < 4,294,967,295. Assume each line of input will always have an answer and that it is computable with less than 1000 iterations (additions)\n",
    "Output:\n",
    "For each line of input, generate a line of output which is the number of iterations (additions) to compute the palindrome and the resulting palindrome. (they should be on one line and separated by a single space character)\n",
    "\n",
    "Test 1\n",
    "\n",
    "Test Input Download Test Input195\n",
    "Expected Output Download Test Output4 9339"
   ]
  },
  {
   "cell_type": "markdown",
   "metadata": {},
   "source": [
    "Programming Challenge Description:\n",
    "Given a sequence, write a program to detect cycles within it.\n",
    "Input:\n",
    "Your program should read lines of text from standard input. Each line will contain a sequence of space delimited numbers, which can have multiple digits (e.g., 12). Ignore empty lines.\n",
    "Output:\n",
    "For each line of input, print to standard output the first cycle you find. Ensure that there are no trailing spaces on each line you print.\n",
    "Test 1\n",
    "Test Input Download Test \n",
    "Input2 0 6 3 1 6 3 1 6 3 1\n",
    "\n",
    "Expected Output Download Test Output6 3 1"
   ]
  },
  {
   "cell_type": "code",
   "execution_count": null,
   "metadata": {
    "collapsed": true
   },
   "outputs": [],
   "source": [
    "def get_cycle(line):\n",
    "    nums = line.strip().split(' ')\n",
    "    for x in range(2, len(nums)): \n",
    "        for y in range(0, x):\n",
    "\n",
    "            if nums[x] == nums[y]:\n",
    "                seq = [nums[x]] \n",
    "                adder = 1       \n",
    "                ok = True       \n",
    "\n",
    "                while ok and y + adder < x:\n",
    "                    if nums[x + adder] == nums[y + adder]:  \n",
    "                        seq.append(nums[x + adder])         \n",
    "                        adder += 1                   \n",
    "                    else:\n",
    "                        ok = False                          \n",
    "\n",
    "                if ok and len(seq) > 1:\n",
    "                    print(' '.join(seq))    `\n",
    "                    return"
   ]
  },
  {
   "cell_type": "code",
   "execution_count": 2,
   "metadata": {},
   "outputs": [
    {
     "ename": "TypeError",
     "evalue": "search() takes at least 2 arguments (1 given)",
     "output_type": "error",
     "traceback": [
      "\u001b[0;31m---------------------------------------------------------------------------\u001b[0m",
      "\u001b[0;31mTypeError\u001b[0m                                 Traceback (most recent call last)",
      "\u001b[0;32m<ipython-input-2-eec62d423696>\u001b[0m in \u001b[0;36m<module>\u001b[0;34m()\u001b[0m\n\u001b[1;32m      1\u001b[0m \u001b[0;32mimport\u001b[0m \u001b[0mre\u001b[0m\u001b[0;34m\u001b[0m\u001b[0m\n\u001b[1;32m      2\u001b[0m \u001b[0;34m\u001b[0m\u001b[0m\n\u001b[0;32m----> 3\u001b[0;31m \u001b[0mmatch\u001b[0m \u001b[0;34m=\u001b[0m \u001b[0mre\u001b[0m\u001b[0;34m.\u001b[0m\u001b[0msearch\u001b[0m\u001b[0;34m(\u001b[0m\u001b[0;34m'2 0 6 3 1 6 3 1 6 3 1'\u001b[0m\u001b[0;34m)\u001b[0m\u001b[0;34m\u001b[0m\u001b[0m\n\u001b[0m\u001b[1;32m      4\u001b[0m \u001b[0;32mprint\u001b[0m \u001b[0mmatch\u001b[0m\u001b[0;34m.\u001b[0m\u001b[0mgroup\u001b[0m\u001b[0;34m(\u001b[0m\u001b[0;36m1\u001b[0m\u001b[0;34m)\u001b[0m\u001b[0;34m\u001b[0m\u001b[0m\n",
      "\u001b[0;31mTypeError\u001b[0m: search() takes at least 2 arguments (1 given)"
     ]
    }
   ],
   "source": [
    "import re\n",
    "\n",
    "match = re.search('2 0 6 3 1 6 3 1 6 3 1')\n",
    "print match.group(1)"
   ]
  }
 ],
 "metadata": {
  "kernelspec": {
   "display_name": "Python 2",
   "language": "python",
   "name": "python2"
  },
  "language_info": {
   "codemirror_mode": {
    "name": "ipython",
    "version": 2
   },
   "file_extension": ".py",
   "mimetype": "text/x-python",
   "name": "python",
   "nbconvert_exporter": "python",
   "pygments_lexer": "ipython2",
   "version": "2.7.14"
  }
 },
 "nbformat": 4,
 "nbformat_minor": 2
}
