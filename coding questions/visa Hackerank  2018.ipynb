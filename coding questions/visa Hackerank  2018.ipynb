{
 "cells": [
  {
   "cell_type": "code",
   "execution_count": 4,
   "metadata": {
    "collapsed": true
   },
   "outputs": [],
   "source": [
    "# def findSchedule(workHours,dayHours,pattern):\n",
    "#     mark = pattern.count(\"?\")\n",
    "#     rem = workHours - dayHours \n",
    "    \n",
    "#     print mark\n",
    "    \n",
    "from functools import reduce\n",
    "from itertools import combinations\n",
    "\n",
    "def assign(v, p):\n",
    "  v[p[0]] = p[1]\n",
    "  return v\n",
    "\n",
    "def interp(word, letter, size):\n",
    "  return (''.join(reduce(assign, zip(comb, word), [letter] * size))\n",
    "          for comb in combinations(range(size), len(word)))"
   ]
  },
  {
   "cell_type": "code",
   "execution_count": null,
   "metadata": {
    "collapsed": true
   },
   "outputs": [],
   "source": []
  },
  {
   "cell_type": "code",
   "execution_count": 7,
   "metadata": {},
   "outputs": [
    {
     "name": "stdout",
     "output_type": "stream",
     "text": [
      "cats.n.n\n",
      "cat.ns.n\n",
      "cat.n.ns\n",
      "ca.nts.n\n",
      "ca.nt.ns\n",
      "ca.n.nts\n",
      "c.nats.n\n",
      "c.nat.ns\n",
      "c.na.nts\n",
      "c.n.nats\n",
      ".ncats.n\n",
      ".ncat.ns\n",
      ".nca.nts\n",
      ".nc.nats\n",
      ".n.ncats\n"
     ]
    }
   ],
   "source": [
    "# findSchedule(56,8,\"???8???\")\n",
    "print('\\n'.join(interp(\"cats\", \".n\", 6)))"
   ]
  },
  {
   "cell_type": "code",
   "execution_count": 6,
   "metadata": {
    "collapsed": true
   },
   "outputs": [],
   "source": [
    "def subsetsum(array,num):\n",
    "\n",
    "    if num == 0 or num < 1:\n",
    "        return None\n",
    "    elif len(array) == 0:\n",
    "        return None\n",
    "    else:\n",
    "        if array[0] == num:\n",
    "            return [array[0]]\n",
    "        else:\n",
    "            with_v = subsetsum(array[1:],(num - array[0])) \n",
    "            if with_v:\n",
    "                return [array[0]] + with_v\n",
    "            else:\n",
    "                return subsetsum(array[1:],num)"
   ]
  },
  {
   "cell_type": "code",
   "execution_count": null,
   "metadata": {
    "collapsed": true
   },
   "outputs": [],
   "source": [
    "subsetsum([])"
   ]
  },
  {
   "cell_type": "markdown",
   "metadata": {},
   "source": [
    "# Website Pagination"
   ]
  },
  {
   "cell_type": "code",
   "execution_count": 25,
   "metadata": {
    "collapsed": true
   },
   "outputs": [],
   "source": [
    "import itertools\n",
    "from itertools import izip_longest\n",
    "\n",
    "def sortAscending(alist):\n",
    "    for passnum in range(len(alist)-1,0,-1):\n",
    "        for i in range(passnum):\n",
    "            if alist[i]>alist[i+1]:\n",
    "                temp = alist[i]\n",
    "                alist[i] = alist[i+1]\n",
    "                alist[i+1] = temp\n",
    "                \n",
    "    return alist\n",
    "\n",
    "def sortDescending(alist):\n",
    "    for passnum in range(len(alist)-1,0,-1):\n",
    "        for i in range(passnum):\n",
    "            if alist[i]< alist[i+1]:\n",
    "                temp = alist[i]\n",
    "                alist[i] = alist[i+1]\n",
    "                alist[i+1] = temp\n",
    "                \n",
    "    return alist\n",
    "\n",
    "def grouper(n, iterable, fillvalue=None):\n",
    "    args = [iter(iterable)] * n\n",
    "    v = izip_longest(fillvalue=fillvalue, *args)\n",
    "    return list(v)\n",
    "\n",
    "\n",
    "def fectchItemsToDisplay(items,sortParameter,sortOrder,itemsPerpage,Pagenumber):\n",
    "    dicto = {}\n",
    "    for item in items:\n",
    "        dicto[item[sortParameter]] = item\n",
    "#     print dicto,list(dicto.keys())\n",
    "        \n",
    "    if sortOrder == 0:\n",
    "        alist = list(dicto.keys())\n",
    "        sortedPage = sortAscending(alist)\n",
    "#         print sortedPage\n",
    "    elif sortOrder == 1:\n",
    "        alist = list(dicto.keys())\n",
    "        sortedPage = sortDescending(alist)\n",
    "#         print sortedPage\n",
    "    else:\n",
    "        raise ValueError(\"invalid value\")\n",
    "        \n",
    "        \n",
    "    if itemsPerpage > len(sortedPage):\n",
    "        raise ValueError(\"items cannot be greater\")\n",
    "    else:\n",
    "        pageRank = grouper(itemsPerpage,sortedPage)\n",
    "#     print \"pagerank\" ,pageRank\n",
    "#     print \n",
    "#     print \"list pagarank \",list(pageRank [0])\n",
    "    \n",
    "#     print \"Pagenumber\",Pagenumber\n",
    "    page = list(pageRank[Pagenumber])\n",
    "    \n",
    "#     print \"page\",page\n",
    "    \n",
    "    pageToView = page\n",
    "    \n",
    "#     print \"pageToView\",pageToView\n",
    "    results = []\n",
    "    for keys in pageToView:\n",
    "        for dictkeys , values in dicto.items():\n",
    "            if keys == dictkeys:\n",
    "                results.append(str(values[0]).split())\n",
    "            else:\n",
    "                pass\n",
    "            \n",
    "#     print results\n",
    "    \n",
    "    for i in results:\n",
    "        return str(i[0])"
   ]
  },
  {
   "cell_type": "code",
   "execution_count": 27,
   "metadata": {},
   "outputs": [
    {
     "name": "stdout",
     "output_type": "stream",
     "text": [
      "rpaqgbjxik\n",
      "vjrrisdfxe\n",
      "None\n"
     ]
    }
   ],
   "source": [
    "item2 = [[\"p1\",1,2],[\"p2\",2,1]]\n",
    "items1 = [[\"item1\",10,15],[\"item2\",3,4],[\"item3\",17,18]]\n",
    "\n",
    "\n",
    "items = [[\"owjevtkuyv\", 58584272 ,62930912],[\"rpaqgbjxik\" ,9425650 ,96088250],[\"dfbkasyqcn\" ,37469674 ,46363902],[\"vjrrisdfxe\", 18666489 ,88046739]]\n",
    "\n",
    "print fectchItemsToDisplay(items,2,1,2,0)\n",
    "\n",
    "# print fectchItemsToDisplay(items1,1,0,2,1)\n",
    "# print \n",
    "# print fectchItemsToDisplay(item2,0,0,1,0)"
   ]
  },
  {
   "cell_type": "code",
   "execution_count": 85,
   "metadata": {
    "collapsed": true
   },
   "outputs": [],
   "source": [
    "import itertools\n",
    "from itertools import izip_longest\n",
    "\n",
    "def grouper(n, iterable, fillvalue=None):\n",
    "    \"grouper(3, 'ABCDEFG', 'x') --> ABC DEF Gxx\"\n",
    "    args = [iter(iterable)] * n\n",
    "    v = izip_longest(fillvalue=fillvalue, *args)\n",
    "    return list(v)\n"
   ]
  },
  {
   "cell_type": "code",
   "execution_count": 99,
   "metadata": {},
   "outputs": [
    {
     "name": "stdout",
     "output_type": "stream",
     "text": [
      "[(2, 3, None)]\n"
     ]
    }
   ],
   "source": [
    "print grouper(3,[2, 3])\n",
    "# d = grouper(3, 'ABCDEFG')\n",
    "# print d\n",
    "# print \"\".join(d[0])"
   ]
  },
  {
   "cell_type": "markdown",
   "metadata": {},
   "source": [
    "Find The Winner"
   ]
  },
  {
   "cell_type": "code",
   "execution_count": 6,
   "metadata": {
    "collapsed": true
   },
   "outputs": [],
   "source": [
    "def winner (andrea,maria,s):\n",
    "    \n",
    "    lookup = {}\n",
    "    lookup[\"andrea\"] = 0\n",
    "    lookup[\"maria\"] = 0\n",
    "    \n",
    "    \n",
    "    if s.lower() == \"even\": \n",
    "        for i,(a, m)  in enumerate(zip(andrea, maria)):\n",
    "            if i % 2 == 1:\n",
    "                pass\n",
    "            else:\n",
    "                lookup[\"andrea\"] += (a-m)\n",
    "                lookup[\"maria\"] += (m-a)\n",
    "        \n",
    "        andreaScore = lookup[\"andrea\"]\n",
    "        mariaScore = lookup[\"maria\"]\n",
    "        print andreaScore, mariaScore \n",
    "        \n",
    "        \n",
    "        if andreaScore > mariaScore:\n",
    "            return \"Andrea\"\n",
    "        elif andreaScore < mariaScore:\n",
    "            return \"Maria\"\n",
    "        else:\n",
    "            return \"Tie\"  \n",
    "        \n",
    "    elif s.lower() == \"odd\":\n",
    "        \n",
    "        for i,(a, m)  in enumerate(zip(andrea, maria)):\n",
    "            if i % 2 == 0:\n",
    "                pass\n",
    "            else:\n",
    "                lookup[\"andrea\"] += (a-m)\n",
    "                lookup[\"maria\"] += (m-a)\n",
    "        \n",
    "        andreaScore = lookup[\"andrea\"]\n",
    "        mariaScore = lookup[\"maria\"]\n",
    "        print andreaScore, mariaScore \n",
    "        \n",
    "        \n",
    "        if andreaScore > mariaScore:\n",
    "            return \"Andrea\"\n",
    "        elif andreaScore < mariaScore:\n",
    "            return \"Maria\"\n",
    "        else:\n",
    "            return \"Tie\" \n",
    "    else:\n",
    "        return NameError(\"It has to be even or odd\")\n",
    "    \n",
    "    "
   ]
  },
  {
   "cell_type": "code",
   "execution_count": 7,
   "metadata": {},
   "outputs": [
    {
     "name": "stdout",
     "output_type": "stream",
     "text": [
      "-1 1\n",
      "Maria\n",
      "2 -2\n",
      "Andrea\n"
     ]
    }
   ],
   "source": [
    "print winner([1,2,3],[2,1,3],\"even\")\n",
    "print winner([4,5,7],[3,5,6],\"even\")"
   ]
  },
  {
   "cell_type": "markdown",
   "metadata": {},
   "source": [
    "# Smart Sale"
   ]
  },
  {
   "cell_type": "code",
   "execution_count": 363,
   "metadata": {
    "collapsed": true
   },
   "outputs": [],
   "source": [
    "def sortAscending(alist):\n",
    "    for passnum in range(len(alist)-1,0,-1):\n",
    "        for i in range(passnum):\n",
    "            if alist[i]>alist[i+1]:\n",
    "                temp = alist[i]\n",
    "                alist[i] = alist[i+1]\n",
    "                alist[i+1] = temp         \n",
    "    return alist\n",
    "\n",
    "def remainderList(sortedValue,rem):\n",
    "    newlist = []\n",
    "    i = 0\n",
    "    while rem > 0:\n",
    "        remainder = rem - sortedValue[i]\n",
    "        if remainder > 0:\n",
    "            newlist.append(0)\n",
    "        else:\n",
    "            newlist.append(abs(remainder))\n",
    "        rem = remainder\n",
    "        i +=1\n",
    "    for i in range(len(newlist),len(sortedValue)):\n",
    "        newlist.append(sortedValue[i])\n",
    "    return newlist\n",
    "       \n",
    "def deleteProducts(ids,m):\n",
    "    lookup = {}\n",
    "    for item in ids:\n",
    "        lookup[item] = lookup.get(item,0) + 1\n",
    "#     print lookup\n",
    "    \n",
    "    \n",
    "    alist = list(lookup.values())\n",
    "    sortedValue = sortAscending(alist)\n",
    "#     print sortedValue\n",
    "    maxDeduct = remainderList(sortedValue,m)\n",
    "#     print maxDeduct\n",
    "    \n",
    "    count = 0\n",
    "    for i in maxDeduct:\n",
    "        if i == 0:\n",
    "            pass\n",
    "        else:\n",
    "            count += 1\n",
    "    return count\n",
    "    "
   ]
  },
  {
   "cell_type": "code",
   "execution_count": 364,
   "metadata": {},
   "outputs": [
    {
     "name": "stdout",
     "output_type": "stream",
     "text": [
      "2\n",
      "1\n",
      "1\n"
     ]
    }
   ],
   "source": [
    "print deleteProducts([1,1,1,2,2,3],2)\n",
    "print deleteProducts([1,2,3,1,2,2],3)\n",
    "print deleteProducts([1,1,1,1],2)"
   ]
  },
  {
   "cell_type": "code",
   "execution_count": 201,
   "metadata": {},
   "outputs": [
    {
     "data": {
      "text/plain": [
       "0"
      ]
     },
     "execution_count": 201,
     "metadata": {},
     "output_type": "execute_result"
    }
   ],
   "source": [
    "2%2"
   ]
  },
  {
   "cell_type": "code",
   "execution_count": 338,
   "metadata": {
    "collapsed": true
   },
   "outputs": [],
   "source": [
    "def remainderList(sortedValue,rem):\n",
    "    newlist = []\n",
    "    i = 0\n",
    "    print \"rem\", rem\n",
    "    while rem > 0:\n",
    "        print \"i\",i\n",
    "        remainder = rem - sortedValue[i]\n",
    "        print \"r\",remainder\n",
    "        if remainder > 0:\n",
    "            newlist.append(0)\n",
    "        else:\n",
    "            newlist.append(abs(remainder))\n",
    "        rem = remainder\n",
    "        print \"rem\",rem\n",
    "        i +=1\n",
    "    print newlist\n",
    "    for i in range(len(newlist),len(sortedValue)):\n",
    "        newlist.append(sortedValue[i])\n",
    "    print newlist\n",
    "       \n",
    "    \n",
    "    \n",
    "#     for ele in sortedValue:\n",
    "#         remainder = rem - ele\n",
    "#         print \"first\" ,rem\n",
    "#         if remainder != 0:\n",
    "#             newlist.append(0)\n",
    "#         elif remainder < 0:\n",
    "#             newlist.append(abs(remainder))\n",
    "# #             while remainder < 0:\n",
    "# #                 newlist.append(ele)\n",
    "#         rem = remainder\n",
    "#         newlist.append(ele)\n",
    "#         print remainder\n",
    "#     print newlist\n",
    "            \n",
    "            "
   ]
  },
  {
   "cell_type": "code",
   "execution_count": 342,
   "metadata": {},
   "outputs": [
    {
     "name": "stdout",
     "output_type": "stream",
     "text": [
      "rem 2\n",
      "i 0\n",
      "r 1\n",
      "rem 1\n",
      "i 1\n",
      "r -1\n",
      "rem -1\n",
      "[0, 1]\n",
      "[0, 1, 3]\n"
     ]
    }
   ],
   "source": [
    "remainderList([1,2,3],2)"
   ]
  },
  {
   "cell_type": "code",
   "execution_count": 5,
   "metadata": {
    "collapsed": true
   },
   "outputs": [],
   "source": [
    "import operator\n",
    "\n",
    "def sortAscending(alist, sparam):\n",
    "    alist.sort(key=operator. itemgetter(sparam), reverse=False)             \n",
    "    return alist\n",
    "\n",
    "def sortDescending(alist, sparam):\n",
    "    alist.sort(key=operator. itemgetter(sparam), reverse=True)           \n",
    "    return alist\n",
    "\n",
    "\n",
    "def fectchItemsToDisplay(items, sortParameter,sortOrder, itemsPerpage,Pagenumber):\n",
    "        \n",
    "    if sortOrder == 0:\n",
    "        alist = list(items)\n",
    "        sortedPage = sortAscending(alist, sortParameter)\n",
    "\n",
    "    elif sortOrder == 1:\n",
    "        alist = list(items)\n",
    "        sortedPage = sortDescending(alist, sortParameter)\n",
    "    else:\n",
    "        raise ValueError(\"invalid value\")\n",
    "        \n",
    "        \n",
    "    if itemsPerpage > len(sortedPage):\n",
    "        raise ValueError(\"items cannot be greater\")\n",
    "    else:\n",
    "        refine = itemsPerpage * (Pagenumber-1)\n",
    "        \n",
    "        if len(items) >= itemsPerpage*Pagenumber:\n",
    "            results = sortedPage[refine:refine+ itemsPerpage]\n",
    "        else:\n",
    "            results = sortedPage[refine:]\n",
    "        \n",
    "    page = alist\n",
    "    \n",
    "#     print \"page\",page\n",
    "    \n",
    "    pageToView = page\n",
    "    \n",
    "#     print \"pageToView\",pageToView\n",
    "    \n",
    "    \n",
    "   \n",
    "\n",
    "    return(results)\n",
    "\n"
   ]
  },
  {
   "cell_type": "code",
   "execution_count": 6,
   "metadata": {},
   "outputs": [
    {
     "ename": "SyntaxError",
     "evalue": "invalid syntax (<ipython-input-6-e4c4ee286b6f>, line 4)",
     "output_type": "error",
     "traceback": [
      "\u001b[0;36m  File \u001b[0;32m\"<ipython-input-6-e4c4ee286b6f>\"\u001b[0;36m, line \u001b[0;32m4\u001b[0m\n\u001b[0;31m    items = [[\"owjevtkuyv\", 58584272 ,62930912],[\"rpaqgbjxik\" ,9425650 ,96088250],[\"dfbkasyqcn\" ,37469674 ,46363902],[\"vjrrisdfxe\", 18666489 ,88046739]]2\u001b[0m\n\u001b[0m                                                                                                                                                        ^\u001b[0m\n\u001b[0;31mSyntaxError\u001b[0m\u001b[0;31m:\u001b[0m invalid syntax\n"
     ]
    }
   ],
   "source": [
    "item2 = [[\"p1\",1,2],[\"p2\",2,1]]\n",
    "# items1 = [[\"item1\",10,15],[\"item2\",3,4],[\"item3\",17,18]]\n",
    "\n",
    "# items = [[\"owjevtkuyv\", 58584272 ,62930912],[\"rpaqgbjxik\" ,9425650 ,96088250],[\"dfbkasyqcn\" ,37469674 ,46363902],[\"vjrrisdfxe\", 18666489 ,88046739]]2\n",
    "print fectchItemsToDisplay(item2,2,1,2,0)"
   ]
  },
  {
   "cell_type": "code",
   "execution_count": 22,
   "metadata": {
    "collapsed": true
   },
   "outputs": [],
   "source": [
    "def isEven(andrea,maria,s):\n",
    "    andreaScore = 0\n",
    "    mariaScore = 0 \n",
    "    \n",
    "    for i,(a, m)  in enumerate(zip(andrea, maria)):\n",
    "        if i % 2 == 1:\n",
    "            pass\n",
    "        else:\n",
    "            andreaScore += (a-m)\n",
    "            mariaScore  += (m-a)\n",
    "    print andreaScore, mariaScore \n",
    "        \n",
    "    if andreaScore > mariaScore:\n",
    "        return \"Andrea\"\n",
    "    elif andreaScore < mariaScore:\n",
    "        return \"Maria\"\n",
    "    else:\n",
    "        return \"Tie\"\n",
    "\n",
    "\n",
    "def isOdd(andrea,maria,s):\n",
    "    andreaScore = 0\n",
    "    mariaScore = 0 \n",
    "    \n",
    "    for i,(a, m)  in enumerate(zip(andrea, maria)):\n",
    "        if i % 2 == 0:\n",
    "            pass\n",
    "        else:\n",
    "            andreaScore += (a-m)\n",
    "            mariaScore  += (m-a)\n",
    "         \n",
    "    if andreaScore > mariaScore:\n",
    "        return \"Andrea\"\n",
    "    elif andreaScore < mariaScore:\n",
    "        return \"Maria\"\n",
    "    else:\n",
    "        return \"Tie\"\n",
    "\n",
    "def winner (andrea,maria,s):    \n",
    "    if s.upper() == \"EVEN\":\n",
    "        winnerS = isEven(andrea,maria,s)\n",
    "        return winnerS\n",
    "    elif s.upper == \"ODD\":\n",
    "        winnerS = isOdd(andrea,maria,s)\n",
    "        return winnerS\n",
    "    else:\n",
    "        raise Error(\"It has to be even or odd\")"
   ]
  },
  {
   "cell_type": "code",
   "execution_count": 21,
   "metadata": {},
   "outputs": [
    {
     "name": "stdout",
     "output_type": "stream",
     "text": [
      "-1 1\n",
      "Maria\n",
      "2 -2\n",
      "Andrea\n"
     ]
    }
   ],
   "source": [
    "print winner([1,2,3],[2,1,3],\"even\")\n",
    "print winner([4,5,7],[3,5,6],\"even\")"
   ]
  },
  {
   "cell_type": "code",
   "execution_count": 24,
   "metadata": {
    "collapsed": true
   },
   "outputs": [],
   "source": [
    "# def selectionSort(alist):\n",
    "#     for fillslot in range(len(alist)-1,0,-1):\n",
    "#         positionOfMax=0\n",
    "#         for location in range(1,fillslot+1):\n",
    "#             if alist[location]>alist[positionOfMax]:\n",
    "#                 positionOfMax = location\n",
    "\n",
    "#         temp = alist[fillslot]\n",
    "#         alist[fillslot] = alist[positionOfMax]\n",
    "#         alist[positionOfMax] = temp\n",
    "#     return alist\n",
    "    \n",
    "\n",
    "def remList(itemSorted,maxRem):\n",
    "    new = []\n",
    "    i = 0\n",
    "    while maxRem > 0:\n",
    "        remainder = maxRem- itemSorted[i]\n",
    "        if remainder > 0:\n",
    "            newlist.append(0)\n",
    "        else:\n",
    "            new.append(abs(remainder))\n",
    "        maxRem= remainder\n",
    "        i +=1\n",
    "        \n",
    "    for i in range(len(new),len(itemSorted)):\n",
    "        new.append(itemSorted[i])\n",
    "    return new\n",
    "       \n",
    "def deleteProducts(ids,m):\n",
    "    productDict = {}\n",
    "    for item in ids:\n",
    "        productDict[item] = productDict.get(item,0) + 1\n",
    "\n",
    "    itemCount = list(lookup.values())\n",
    "    sortedValue = sorted(itemCount)\n",
    "#     print sortedValue\n",
    "    deductList = remList(sortedValue,m)\n",
    "#     print maxDeduct\n",
    "    \n",
    "    count = 0\n",
    "    for i in deductList:\n",
    "        if i == 0:\n",
    "            pass\n",
    "        else:\n",
    "            count += 1\n",
    "    return count"
   ]
  },
  {
   "cell_type": "code",
   "execution_count": null,
   "metadata": {
    "collapsed": true
   },
   "outputs": [],
   "source": [
    "class Result {\n",
    " \n",
    "    /*\n",
    "     * Complete the 'fetchItemsToDisplay' function below.\n",
    "     *\n",
    "     * The function is expected to return a STRING_ARRAY.\n",
    "     * The function accepts following parameters:\n",
    "     *  1. 2D_STRING_ARRAY items\n",
    "     *  2. INTEGER sortParameter\n",
    "     *  3. INTEGER sortOrder\n",
    "     *  4. INTEGER itemPerPage\n",
    "     *  5. INTEGER pageNumber\n",
    "     */\n",
    " \n",
    "    public static List<String> fetchItemsToDisplay(List<List<String>> items, int sortParameter, int sortOrder, int itemPerPage, int pageNumber) {\n",
    "    // Write your code here\n",
    "sort2DArray(items,sortParameter);\n",
    "     if(sortOrder==1){\n",
    "    List<List<String>> list = items;\n",
    "    Collections.reverse(list);\n",
    "     }\n",
    "   int pageCount=items.size()/itemPerPage;\n",
    "   int pageCountRemainder=items.size()%itemPerPage;\n",
    "   if(pageCountRemainder!=0){pageCount+=1;}\n",
    "  \n",
    "  \n",
    "    if(itemPerPage>20){itemPerPage=20;}//Lets force maximum of 20 items per page here\n",
    "   int offset=pageNumber*itemPerPage;\n",
    " \n",
    "  List<String> names=new ArrayList();\n",
    "         for (int i=offset; i<offset+itemPerPage; i++) {\n",
    "             if(i>=items.size()){break;}\n",
    "             List<String> item=items.get(i);\n",
    "            names.add(item.get(0));\n",
    "           \n",
    "        } \n",
    "        \n",
    "String[] result = new String[names.size()];\n",
    "result = names.toArray(result);\n",
    "  return names;     \n",
    "   \n",
    "    }\n",
    "   \n",
    "    private static void sort2DArray(List<List<String>> items,final int sortParameter){\n",
    "        final Pattern pattern = Pattern.compile(\"^\\\\d+\");\n",
    "    Collections.sort(items, new Comparator<List<String>>() {\n",
    "            @Override\n",
    "            \n",
    "            public int compare(List<String> object1, List<String> object2) {\n",
    "                            Matcher matcher = pattern.matcher(object1.get(sortParameter));\n",
    "        Integer number1;\n",
    "        if (!matcher.find()) {\n",
    "            return object1.get(sortParameter).compareTo(object2.get(sortParameter));//This is a string only value\n",
    "        }else {\n",
    "            Integer number2;\n",
    "            number1 = Integer.parseInt(matcher.group());\n",
    "            matcher = pattern.matcher(object2.get(sortParameter));\n",
    "            if (!matcher.find()) {\n",
    "                return object1.get(sortParameter).compareTo(object2.get(sortParameter));\n",
    "            }\n",
    "            else {\n",
    "                number2 = Integer.parseInt(matcher.group());\n",
    "                int comparison = number1.compareTo(number2);\n",
    "                if (comparison != 0) {\n",
    "                    return comparison;\n",
    "                }\n",
    "                else {\n",
    "                    return object1.get(sortParameter).compareTo(object2.get(sortParameter));\n",
    "                }\n",
    "            }\n",
    "        }\n",
    "            }\n",
    "        });\n",
    "    }\n",
    " \n",
    "}\n",
    " "
   ]
  },
  {
   "cell_type": "code",
   "execution_count": 13,
   "metadata": {
    "collapsed": true
   },
   "outputs": [],
   "source": [
    "import operator\n",
    "\n",
    "def sortAscending(alist, sparam):\n",
    "    alist.sort(key=operator.itemgetter(sparam), reverse=False)             \n",
    "    return alist\n",
    "\n",
    "def sortDescending(alist, sparam):\n",
    "    alist.sort(key=operator.itemgetter(sparam), reverse=True)           \n",
    "    return alist\n",
    "\n",
    "\n",
    "def fectchItemsToDisplay(items,sortParameter,sortOrder,itemsPerpage,Pagenumber):\n",
    "        \n",
    "    if sortOrder == 0:\n",
    "        alist = list(items)\n",
    "        sortedPage = sortAscending(alist, sortParameter)\n",
    "\n",
    "    elif sortOrder == 1:\n",
    "        alist = list(items)\n",
    "        sortedPage = sortDescending(alist, sortParameter)\n",
    "    else:\n",
    "        raise ValueError(\"invalid value\")\n",
    "        \n",
    "        \n",
    "    if itemsPerpage > len(sortedPage):\n",
    "        raise ValueError(\"items cannot be greater\")\n",
    "    else:\n",
    "        refine = itemsPerpage * (Pagenumber-1)\n",
    "        \n",
    "        if len(items) >= itemsPerpage*Pagenumber:\n",
    "            results = sortedPage[refine:refine+itemsPerpage]\n",
    "        else:\n",
    "            results = sortedPage[refine:]\n",
    "        \n",
    "    #page = alist\n",
    "    \n",
    "#     print \"page\",page\n",
    "    \n",
    "    #pageToView = page\n",
    "    \n",
    "#     print \"pageToView\",pageToView\n",
    "    \n",
    "    new = []\n",
    "    for i in results:\n",
    "        new.append(i[0])   \n",
    "    return new"
   ]
  },
  {
   "cell_type": "code",
   "execution_count": 14,
   "metadata": {},
   "outputs": [
    {
     "name": "stdout",
     "output_type": "stream",
     "text": [
      "['rpaqgbjxik', 'vjrrisdfxe']\n"
     ]
    }
   ],
   "source": [
    "# items = [['item1',10,15],['item2',3,4], ['item3', 17,8]]\n",
    "# item2 = [[\"p1\",1,2],[\"p2\",2,1]]\n",
    "# items1 = [[\"item1\",10,15],[\"item2\",3,4],[\"item3\",17,18]]\n",
    "items = [[\"owjevtkuyv\", 58584272 ,62930912],[\"rpaqgbjxik\" ,9425650 ,96088250],[\"dfbkasyqcn\" ,37469674 ,46363902],[\"vjrrisdfxe\", 18666489 ,88046739]]\n",
    "\n",
    "# print fectchItemsToDisplay(item2,2,1,2,0)\n",
    "\n",
    "sorOrder = 1\n",
    "pagenum = 1\n",
    "sortparam = 2\n",
    "numperpage = 2\n",
    "\n",
    "print(fectchItemsToDisplay(items, sortparam, sorOrder,numperpage, pagenum))"
   ]
  },
  {
   "cell_type": "code",
   "execution_count": null,
   "metadata": {
    "collapsed": true
   },
   "outputs": [],
   "source": [
    "static int cons(long val) {\n",
    "        int li = 0, j = 1,count = 0;\n",
    "        for (int i = 1; i < val; i++) {\n",
    "            li = li + i;\n",
    "\n",
    "            if (li == val) {\n",
    "                count++;\n",
    "                i = ++j;\n",
    "                li = 0;\n",
    "\n",
    "            }\n",
    "            if(li > val){\n",
    "                i = ++j;\n",
    "                li = 0;\n",
    "            }\n",
    "            \n",
    "            if(i > val/2)\n",
    "                break;\n",
    "        }\n",
    "\n",
    "        return count;\n",
    "    }"
   ]
  },
  {
   "cell_type": "code",
   "execution_count": 11,
   "metadata": {
    "collapsed": true
   },
   "outputs": [],
   "source": [
    "def consecutiveSum(Num):\n",
    "    \n",
    "    cuSum = 0\n",
    "    sumCount = 0\n",
    "    \n",
    "    wh\n",
    "   "
   ]
  },
  {
   "cell_type": "code",
   "execution_count": 14,
   "metadata": {
    "collapsed": true
   },
   "outputs": [],
   "source": [
    "def countConsecutive(N): \n",
    "      \n",
    "    # constraint on values of L gives us the  \n",
    "    # time Complexity as O(N^0.5) \n",
    "    count = 0\n",
    "    L = 1\n",
    "    while( L * (L + 1) < 2 * N): \n",
    "        a = (1.0 * N - (L * (L + 1) ) / 2) / (L + 1) \n",
    "        if (a - int(a) == 0.0): \n",
    "            count += 1\n",
    "        L += 1\n",
    "    return count "
   ]
  },
  {
   "cell_type": "code",
   "execution_count": 17,
   "metadata": {},
   "outputs": [
    {
     "data": {
      "text/plain": [
       "1"
      ]
     },
     "execution_count": 17,
     "metadata": {},
     "output_type": "execute_result"
    }
   ],
   "source": [
    "countConsecutive(10)"
   ]
  },
  {
   "cell_type": "code",
   "execution_count": 12,
   "metadata": {},
   "outputs": [
    {
     "name": "stdout",
     "output_type": "stream",
     "text": [
      "15\n"
     ]
    }
   ],
   "source": [
    "consecutiveSum(15)"
   ]
  },
  {
   "cell_type": "code",
   "execution_count": 18,
   "metadata": {
    "collapsed": true
   },
   "outputs": [],
   "source": [
    "def pair_sum(arr,k):\n",
    "    \n",
    "    if len(arr)<2:\n",
    "        return\n",
    "    \n",
    "    seen = set()\n",
    "    output = set()\n",
    "    \n",
    " \n",
    "    for num in arr:\n",
    "        target = k-num\n",
    "    \n",
    "        if target not in seen:\n",
    "            seen.add(num)\n",
    "        \n",
    "        else:\n",
    "\n",
    "            output.add( (min(num,target),  max(num,target)) )\n",
    "    \n",
    "    \n",
    "    return len(output)"
   ]
  },
  {
   "cell_type": "code",
   "execution_count": 19,
   "metadata": {},
   "outputs": [
    {
     "data": {
      "text/plain": [
       "1"
      ]
     },
     "execution_count": 19,
     "metadata": {},
     "output_type": "execute_result"
    }
   ],
   "source": [
    "pair_sum([1,3,46,1,3,9],47)"
   ]
  },
  {
   "cell_type": "code",
   "execution_count": 20,
   "metadata": {},
   "outputs": [
    {
     "data": {
      "text/plain": [
       "2"
      ]
     },
     "execution_count": 20,
     "metadata": {},
     "output_type": "execute_result"
    }
   ],
   "source": [
    "pair_sum([6,6,3,9,3,5,1],12)"
   ]
  },
  {
   "cell_type": "code",
   "execution_count": 62,
   "metadata": {
    "collapsed": true
   },
   "outputs": [],
   "source": [
    "def count(stack):\n",
    "    lookup = set()\n",
    "    count = 0\n",
    "    i = 0  \n",
    "    while i < len(stack):\n",
    "        if stack[i] not in lookup:\n",
    "            lookup.add(stack[i])\n",
    "            stack.remove(stack[i])\n",
    "        else:\n",
    "            pass\n",
    "        i += 1\n",
    "        if len(lookup) == 5:\n",
    "            count +=1\n",
    "            \n",
    "    lookup.clear()\n",
    "    return count \n",
    "\n",
    "def perfertTeam(nString):\n",
    "    stack = list(nString)\n",
    "    totalCount = 0\n",
    "    if len(stack) < 5:\n",
    "        print totalCount\n",
    "    else:\n",
    "        counter = count(stack)\n",
    "        print counter\n",
    "        totalCount = totalCount + counter\n",
    "        print stack\n",
    "        print totalCount \n",
    "#         return totalCount\n",
    "\n",
    "\n",
    "\n",
    "        \n",
    "        \n",
    "            \n",
    "    "
   ]
  },
  {
   "cell_type": "code",
   "execution_count": 65,
   "metadata": {},
   "outputs": [
    {
     "ename": "NameError",
     "evalue": "name 'perfertTeam2' is not defined",
     "output_type": "error",
     "traceback": [
      "\u001b[0;31m---------------------------------------------------------------------------\u001b[0m",
      "\u001b[0;31mNameError\u001b[0m                                 Traceback (most recent call last)",
      "\u001b[0;32m<ipython-input-65-c9aeddaf5a8f>\u001b[0m in \u001b[0;36m<module>\u001b[0;34m()\u001b[0m\n\u001b[0;32m----> 1\u001b[0;31m \u001b[0;32mprint\u001b[0m \u001b[0mperfertTeam2\u001b[0m\u001b[0;34m(\u001b[0m\u001b[0;34m\"pcmpcmbbzz\"\u001b[0m\u001b[0;34m)\u001b[0m\u001b[0;34m\u001b[0m\u001b[0m\n\u001b[0m",
      "\u001b[0;31mNameError\u001b[0m: name 'perfertTeam2' is not defined"
     ]
    }
   ],
   "source": [
    "print perfertTeam2(\"pcmpcmbbzz\")"
   ]
  },
  {
   "cell_type": "code",
   "execution_count": 72,
   "metadata": {},
   "outputs": [
    {
     "name": "stdout",
     "output_type": "stream",
     "text": [
      "set(['p', 'c', 'b', 'm', 'z'])\n",
      "set(['p', 'z', 'm'])\n",
      "1\n",
      "set(['p', 'z', 'm'])\n",
      "0\n",
      "set(['p', 'm'])\n",
      "0\n"
     ]
    }
   ],
   "source": [
    "print perfertTeam(\"pcmpcmbbzz\")\n",
    "print perfertTeam(\"pcmbz\")\n",
    "print perfertTeam(\"pcmpp\")"
   ]
  },
  {
   "cell_type": "code",
   "execution_count": 70,
   "metadata": {
    "collapsed": true
   },
   "outputs": [],
   "source": [
    "def perfertTeam2(nString):\n",
    "    stack = list(nString)\n",
    "    totalNum = 0\n",
    "    lookup = {'p','c','m','b','z'}\n",
    "    \n",
    "    while len(stack) >= 5:\n",
    "        counter = 0\n",
    "        for ele in lookup:\n",
    "            if ele in stack:\n",
    "                stack.remove(ele)\n",
    "                counter +=1\n",
    "        if counter <5:\n",
    "            break;\n",
    "        else:\n",
    "            totalNum +=1\n",
    "    return totalNum"
   ]
  },
  {
   "cell_type": "code",
   "execution_count": 75,
   "metadata": {},
   "outputs": [
    {
     "name": "stdout",
     "output_type": "stream",
     "text": [
      "2\n",
      "1\n",
      "0\n"
     ]
    }
   ],
   "source": [
    "print perfertTeam2(\"pcmpcmbbzz\")\n",
    "print perfertTeam2(\"pcmbz\")\n",
    "print perfertTeam2(\"pcmpp\")"
   ]
  },
  {
   "cell_type": "code",
   "execution_count": null,
   "metadata": {
    "collapsed": true
   },
   "outputs": [],
   "source": [
    "from datetime import date\n",
    "\n",
    "def sortDate(dates):\n",
    "    print n"
   ]
  },
  {
   "cell_type": "code",
   "execution_count": 5,
   "metadata": {},
   "outputs": [
    {
     "ename": "TypeError",
     "evalue": "an integer is required",
     "output_type": "error",
     "traceback": [
      "\u001b[0;31m---------------------------------------------------------------------------\u001b[0m",
      "\u001b[0;31mTypeError\u001b[0m                                 Traceback (most recent call last)",
      "\u001b[0;32m<ipython-input-5-bf69600db7f2>\u001b[0m in \u001b[0;36m<module>\u001b[0;34m()\u001b[0m\n\u001b[1;32m      1\u001b[0m \u001b[0;32mimport\u001b[0m \u001b[0mdatetime\u001b[0m\u001b[0;34m\u001b[0m\u001b[0m\n\u001b[1;32m      2\u001b[0m \u001b[0;34m\u001b[0m\u001b[0m\n\u001b[0;32m----> 3\u001b[0;31m \u001b[0mx\u001b[0m \u001b[0;34m=\u001b[0m \u001b[0mdatetime\u001b[0m\u001b[0;34m.\u001b[0m\u001b[0mdatetime\u001b[0m\u001b[0;34m(\u001b[0m\u001b[0;36m2018\u001b[0m\u001b[0;34m,\u001b[0m \u001b[0;34m\"june\"\u001b[0m\u001b[0;34m,\u001b[0m \u001b[0;36m1\u001b[0m\u001b[0;34m)\u001b[0m\u001b[0;34m\u001b[0m\u001b[0m\n\u001b[0m\u001b[1;32m      4\u001b[0m \u001b[0;34m\u001b[0m\u001b[0m\n\u001b[1;32m      5\u001b[0m \u001b[0;32mprint\u001b[0m\u001b[0;34m(\u001b[0m\u001b[0mx\u001b[0m\u001b[0;34m.\u001b[0m\u001b[0mstrftime\u001b[0m\u001b[0;34m(\u001b[0m\u001b[0;34m\"%Y-%m-%d\"\u001b[0m\u001b[0;34m)\u001b[0m\u001b[0;34m)\u001b[0m\u001b[0;34m\u001b[0m\u001b[0m\n",
      "\u001b[0;31mTypeError\u001b[0m: an integer is required"
     ]
    }
   ],
   "source": []
  }
 ],
 "metadata": {
  "kernelspec": {
   "display_name": "Python 2",
   "language": "python",
   "name": "python2"
  },
  "language_info": {
   "codemirror_mode": {
    "name": "ipython",
    "version": 2
   },
   "file_extension": ".py",
   "mimetype": "text/x-python",
   "name": "python",
   "nbconvert_exporter": "python",
   "pygments_lexer": "ipython2",
   "version": "2.7.14"
  }
 },
 "nbformat": 4,
 "nbformat_minor": 2
}
