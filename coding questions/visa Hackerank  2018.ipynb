{
 "cells": [
  {
   "cell_type": "code",
   "execution_count": 4,
   "metadata": {
    "collapsed": true
   },
   "outputs": [],
   "source": [
    "# def findSchedule(workHours,dayHours,pattern):\n",
    "#     mark = pattern.count(\"?\")\n",
    "#     rem = workHours - dayHours \n",
    "    \n",
    "#     print mark\n",
    "    \n",
    "from functools import reduce\n",
    "from itertools import combinations\n",
    "\n",
    "def assign(v, p):\n",
    "  v[p[0]] = p[1]\n",
    "  return v\n",
    "\n",
    "def interp(word, letter, size):\n",
    "  return (''.join(reduce(assign, zip(comb, word), [letter] * size))\n",
    "          for comb in combinations(range(size), len(word)))"
   ]
  },
  {
   "cell_type": "code",
   "execution_count": 7,
   "metadata": {},
   "outputs": [
    {
     "name": "stdout",
     "output_type": "stream",
     "text": [
      "cats.n.n\n",
      "cat.ns.n\n",
      "cat.n.ns\n",
      "ca.nts.n\n",
      "ca.nt.ns\n",
      "ca.n.nts\n",
      "c.nats.n\n",
      "c.nat.ns\n",
      "c.na.nts\n",
      "c.n.nats\n",
      ".ncats.n\n",
      ".ncat.ns\n",
      ".nca.nts\n",
      ".nc.nats\n",
      ".n.ncats\n"
     ]
    }
   ],
   "source": [
    "# findSchedule(56,8,\"???8???\")\n",
    "print('\\n'.join(interp(\"cats\", \".n\", 6)))"
   ]
  },
  {
   "cell_type": "code",
   "execution_count": 6,
   "metadata": {
    "collapsed": true
   },
   "outputs": [],
   "source": [
    "def subsetsum(array,num):\n",
    "\n",
    "    if num == 0 or num < 1:\n",
    "        return None\n",
    "    elif len(array) == 0:\n",
    "        return None\n",
    "    else:\n",
    "        if array[0] == num:\n",
    "            return [array[0]]\n",
    "        else:\n",
    "            with_v = subsetsum(array[1:],(num - array[0])) \n",
    "            if with_v:\n",
    "                return [array[0]] + with_v\n",
    "            else:\n",
    "                return subsetsum(array[1:],num)"
   ]
  },
  {
   "cell_type": "code",
   "execution_count": null,
   "metadata": {
    "collapsed": true
   },
   "outputs": [],
   "source": [
    "subsetsum([])"
   ]
  },
  {
   "cell_type": "markdown",
   "metadata": {},
   "source": [
    "# Website Pagination"
   ]
  },
  {
   "cell_type": "code",
   "execution_count": 25,
   "metadata": {
    "collapsed": true
   },
   "outputs": [],
   "source": [
    "import itertools\n",
    "from itertools import izip_longest\n",
    "\n",
    "def sortAscending(alist):\n",
    "    for passnum in range(len(alist)-1,0,-1):\n",
    "        for i in range(passnum):\n",
    "            if alist[i]>alist[i+1]:\n",
    "                temp = alist[i]\n",
    "                alist[i] = alist[i+1]\n",
    "                alist[i+1] = temp\n",
    "                \n",
    "    return alist\n",
    "\n",
    "def sortDescending(alist):\n",
    "    for passnum in range(len(alist)-1,0,-1):\n",
    "        for i in range(passnum):\n",
    "            if alist[i]< alist[i+1]:\n",
    "                temp = alist[i]\n",
    "                alist[i] = alist[i+1]\n",
    "                alist[i+1] = temp\n",
    "                \n",
    "    return alist\n",
    "\n",
    "def grouper(n, iterable, fillvalue=None):\n",
    "    args = [iter(iterable)] * n\n",
    "    v = izip_longest(fillvalue=fillvalue, *args)\n",
    "    return list(v)\n",
    "\n",
    "\n",
    "def fectchItemsToDisplay(items,sortParameter,sortOrder,itemsPerpage,Pagenumber):\n",
    "    dicto = {}\n",
    "    for item in items:\n",
    "        dicto[item[sortParameter]] = item\n",
    "#     print dicto,list(dicto.keys())\n",
    "        \n",
    "    if sortOrder == 0:\n",
    "        alist = list(dicto.keys())\n",
    "        sortedPage = sortAscending(alist)\n",
    "#         print sortedPage\n",
    "    elif sortOrder == 1:\n",
    "        alist = list(dicto.keys())\n",
    "        sortedPage = sortDescending(alist)\n",
    "#         print sortedPage\n",
    "    else:\n",
    "        raise ValueError(\"invalid value\")\n",
    "        \n",
    "        \n",
    "    if itemsPerpage > len(sortedPage):\n",
    "        raise ValueError(\"items cannot be greater\")\n",
    "    else:\n",
    "        pageRank = grouper(itemsPerpage,sortedPage)\n",
    "#     print \"pagerank\" ,pageRank\n",
    "#     print \n",
    "#     print \"list pagarank \",list(pageRank [0])\n",
    "    \n",
    "#     print \"Pagenumber\",Pagenumber\n",
    "    page = list(pageRank[Pagenumber])\n",
    "    \n",
    "#     print \"page\",page\n",
    "    \n",
    "    pageToView = page\n",
    "    \n",
    "#     print \"pageToView\",pageToView\n",
    "    results = []\n",
    "    for keys in pageToView:\n",
    "        for dictkeys , values in dicto.items():\n",
    "            if keys == dictkeys:\n",
    "                results.append(str(values[0]).split())\n",
    "            else:\n",
    "                pass\n",
    "            \n",
    "#     print results\n",
    "    \n",
    "    for i in results:\n",
    "        return str(i[0])"
   ]
  },
  {
   "cell_type": "code",
   "execution_count": 27,
   "metadata": {},
   "outputs": [
    {
     "name": "stdout",
     "output_type": "stream",
     "text": [
      "rpaqgbjxik\n",
      "vjrrisdfxe\n",
      "None\n"
     ]
    }
   ],
   "source": [
    "item2 = [[\"p1\",1,2],[\"p2\",2,1]]\n",
    "items1 = [[\"item1\",10,15],[\"item2\",3,4],[\"item3\",17,18]]\n",
    "\n",
    "\n",
    "items = [[\"owjevtkuyv\", 58584272 ,62930912],[\"rpaqgbjxik\" ,9425650 ,96088250],[\"dfbkasyqcn\" ,37469674 ,46363902],[\"vjrrisdfxe\", 18666489 ,88046739]]\n",
    "\n",
    "print fectchItemsToDisplay(items,2,1,2,0)\n",
    "\n",
    "# print fectchItemsToDisplay(items1,1,0,2,1)\n",
    "# print \n",
    "# print fectchItemsToDisplay(item2,0,0,1,0)"
   ]
  },
  {
   "cell_type": "code",
   "execution_count": 85,
   "metadata": {
    "collapsed": true
   },
   "outputs": [],
   "source": [
    "import itertools\n",
    "from itertools import izip_longest\n",
    "\n",
    "def grouper(n, iterable, fillvalue=None):\n",
    "    \"grouper(3, 'ABCDEFG', 'x') --> ABC DEF Gxx\"\n",
    "    args = [iter(iterable)] * n\n",
    "    v = izip_longest(fillvalue=fillvalue, *args)\n",
    "    return list(v)\n"
   ]
  },
  {
   "cell_type": "code",
   "execution_count": 99,
   "metadata": {},
   "outputs": [
    {
     "name": "stdout",
     "output_type": "stream",
     "text": [
      "[(2, 3, None)]\n"
     ]
    }
   ],
   "source": [
    "print grouper(3,[2, 3])\n",
    "# d = grouper(3, 'ABCDEFG')\n",
    "# print d\n",
    "# print \"\".join(d[0])"
   ]
  },
  {
   "cell_type": "markdown",
   "metadata": {},
   "source": [
    "Find The Winner"
   ]
  },
  {
   "cell_type": "code",
   "execution_count": 190,
   "metadata": {
    "collapsed": true
   },
   "outputs": [],
   "source": [
    "def winner (andrea,maria,s):\n",
    "    \n",
    "    lookup = {}\n",
    "    lookup[\"andrea\"] = 0\n",
    "    lookup[\"maria\"] = 0\n",
    "    \n",
    "    \n",
    "    if s.lower() == \"even\": \n",
    "        for i,(a, m)  in enumerate(zip(andrea, maria)):\n",
    "            if i % 2 == 1:\n",
    "                pass\n",
    "            else:\n",
    "                lookup[\"andrea\"] += (a-m)\n",
    "                lookup[\"maria\"] += (m-a)\n",
    "        \n",
    "        andreaScore = lookup[\"andrea\"]\n",
    "        mariaScore = lookup[\"maria\"]\n",
    "        print andreaScore, mariaScore \n",
    "        \n",
    "        \n",
    "        if andreaScore > mariaScore:\n",
    "            return \"Andrea\"\n",
    "        elif andreaScore < mariaScore:\n",
    "            return \"Maria\"\n",
    "        else:\n",
    "            return \"Tie\"  \n",
    "        \n",
    "    elif s.lower() == \"odd\":\n",
    "        \n",
    "        for i,(a, m)  in enumerate(zip(andrea, maria)):\n",
    "            if i % 2 == 0:\n",
    "                pass\n",
    "            else:\n",
    "                lookup[\"andrea\"] += (a-m)\n",
    "                lookup[\"maria\"] += (m-a)\n",
    "        \n",
    "        andreaScore = lookup[\"andrea\"]\n",
    "        mariaScore = lookup[\"maria\"]\n",
    "        print andreaScore, mariaScore \n",
    "        \n",
    "        \n",
    "        if andreaScore > mariaScore:\n",
    "            return \"Andrea\"\n",
    "        elif andreaScore < mariaScore:\n",
    "            return \"Maria\"\n",
    "        else:\n",
    "            return \"Tie\" \n",
    "    else:\n",
    "        return NameError(\"It has to be even or odd\")\n",
    "    \n",
    "    "
   ]
  },
  {
   "cell_type": "code",
   "execution_count": 194,
   "metadata": {},
   "outputs": [
    {
     "name": "stdout",
     "output_type": "stream",
     "text": [
      "-1 1\n",
      "Maria\n",
      "2 -2\n",
      "Andrea\n"
     ]
    }
   ],
   "source": [
    "print winner([1,2,3],[2,1,3],\"even\")\n",
    "print winner([4,5,7],[3,5,6],\"even\")"
   ]
  },
  {
   "cell_type": "markdown",
   "metadata": {},
   "source": [
    "# Smart Sale"
   ]
  },
  {
   "cell_type": "code",
   "execution_count": 363,
   "metadata": {
    "collapsed": true
   },
   "outputs": [],
   "source": [
    "def sortAscending(alist):\n",
    "    for passnum in range(len(alist)-1,0,-1):\n",
    "        for i in range(passnum):\n",
    "            if alist[i]>alist[i+1]:\n",
    "                temp = alist[i]\n",
    "                alist[i] = alist[i+1]\n",
    "                alist[i+1] = temp         \n",
    "    return alist\n",
    "\n",
    "def remainderList(sortedValue,rem):\n",
    "    newlist = []\n",
    "    i = 0\n",
    "    while rem > 0:\n",
    "        remainder = rem - sortedValue[i]\n",
    "        if remainder > 0:\n",
    "            newlist.append(0)\n",
    "        else:\n",
    "            newlist.append(abs(remainder))\n",
    "        rem = remainder\n",
    "        i +=1\n",
    "    for i in range(len(newlist),len(sortedValue)):\n",
    "        newlist.append(sortedValue[i])\n",
    "    return newlist\n",
    "       \n",
    "def deleteProducts(ids,m):\n",
    "    lookup = {}\n",
    "    for item in ids:\n",
    "        lookup[item] = lookup.get(item,0) + 1\n",
    "#     print lookup\n",
    "    \n",
    "    \n",
    "    alist = list(lookup.values())\n",
    "    sortedValue = sortAscending(alist)\n",
    "#     print sortedValue\n",
    "    maxDeduct = remainderList(sortedValue,m)\n",
    "#     print maxDeduct\n",
    "    \n",
    "    count = 0\n",
    "    for i in maxDeduct:\n",
    "        if i == 0:\n",
    "            pass\n",
    "        else:\n",
    "            count += 1\n",
    "    return count\n",
    "    "
   ]
  },
  {
   "cell_type": "code",
   "execution_count": 364,
   "metadata": {},
   "outputs": [
    {
     "name": "stdout",
     "output_type": "stream",
     "text": [
      "2\n",
      "1\n",
      "1\n"
     ]
    }
   ],
   "source": [
    "print deleteProducts([1,1,1,2,2,3],2)\n",
    "print deleteProducts([1,2,3,1,2,2],3)\n",
    "print deleteProducts([1,1,1,1],2)"
   ]
  },
  {
   "cell_type": "code",
   "execution_count": 201,
   "metadata": {},
   "outputs": [
    {
     "data": {
      "text/plain": [
       "0"
      ]
     },
     "execution_count": 201,
     "metadata": {},
     "output_type": "execute_result"
    }
   ],
   "source": [
    "2%2"
   ]
  },
  {
   "cell_type": "code",
   "execution_count": 338,
   "metadata": {
    "collapsed": true
   },
   "outputs": [],
   "source": [
    "def remainderList(sortedValue,rem):\n",
    "    newlist = []\n",
    "    i = 0\n",
    "    print \"rem\", rem\n",
    "    while rem > 0:\n",
    "        print \"i\",i\n",
    "        remainder = rem - sortedValue[i]\n",
    "        print \"r\",remainder\n",
    "        if remainder > 0:\n",
    "            newlist.append(0)\n",
    "        else:\n",
    "            newlist.append(abs(remainder))\n",
    "        rem = remainder\n",
    "        print \"rem\",rem\n",
    "        i +=1\n",
    "    print newlist\n",
    "    for i in range(len(newlist),len(sortedValue)):\n",
    "        newlist.append(sortedValue[i])\n",
    "    print newlist\n",
    "       \n",
    "    \n",
    "    \n",
    "#     for ele in sortedValue:\n",
    "#         remainder = rem - ele\n",
    "#         print \"first\" ,rem\n",
    "#         if remainder != 0:\n",
    "#             newlist.append(0)\n",
    "#         elif remainder < 0:\n",
    "#             newlist.append(abs(remainder))\n",
    "# #             while remainder < 0:\n",
    "# #                 newlist.append(ele)\n",
    "#         rem = remainder\n",
    "#         newlist.append(ele)\n",
    "#         print remainder\n",
    "#     print newlist\n",
    "            \n",
    "            "
   ]
  },
  {
   "cell_type": "code",
   "execution_count": 342,
   "metadata": {},
   "outputs": [
    {
     "name": "stdout",
     "output_type": "stream",
     "text": [
      "rem 2\n",
      "i 0\n",
      "r 1\n",
      "rem 1\n",
      "i 1\n",
      "r -1\n",
      "rem -1\n",
      "[0, 1]\n",
      "[0, 1, 3]\n"
     ]
    }
   ],
   "source": [
    "remainderList([1,2,3],2)"
   ]
  },
  {
   "cell_type": "code",
   "execution_count": 1,
   "metadata": {
    "collapsed": true
   },
   "outputs": [],
   "source": [
    "import operator\n",
    "\n",
    "def sortAscending(alist, sparam):\n",
    "    alist.sort(key=operator. itemgetter(sparam), reverse=False)             \n",
    "    return alist\n",
    "\n",
    "def sortDescending(alist, sparam):\n",
    "    alist.sort(key=operator. itemgetter(sparam), reverse=True)           \n",
    "    return alist\n",
    "\n",
    "\n",
    "def fectchItemsToDisplay(items, sortParameter,sortOrder, itemsPerpage,Pagenumber):\n",
    "        \n",
    "    if sortOrder == 0:\n",
    "        alist = list(items)\n",
    "        sortedPage = sortAscending(alist, sortParameter)\n",
    "\n",
    "    elif sortOrder == 1:\n",
    "        alist = list(items)\n",
    "        sortedPage = sortDescending(alist, sortParameter)\n",
    "    else:\n",
    "        raise ValueError(\"invalid value\")\n",
    "        \n",
    "        \n",
    "    if itemsPerpage > len(sortedPage):\n",
    "        raise ValueError(\"items cannot be greater\")\n",
    "    else:\n",
    "        refine = itemsPerpage * (Pagenumber-1)\n",
    "        \n",
    "        if len(items) >= itemsPerpage*Pagenumber:\n",
    "            results = sortedPage[refine:refine+ itemsPerpage]\n",
    "        else:\n",
    "            results = sortedPage[refine:]\n",
    "        \n",
    "    page = alist\n",
    "    \n",
    "#     print \"page\",page\n",
    "    \n",
    "    pageToView = page\n",
    "    \n",
    "#     print \"pageToView\",pageToView\n",
    "    \n",
    "\n",
    "    print(results)\n",
    "\n"
   ]
  },
  {
   "cell_type": "code",
   "execution_count": 2,
   "metadata": {},
   "outputs": [
    {
     "name": "stdout",
     "output_type": "stream",
     "text": [
      "[]\n",
      "None\n"
     ]
    }
   ],
   "source": [
    "item2 = [[\"p1\",1,2],[\"p2\",2,1]]\n",
    "items1 = [[\"item1\",10,15],[\"item2\",3,4],[\"item3\",17,18]]\n",
    "\n",
    "items = [[\"owjevtkuyv\", 58584272 ,62930912],[\"rpaqgbjxik\" ,9425650 ,96088250],[\"dfbkasyqcn\" ,37469674 ,46363902],[\"vjrrisdfxe\", 18666489 ,88046739]]\n",
    "\n",
    "print fectchItemsToDisplay(items,2,1,2,0)"
   ]
  }
 ],
 "metadata": {
  "kernelspec": {
   "display_name": "Python 2",
   "language": "python",
   "name": "python2"
  },
  "language_info": {
   "codemirror_mode": {
    "name": "ipython",
    "version": 2
   },
   "file_extension": ".py",
   "mimetype": "text/x-python",
   "name": "python",
   "nbconvert_exporter": "python",
   "pygments_lexer": "ipython2",
   "version": "2.7.14"
  }
 },
 "nbformat": 4,
 "nbformat_minor": 2
}
