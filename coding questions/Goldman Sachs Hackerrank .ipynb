{
 "cells": [
  {
   "cell_type": "code",
   "execution_count": null,
   "metadata": {
    "collapsed": true
   },
   "outputs": [],
   "source": [
    "\n",
    "allDict = {}\n",
    "for small in largelist:\n",
    "    for ele in range(len(small)):\n",
    "        if small[1] in allDict:\n",
    "            allDict[small[1]]= diff + allDict.get(small[3]-small[2],0)\n",
    "            \n",
    "        else:\n",
    "            diff = small[3]-small[2]\n",
    "            allDict[small[1]]= diff\n",
    "            \n",
    "        \n",
    "        "
   ]
  },
  {
   "cell_type": "code",
   "execution_count": 48,
   "metadata": {
    "collapsed": true
   },
   "outputs": [],
   "source": [
    "def latestStudent(attendanceData):\n",
    "    \n",
    "    dicto = {}\n",
    "    attendList = []\n",
    "    for data in attendanceData:\n",
    "        lateness = abs(int(data[2])- int(data[3]))\n",
    "        attendList.append([data[0],data[1],lateness])\n",
    "    print attendList\n",
    "#         dicto\n",
    "    daily = [attendList[0]]\n",
    "    print daily\n",
    "    for data in attendList[1:]:\n",
    "        for i in range(len(data)):\n",
    "            if data[i]\n",
    "        \n",
    "        \n",
    "    \n",
    "    \n",
    "    \n",
    "#     a = attendanceData\n",
    "#     pdate = \"\"\n",
    "#     dic = {}\n",
    "#     dic['r'] = 0\n",
    "#     namelist = []\n",
    "#     dicA = []\n",
    "#     sumin = 0\n",
    "#     for x in a:\n",
    "#         name = x[1]\n",
    "#         if name in namelist:\n",
    "#             pass\n",
    "#         else:\n",
    "#             namelist.append(name)\n",
    "            \n",
    "#     print namelist\n",
    "#     print \n",
    "    \n",
    "    \n",
    "    \n",
    "#     for x in namelist:\n",
    "#         dic = {}\n",
    "#         dic['name'] = x\n",
    "#         dic['r'] = 0\n",
    "#         dic['late'] = 0\n",
    "#         dicA.append(dic)\n",
    "#     print dicA,\"thisme\"\n",
    "    \n",
    "#     for x in a:\n",
    "#         print x\n",
    "#         cdate = x[0]\n",
    "#         #print cdate, pdate\n",
    "#         if cdate == pdate:\n",
    "#             name = x[1]\n",
    "#             #dic['name'] = name\n",
    "#             ct = int(x[2])\n",
    "#             at = int(x[3])\n",
    "#             counter = counter + 1\n",
    "#             if at <= ct:\n",
    "#                 d = 0\n",
    "#             else:\n",
    "#                 d = abs(ct-at)\n",
    "#             for dic in dicA:\n",
    "#                 if dic.get('name') == x[1]:\n",
    "#                     dic['late'] = d\n",
    "#             print dicA\n",
    "#             sumin = sumin + d\n",
    "            \n",
    "            \n",
    "            \n",
    "            \n",
    "#         else:\n",
    "#             if sumin != 0 and counter !=0:\n",
    "#                 avlateprev = float(sumin/counter)\n",
    "#                 for dic in dicA:\n",
    "#                     d = dic.get('late')\n",
    "#                     rprev = dic.get('r')\n",
    "#                     if d <= avlateprev:\n",
    "#                         r = 0\n",
    "#                     else:\n",
    "#                         r = avlateprev - d\n",
    "#                     dic['r'] = r+rprev\n",
    "                \n",
    "                \n",
    "#             else:\n",
    "#                 pdate = cdate\n",
    "#                 dic['name'] = name\n",
    "#                 ct = int(x[2])\n",
    "#                 at = int(x[3])\n",
    "#                 counter = 1\n",
    "#                 sumin = 0\n",
    "#                 if at <= ct:\n",
    "#                     d = 0\n",
    "#                 else:\n",
    "#                     d = abs(ct-at)\n",
    "#                 dic['late'] = d\n",
    "#                 for dic in dicA:\n",
    "#                     if dic.get('name') == x[1]:\n",
    "#                         dic['late'] = d\n",
    "#                 sumin = sumin + d\n",
    "#                 #print dicA, x\n",
    "                \n",
    "     \n",
    "#     br = 0\n",
    "#     for dic in dicA:\n",
    "        \n",
    "#         r = dic.get('r')\n",
    "#         if r < br:\n",
    "#             r = br\n",
    "#             name = dic.get('name')\n",
    "#     latest = name\n",
    "    \n",
    "#     return latest\n",
    "            "
   ]
  },
  {
   "cell_type": "code",
   "execution_count": 49,
   "metadata": {},
   "outputs": [
    {
     "name": "stdout",
     "output_type": "stream",
     "text": [
      "[['09-01', 'Arlene', 30], ['09-01', 'Bobby', 3], ['09-01', 'Caroline', 10], ['09-02', 'Arlene', 40], ['09-02', 'Bobby', 40], ['09-02', 'Caroline', 55]]\n",
      "['09-01']\n",
      "None\n"
     ]
    }
   ],
   "source": [
    "attendanceData = [[\"09-01\", \"Arlene\" ,\"540\", \"570\"],[\"09-01\", \"Bobby\", \"540\" ,\"543\"],[\"09-01\" ,\"Caroline\", \"540\" ,\"530\"],[\"09-02\" ,\"Arlene\", \"540\" ,\"580\"],[\"09-02\", \"Bobby\", \"540\" ,\"580\"]\n",
    ",[\"09-02\" ,\"Caroline\", \"540\", \"595\"]]\n",
    "\n",
    "print latestStudent(attendanceData)"
   ]
  },
  {
   "cell_type": "code",
   "execution_count": 27,
   "metadata": {},
   "outputs": [
    {
     "name": "stdout",
     "output_type": "stream",
     "text": [
      "True\n"
     ]
    }
   ],
   "source": [
    "print \"sB\" > \"B\""
   ]
  },
  {
   "cell_type": "code",
   "execution_count": 32,
   "metadata": {
    "collapsed": true
   },
   "outputs": [],
   "source": [
    "def worstPreformingstock(prices):\n",
    "    dicto = {}\n",
    "    for price in prices:  \n",
    "        if len(price) == 3:\n",
    "            print price[1],price[2]\n",
    "            percentage = (price[2]- price[1])/float(price[1])\n",
    "            print percentage\n",
    "            dicto[price[0]] = percentage\n",
    "    print dicto\n",
    "    \n",
    "    for keys ,values in dicto.items():\n",
    "        mini = min(dicto.values())\n",
    "        if values == mini:\n",
    "            return keys\n",
    "  "
   ]
  },
  {
   "cell_type": "code",
   "execution_count": 33,
   "metadata": {},
   "outputs": [
    {
     "name": "stdout",
     "output_type": "stream",
     "text": [
      "100 105\n",
      "0.05\n",
      "50 55\n",
      "0.1\n",
      "{1200: 0.05, 1400: 0.1}\n"
     ]
    },
    {
     "data": {
      "text/plain": [
       "1200"
      ]
     },
     "execution_count": 33,
     "metadata": {},
     "output_type": "execute_result"
    }
   ],
   "source": [
    "prices = [[1200,100,105],[1400,50,55]]\n",
    "worstPreformingstock(prices)b"
   ]
  },
  {
   "cell_type": "code",
   "execution_count": 21,
   "metadata": {
    "collapsed": true
   },
   "outputs": [],
   "source": [
    "def caps(s):\n",
    "    newString = \"\"\n",
    "    caps = False\n",
    "    i = 0\n",
    "    while i < len(s):\n",
    "        if s[i] not in [\"A\",'a'] and caps == False:\n",
    "            newString += s[i]\n",
    "        elif s[i] in [\"A\",'a'] and caps == False:\n",
    "            caps = True\n",
    "            continue\n",
    "        elif s[i] in [\"A\",'a'] and caps == True:\n",
    "            caps = False\n",
    "            continue\n",
    "#         while True:\n",
    "#             newString += s[i].upper()\n",
    "        i += 1\n",
    "    return newString\n",
    "      \n",
    "            "
   ]
  },
  {
   "cell_type": "code",
   "execution_count": 22,
   "metadata": {},
   "outputs": [
    {
     "ename": "KeyboardInterrupt",
     "evalue": "",
     "output_type": "error",
     "traceback": [
      "\u001b[0;31m---------------------------------------------------------------------------\u001b[0m",
      "\u001b[0;31mKeyboardInterrupt\u001b[0m                         Traceback (most recent call last)",
      "\u001b[0;32m<ipython-input-22-3123da36eb4b>\u001b[0m in \u001b[0;36m<module>\u001b[0;34m()\u001b[0m\n\u001b[1;32m      1\u001b[0m \u001b[0;31m# caps(\"My keyboard is broken!\")\u001b[0m\u001b[0;34m\u001b[0m\u001b[0;34m\u001b[0m\u001b[0m\n\u001b[0;32m----> 2\u001b[0;31m \u001b[0mcaps\u001b[0m\u001b[0;34m(\u001b[0m\u001b[0;34m\"Baa,Baa! said the sheep\"\u001b[0m\u001b[0;34m)\u001b[0m\u001b[0;34m\u001b[0m\u001b[0m\n\u001b[0m",
      "\u001b[0;32m<ipython-input-21-8c3ea2d2e7f2>\u001b[0m in \u001b[0;36mcaps\u001b[0;34m(s)\u001b[0m\n\u001b[1;32m      9\u001b[0m             \u001b[0mcaps\u001b[0m \u001b[0;34m=\u001b[0m \u001b[0mTrue\u001b[0m\u001b[0;34m\u001b[0m\u001b[0m\n\u001b[1;32m     10\u001b[0m             \u001b[0;32mcontinue\u001b[0m\u001b[0;34m\u001b[0m\u001b[0m\n\u001b[0;32m---> 11\u001b[0;31m         \u001b[0;32melif\u001b[0m \u001b[0ms\u001b[0m\u001b[0;34m[\u001b[0m\u001b[0mi\u001b[0m\u001b[0;34m]\u001b[0m \u001b[0;32min\u001b[0m \u001b[0;34m[\u001b[0m\u001b[0;34m\"A\"\u001b[0m\u001b[0;34m,\u001b[0m\u001b[0;34m'a'\u001b[0m\u001b[0;34m]\u001b[0m \u001b[0;32mand\u001b[0m \u001b[0mcaps\u001b[0m \u001b[0;34m==\u001b[0m \u001b[0mTrue\u001b[0m\u001b[0;34m:\u001b[0m\u001b[0;34m\u001b[0m\u001b[0m\n\u001b[0m\u001b[1;32m     12\u001b[0m             \u001b[0mcaps\u001b[0m \u001b[0;34m=\u001b[0m \u001b[0mFalse\u001b[0m\u001b[0;34m\u001b[0m\u001b[0m\n\u001b[1;32m     13\u001b[0m             \u001b[0;32mcontinue\u001b[0m\u001b[0;34m\u001b[0m\u001b[0m\n",
      "\u001b[0;31mKeyboardInterrupt\u001b[0m: "
     ]
    }
   ],
   "source": [
    "# caps(\"My keyboard is broken!\")\n",
    "caps(\"Baa,Baa! said the sheep\")"
   ]
  }
 ],
 "metadata": {
  "kernelspec": {
   "display_name": "Python 2",
   "language": "python",
   "name": "python2"
  },
  "language_info": {
   "codemirror_mode": {
    "name": "ipython",
    "version": 2
   },
   "file_extension": ".py",
   "mimetype": "text/x-python",
   "name": "python",
   "nbconvert_exporter": "python",
   "pygments_lexer": "ipython2",
   "version": "2.7.14"
  }
 },
 "nbformat": 4,
 "nbformat_minor": 2
}
