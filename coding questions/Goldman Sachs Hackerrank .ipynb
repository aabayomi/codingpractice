{
 "cells": [
  {
   "cell_type": "code",
   "execution_count": null,
   "metadata": {
    "collapsed": true
   },
   "outputs": [],
   "source": [
    "\n",
    "allDict = {}\n",
    "for small in largelist:\n",
    "    for ele in range(len(small)):\n",
    "        if small[1] in allDict:\n",
    "            allDict[small[1]]= diff + allDict.get(small[3]-small[2],0)\n",
    "            \n",
    "        else:\n",
    "            diff = small[3]-small[2]\n",
    "            allDict[small[1]]= diff\n",
    "            \n",
    "        \n",
    "        "
   ]
  },
  {
   "cell_type": "code",
   "execution_count": 23,
   "metadata": {},
   "outputs": [],
   "source": [
    "def latestStudent(attendanceData):\n",
    "    a = attendanceData\n",
    "    pdate = \"\"\n",
    "    dic = {}\n",
    "    dic['r'] = 0\n",
    "    namelist = []\n",
    "    dicA = []\n",
    "    sumin = 0\n",
    "    for x in a:\n",
    "        name = x[1]\n",
    "        if name in namelist:\n",
    "            pass\n",
    "        else:\n",
    "            namelist.append(name)\n",
    "        \n",
    "    for x in namelist:\n",
    "        dic = {}\n",
    "        dic['name'] = x\n",
    "        dic['r'] = 0\n",
    "        dic['late'] = 0\n",
    "        dicA.append(dic)\n",
    "    #print dicA,\"thisme\"\n",
    "    \n",
    "    for x in a:\n",
    "        print x\n",
    "        cdate = x[0]\n",
    "        #print cdate, pdate\n",
    "        if cdate == pdate:\n",
    "            name = x[1]\n",
    "            #dic['name'] = name\n",
    "            ct = int(x[2])\n",
    "            at = int(x[3])\n",
    "            counter = counter + 1\n",
    "            if at <= ct:\n",
    "                d = 0\n",
    "            else:\n",
    "                d = abs(ct-at)\n",
    "            for dic in dicA:\n",
    "                if dic.get('name') == x[1]:\n",
    "                    dic['late'] = d\n",
    "            print dicA\n",
    "            sumin = sumin + d\n",
    "            \n",
    "            \n",
    "            \n",
    "            \n",
    "        else:\n",
    "            if sumin != 0 and counter !=0:\n",
    "                avlateprev = float(sumin/counter)\n",
    "                for dic in dicA:\n",
    "                    d = dic.get('late')\n",
    "                    rprev = dic.get('r')\n",
    "                    if d <= avlateprev:\n",
    "                        r = 0\n",
    "                    else:\n",
    "                        r = avlateprev - d\n",
    "                    dic['r'] = r+rprev\n",
    "                \n",
    "                \n",
    "            else:\n",
    "                pdate = cdate\n",
    "                dic['name'] = name\n",
    "                ct = int(x[2])\n",
    "                at = int(x[3])\n",
    "                counter = 1\n",
    "                sumin = 0\n",
    "                if at <= ct:\n",
    "                    d = 0\n",
    "                else:\n",
    "                    d = abs(ct-at)\n",
    "                dic['late'] = d\n",
    "                for dic in dicA:\n",
    "                    if dic.get('name') == x[1]:\n",
    "                        dic['late'] = d\n",
    "                sumin = sumin + d\n",
    "                #print dicA, x\n",
    "                \n",
    "     \n",
    "    br = 0\n",
    "    for dic in dicA:\n",
    "        \n",
    "        r = dic.get('r')\n",
    "        if r < br:\n",
    "            r = br\n",
    "            name = dic.get('name')\n",
    "    latest = name\n",
    "    \n",
    "    return latest\n",
    "            "
   ]
  },
  {
   "cell_type": "code",
   "execution_count": 24,
   "metadata": {},
   "outputs": [
    {
     "name": "stdout",
     "output_type": "stream",
     "text": [
      "['09-01', 'Arlene', '540', '570']\n",
      "['09-01', 'Bobby', '540', '543']\n",
      "[{'late': 30, 'r': 0, 'name': 'Arlene'}, {'late': 3, 'r': 0, 'name': 'Bobby'}, {'late': 30, 'r': 0, 'name': 'Caroline'}]\n",
      "['09-01', 'Caroline', '540', '530']\n",
      "[{'late': 30, 'r': 0, 'name': 'Arlene'}, {'late': 3, 'r': 0, 'name': 'Bobby'}, {'late': 0, 'r': 0, 'name': 'Caroline'}]\n",
      "['09-02', 'Arlene', '540', '580']\n",
      "['09-02', 'Bobby', '540', '580']\n",
      "['09-02', 'Caroline', '540', '595']\n",
      "Arlene\n"
     ]
    }
   ],
   "source": [
    "attendanceData = [[\"09-01\", \"Arlene\" ,\"540\", \"570\"],[\"09-01\", \"Bobby\", \"540\" ,\"543\"],[\"09-01\" ,\"Caroline\", \"540\" ,\"530\"],[\"09-02\" ,\"Arlene\", \"540\" ,\"580\"],[\"09-02\", \"Bobby\", \"540\" ,\"580\"]\n",
    ",[\"09-02\" ,\"Caroline\", \"540\", \"595\"]]\n",
    "\n",
    "print latestStudent(attendanceData)"
   ]
  },
  {
   "cell_type": "code",
   "execution_count": 27,
   "metadata": {},
   "outputs": [
    {
     "name": "stdout",
     "output_type": "stream",
     "text": [
      "True\n"
     ]
    }
   ],
   "source": [
    "print \"sB\" > \"B\""
   ]
  },
  {
   "cell_type": "code",
   "execution_count": null,
   "metadata": {
    "collapsed": true
   },
   "outputs": [],
   "source": []
  }
 ],
 "metadata": {
  "kernelspec": {
   "display_name": "Python 2",
   "language": "python",
   "name": "python2"
  },
  "language_info": {
   "codemirror_mode": {
    "name": "ipython",
    "version": 2
   },
   "file_extension": ".py",
   "mimetype": "text/x-python",
   "name": "python",
   "nbconvert_exporter": "python",
   "pygments_lexer": "ipython2",
   "version": "2.7.14"
  }
 },
 "nbformat": 4,
 "nbformat_minor": 2
}
