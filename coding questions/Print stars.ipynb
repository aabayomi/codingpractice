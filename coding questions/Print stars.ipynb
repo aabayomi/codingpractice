{
 "cells": [
  {
   "cell_type": "code",
   "execution_count": 8,
   "metadata": {
    "scrolled": true
   },
   "outputs": [
    {
     "name": "stdout",
     "output_type": "stream",
     "text": [
      "*\n",
      "* *\n",
      "* * *\n",
      "* * * *\n",
      "* * * * *\n"
     ]
    }
   ],
   "source": [
    "n=5\n",
    "for i in range(1,n+1):  # starts from 1 to 6\n",
    "    for j in range (i): # star\n",
    "        print '*',\n",
    "    print"
   ]
  },
  {
   "cell_type": "code",
   "execution_count": 15,
   "metadata": {},
   "outputs": [
    {
     "name": "stdout",
     "output_type": "stream",
     "text": [
      "* * * * * * * * *\n",
      "  * * * * * * *\n",
      "    * * * * *\n",
      "      * * *\n",
      "        *\n"
     ]
    }
   ],
   "source": [
    "n=5\n",
    "for i in range(n,0,-1):\n",
    "    for j in range(n-i):\n",
    "        print ' ',\n",
    "    for j in range(2*i-1):\n",
    "        print '*',\n",
    "    print \n",
    "        "
   ]
  },
  {
   "cell_type": "code",
   "execution_count": 27,
   "metadata": {},
   "outputs": [
    {
     "name": "stdout",
     "output_type": "stream",
     "text": [
      "        *\n",
      "      * * *\n",
      "    * * * * *\n",
      "  * * * * * * *\n",
      "* * * * * * * * *\n"
     ]
    }
   ],
   "source": [
    "n=5\n",
    "for i in range(1,n+1):\n",
    "    for j in range(n-i):\n",
    "        print ' ',\n",
    "    for j in range(2*i-1):\n",
    "        print '*',\n",
    "    print \n",
    "#     while i==n:\n",
    "#         break\n",
    "#         for i in range(n,0,-1):\n",
    "#             for j in range(n-i):\n",
    "#                 print ' ',\n",
    "#             for j in range(2*i-1):\n",
    "#                 print '*',\n",
    "#             print "
   ]
  },
  {
   "cell_type": "code",
   "execution_count": 34,
   "metadata": {},
   "outputs": [],
   "source": [
    "result = 0\n",
    "n=10\n",
    "while n>0:\n",
    "    n = n // 10\n",
    "    result += 1\n"
   ]
  },
  {
   "cell_type": "code",
   "execution_count": 36,
   "metadata": {},
   "outputs": [
    {
     "name": "stdout",
     "output_type": "stream",
     "text": [
      "0\n",
      "1\n",
      "1\n",
      "2\n",
      "3\n",
      "5\n",
      "8\n"
     ]
    }
   ],
   "source": [
    "# Fibonacci\n",
    "\n",
    "a=0\n",
    "b=1\n",
    "n= 10\n",
    "while a <=n:\n",
    "    print a\n",
    "    c = a + b\n",
    "    a = b\n",
    "    b = c\n",
    "    "
   ]
  },
  {
   "cell_type": "code",
   "execution_count": null,
   "metadata": {
    "collapsed": true
   },
   "outputs": [],
   "source": []
  }
 ],
 "metadata": {
  "kernelspec": {
   "display_name": "Python 2",
   "language": "python",
   "name": "python2"
  },
  "language_info": {
   "codemirror_mode": {
    "name": "ipython",
    "version": 2
   },
   "file_extension": ".py",
   "mimetype": "text/x-python",
   "name": "python",
   "nbconvert_exporter": "python",
   "pygments_lexer": "ipython2",
   "version": "2.7.14"
  }
 },
 "nbformat": 4,
 "nbformat_minor": 2
}
