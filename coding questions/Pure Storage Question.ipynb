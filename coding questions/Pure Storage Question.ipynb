{
 "cells": [
  {
   "cell_type": "code",
   "execution_count": null,
   "metadata": {
    "collapsed": true
   },
   "outputs": [],
   "source": []
  },
  {
   "cell_type": "code",
   "execution_count": 18,
   "metadata": {},
   "outputs": [],
   "source": [
    "def check_log_history (events):\n",
    "    logStack = []\n",
    "    \n",
    "    for locks in events:\n",
    "        if locks [:7] == 'ACQUIRE':\n",
    "            logStack.append(locks)\n",
    "        elif locks[0:7] == 'RELEASE':\n",
    "            prev = logStack.pop()\n",
    "#             if prev[7:] == locks[7:]:\n",
    "  \n",
    "    print len(logStack)\n",
    "            \n",
    "            \n",
    "            \n",
    "            \n",
    "       \n",
    "    \n",
    "    \n",
    "    "
   ]
  },
  {
   "cell_type": "code",
   "execution_count": 19,
   "metadata": {},
   "outputs": [
    {
     "name": "stdout",
     "output_type": "stream",
     "text": [
      "0\n",
      "None\n"
     ]
    }
   ],
   "source": [
    "print check_log_history(['ACQUIRE 364','ACQUIRE 84','RELEASE 84','ACQUIRE 1337','RELEASE 1337','RELEASE 364'])\n",
    "# print check_log_history(['ACQUIRE 364','ACQUIRE 84','RELEASE 364','RELEASE 84'])"
   ]
  }
 ],
 "metadata": {
  "kernelspec": {
   "display_name": "Python 2",
   "language": "python",
   "name": "python2"
  },
  "language_info": {
   "codemirror_mode": {
    "name": "ipython",
    "version": 2
   },
   "file_extension": ".py",
   "mimetype": "text/x-python",
   "name": "python",
   "nbconvert_exporter": "python",
   "pygments_lexer": "ipython2",
   "version": "2.7.14"
  }
 },
 "nbformat": 4,
 "nbformat_minor": 2
}
