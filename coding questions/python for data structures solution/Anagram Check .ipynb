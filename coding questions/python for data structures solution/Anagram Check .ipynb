{
 "cells": [
  {
   "cell_type": "code",
   "execution_count": 4,
   "metadata": {
    "collapsed": true
   },
   "outputs": [],
   "source": [
    "   # O(n) time complexity\n",
    "    \n",
    "def anagram_check(S1,S2):\n",
    "    \n",
    "    ## special case to ignore spacing \n",
    "    \n",
    "    S1 = S1.replace(' ','').lower()  \n",
    "    S2 = S2.replace(' ','').lower()\n",
    "    \n",
    "    # Edge case Check\n",
    "    if len(S1)!=len(S2):\n",
    "        return False\n",
    "    \n",
    "    count ={}\n",
    "    \n",
    "    for letter in S1:          \n",
    "        if letter in count:\n",
    "            count[letter] += 1\n",
    "        else:\n",
    "            count[letter] =1\n",
    "            \n",
    "            \n",
    "    for letter in S2:\n",
    "        if letter in count:\n",
    "            count[letter] -=1 \n",
    "        else:\n",
    "            count[letter] = 1\n",
    "            \n",
    "            \n",
    "    for k in count:\n",
    "      \n",
    "        if count[k] != 0:\n",
    "            \n",
    "            return False\n",
    "    return True\n",
    "    \n",
    "            "
   ]
  },
  {
   "cell_type": "code",
   "execution_count": 5,
   "metadata": {},
   "outputs": [
    {
     "data": {
      "text/plain": [
       "False"
      ]
     },
     "execution_count": 5,
     "metadata": {},
     "output_type": "execute_result"
    }
   ],
   "source": [
    "anagram_check('dogfri','good')"
   ]
  },
  {
   "cell_type": "code",
   "execution_count": 6,
   "metadata": {},
   "outputs": [
    {
     "data": {
      "text/plain": [
       "True"
      ]
     },
     "execution_count": 6,
     "metadata": {},
     "output_type": "execute_result"
    }
   ],
   "source": [
    "anagram_check('clint eastwood','old west action')"
   ]
  }
 ],
 "metadata": {
  "kernelspec": {
   "display_name": "Python 2",
   "language": "python",
   "name": "python2"
  },
  "language_info": {
   "codemirror_mode": {
    "name": "ipython",
    "version": 2
   },
   "file_extension": ".py",
   "mimetype": "text/x-python",
   "name": "python",
   "nbconvert_exporter": "python",
   "pygments_lexer": "ipython2",
   "version": "2.7.14"
  }
 },
 "nbformat": 4,
 "nbformat_minor": 2
}
