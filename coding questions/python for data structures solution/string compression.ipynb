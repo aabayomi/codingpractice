{
 "cells": [
  {
   "cell_type": "markdown",
   "metadata": {},
   "source": [
    "String Compression\n",
    "Problem\n",
    "Given a string in the form 'AAAABBBBCCCCCDDEEEE' compress it to become 'A4B4C5D2E4'. For this problem, you can falsely \"compress\" strings of single or double letters. For instance, it is okay for 'AAB' to return 'A2B1' even though this technically takes more space.\n",
    "\n",
    "The function should also be case sensitive, so that a string 'AAAaaa' returns 'A3a3'."
   ]
  },
  {
   "cell_type": "code",
   "execution_count": 1,
   "metadata": {
    "collapsed": true
   },
   "outputs": [],
   "source": [
    "def compress(string):\n",
    "    \n",
    "    if len(string) ==0:\n",
    "        return \"\"\n",
    "    if len(string) == 1:\n",
    "        return string + \"1\"\n",
    "    \n",
    "    new_string =''\n",
    "    \n",
    "    count =0\n",
    "    length = len(string)\n",
    "    \n",
    "    for i in range(0,length):\n",
    "        if string[i] == string[i-1]:\n",
    "            count+=1\n",
    "        else:\n",
    "            new_string= new_string + string[i-1]+ str(count)\n",
    "            count = 1\n",
    "    new_string= new_string + string[i]+ str(count)\n",
    "    \n",
    "    print new_string[2:]\n",
    "        "
   ]
  },
  {
   "cell_type": "code",
   "execution_count": 3,
   "metadata": {},
   "outputs": [
    {
     "name": "stdout",
     "output_type": "stream",
     "text": [
      "A4B4C5D2E4\n",
      "A3a3\n",
      "b1c5a3\n"
     ]
    }
   ],
   "source": [
    "compress('AAAABBBBCCCCCDDEEEE')\n",
    "compress('AAAaaa')\n",
    "compress('aabcccccaaa')\n"
   ]
  }
 ],
 "metadata": {
  "kernelspec": {
   "display_name": "Python 2",
   "language": "python",
   "name": "python2"
  },
  "language_info": {
   "codemirror_mode": {
    "name": "ipython",
    "version": 2
   },
   "file_extension": ".py",
   "mimetype": "text/x-python",
   "name": "python",
   "nbconvert_exporter": "python",
   "pygments_lexer": "ipython2",
   "version": "2.7.14"
  }
 },
 "nbformat": 4,
 "nbformat_minor": 2
}
