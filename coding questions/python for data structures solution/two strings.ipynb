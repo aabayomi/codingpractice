{
 "cells": [
  {
   "cell_type": "markdown",
   "metadata": {},
   "source": [
    "Given two strings, determine if they share a common substring. A substring may be as small as one character.\n",
    "\n",
    "For example, the words \"a\", \"and\", \"art\" share the common substring . The words \"be\" and \"cat\" do not share a substring.\n",
    "Function Description\n",
    "Complete the function twoStrings in the editor below. It should return a string, either  or  based on whether the strings share a common substring.\n",
    "twoStrings has the following parameter(s):\n",
    "s1, s2: two strings to analyze .\n",
    "Input Format\n",
    "The first line contains a single integer , the number of test cases.\n",
    "The following  pairs of lines are as follows:\n",
    "The first line contains string .\n",
    "The second line contains string .\n",
    "\n",
    "\n",
    "\n",
    "\n"
   ]
  },
  {
   "cell_type": "code",
   "execution_count": 3,
   "metadata": {
    "collapsed": true
   },
   "outputs": [],
   "source": [
    "def twoStrings(s1, s2):\n",
    "    \n",
    "    s_1 = list (s1)\n",
    "    \n",
    "    s_2 = list (s2)\n",
    "\n",
    "    \n",
    "    string_dict = {}\n",
    "    \n",
    "    for char in s1:\n",
    "        string_dict[char] = string_dict.get(char,0)+1 \n",
    "#         print(string_dict)\n",
    "        \n",
    "    for char in s2:\n",
    "        if char not in string_dict:\n",
    "            return \"NO\"\n",
    "        else:\n",
    "            return \"YES\"\n",
    "       "
   ]
  },
  {
   "cell_type": "code",
   "execution_count": 4,
   "metadata": {},
   "outputs": [
    {
     "name": "stdout",
     "output_type": "stream",
     "text": [
      "NO\n"
     ]
    }
   ],
   "source": [
    "print(twoStrings(\"hello\",\"world\"))"
   ]
  }
 ],
 "metadata": {
  "kernelspec": {
   "display_name": "Python 2",
   "language": "python",
   "name": "python2"
  },
  "language_info": {
   "codemirror_mode": {
    "name": "ipython",
    "version": 2
   },
   "file_extension": ".py",
   "mimetype": "text/x-python",
   "name": "python",
   "nbconvert_exporter": "python",
   "pygments_lexer": "ipython2",
   "version": "2.7.14"
  }
 },
 "nbformat": 4,
 "nbformat_minor": 2
}
