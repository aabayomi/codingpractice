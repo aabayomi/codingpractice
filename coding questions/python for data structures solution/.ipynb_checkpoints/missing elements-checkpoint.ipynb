{
 "cells": [
  {
   "cell_type": "markdown",
   "metadata": {},
   "source": [
    "# Find the Missing Element\n",
    "\n",
    "Problem\n",
    "\n",
    "Consider an array of non-negative integers. A second array is formed by shuffling the elements of the first array and deleting a random element. Given these two arrays, find which element is missing in the second array.\n",
    "\n",
    "Here is an example input, the first array is shuffled and the number 5 is removed to construct the second array.\n",
    "\n",
    "Input:\n",
    "\n",
    "finder([1,2,3,4,5,6,7],[3,7,2,1,4,6])\n",
    "\n",
    "Output:\n",
    "\n",
    "5 is the missing number\n"
   ]
  },
  {
   "cell_type": "code",
   "execution_count": 1,
   "metadata": {
    "collapsed": true
   },
   "outputs": [],
   "source": [
    "import collections\n",
    "\n",
    "def missing_num(arr1,arr2):\n",
    "    number_dict = collections.defaultdict(int)\n",
    "    for numbers in arr1:\n",
    "        number_dict[numbers] += 1\n",
    "        \n",
    "    for numbers in arr2:\n",
    "        if number_dict[numbers] ==0:\n",
    "            return numbers      \n",
    "        else:\n",
    "            number_dict[numbers] -=1\n",
    "            "
   ]
  },
  {
   "cell_type": "code",
   "execution_count": 11,
   "metadata": {},
   "outputs": [],
   "source": [
    "import collections \n",
    "\n",
    "def finder_2(arr1,arr2):\n",
    "    number_dict = collections.defaultdict(int)\n",
    "    \n",
    "    for numbers in arr1:\n",
    "        number_dict[numbers]+=1\n",
    "        \n",
    "        \n",
    "    for numbers in arr2:\n",
    "        if numbers in  number_dict:\n",
    "            number_dict[numbers]-=1\n",
    "        else:\n",
    "            number_dict[numbers]=1\n",
    "            \n",
    "    for items in number_dict.values():\n",
    "        if items == 0:\n",
    "            return items\n",
    "#         else:\n",
    "#             print \"Arrays are equal\"\n",
    "        "
   ]
  },
  {
   "cell_type": "code",
   "execution_count": 12,
   "metadata": {},
   "outputs": [
    {
     "name": "stdout",
     "output_type": "stream",
     "text": [
      "0\n"
     ]
    }
   ],
   "source": [
    "print finder_2([1,2,3,4,5,6,7],[3,7,2,1,4,6])"
   ]
  }
 ],
 "metadata": {
  "kernelspec": {
   "display_name": "Python 2",
   "language": "python",
   "name": "python2"
  },
  "language_info": {
   "codemirror_mode": {
    "name": "ipython",
    "version": 2
   },
   "file_extension": ".py",
   "mimetype": "text/x-python",
   "name": "python",
   "nbconvert_exporter": "python",
   "pygments_lexer": "ipython2",
   "version": "2.7.14"
  }
 },
 "nbformat": 4,
 "nbformat_minor": 2
}
