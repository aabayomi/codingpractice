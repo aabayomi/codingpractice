{
 "cells": [
  {
   "cell_type": "code",
   "execution_count": 56,
   "metadata": {},
   "outputs": [],
   "source": [
    "def twoStrings(s1, s2):\n",
    "    \n",
    "    s_1 = list (s1)\n",
    "    \n",
    "    s_2 = list (s2)\n",
    "\n",
    "    \n",
    "    string_dict = {}\n",
    "    \n",
    "    for char in s1:\n",
    "        string_dict[char] = string_dict.get(char,0)+1 \n",
    "        print(string_dict)\n",
    "        \n",
    "    for char in s2:\n",
    "        if char not in string_dict:\n",
    "    print \"NO\"\n",
    "        else:\n",
    "            print \"YES\"\n",
    "       "
   ]
  },
  {
   "cell_type": "code",
   "execution_count": 57,
   "metadata": {},
   "outputs": [
    {
     "name": "stdout",
     "output_type": "stream",
     "text": [
      "{'h': 1}\n",
      "{'h': 1, 'e': 1}\n",
      "{'h': 1, 'e': 1, 'l': 1}\n",
      "{'h': 1, 'e': 1, 'l': 2}\n",
      "{'h': 1, 'e': 1, 'l': 2, 'o': 1}\n",
      "NO\n",
      "YES\n",
      "NO\n",
      "YES\n",
      "NO\n",
      "None\n"
     ]
    }
   ],
   "source": [
    "print(twoStrings(\"hello\",\"world\"))"
   ]
  }
 ],
 "metadata": {
  "kernelspec": {
   "display_name": "Python 2",
   "language": "python",
   "name": "python2"
  },
  "language_info": {
   "codemirror_mode": {
    "name": "ipython",
    "version": 2
   },
   "file_extension": ".py",
   "mimetype": "text/x-python",
   "name": "python",
   "nbconvert_exporter": "python",
   "pygments_lexer": "ipython2",
   "version": "2.7.14"
  }
 },
 "nbformat": 4,
 "nbformat_minor": 2
}
