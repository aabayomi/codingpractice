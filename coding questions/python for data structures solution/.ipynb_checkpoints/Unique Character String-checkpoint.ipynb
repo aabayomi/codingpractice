{
 "cells": [
  {
   "cell_type": "markdown",
   "metadata": {},
   "source": [
    "Problem:\n",
    "Given a string,determine if it is compreised of all unique characters. For example, the string 'abcde' has all unique characters and should return True. The string 'aabcde' contains duplicate characters and should return false."
   ]
  },
  {
   "cell_type": "code",
   "execution_count": 3,
   "metadata": {
    "collapsed": true
   },
   "outputs": [],
   "source": [
    "def unique_string(string):\n",
    "    \n",
    "    if string is None:\n",
    "        return False\n",
    "    if string =='':\n",
    "        return False\n",
    "    \n",
    "    string_dict ={}\n",
    "    \n",
    "    for chars in string:\n",
    "        string_dict[chars] = string_dict.get(chars,0) + 1\n",
    "    for values in string_dict.values():\n",
    "        if values > 1:\n",
    "            return False\n",
    "        else:\n",
    "            return True\n",
    "    "
   ]
  },
  {
   "cell_type": "code",
   "execution_count": 7,
   "metadata": {},
   "outputs": [
    {
     "data": {
      "text/plain": [
       "True"
      ]
     },
     "execution_count": 7,
     "metadata": {},
     "output_type": "execute_result"
    }
   ],
   "source": [
    "unique_string('abcdefg')"
   ]
  }
 ],
 "metadata": {
  "kernelspec": {
   "display_name": "Python 2",
   "language": "python",
   "name": "python2"
  },
  "language_info": {
   "codemirror_mode": {
    "name": "ipython",
    "version": 2
   },
   "file_extension": ".py",
   "mimetype": "text/x-python",
   "name": "python",
   "nbconvert_exporter": "python",
   "pygments_lexer": "ipython2",
   "version": "2.7.14"
  }
 },
 "nbformat": 4,
 "nbformat_minor": 2
}
