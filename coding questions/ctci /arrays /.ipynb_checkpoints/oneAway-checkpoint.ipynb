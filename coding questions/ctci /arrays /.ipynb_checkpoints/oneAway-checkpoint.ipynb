{
 "cells": [
  {
   "cell_type": "code",
   "execution_count": 16,
   "metadata": {
    "collapsed": true
   },
   "outputs": [],
   "source": [
    "def oneAway(string1,string2):\n",
    "    if abs(len(string1)-len(string2)) > 1:\n",
    "        return False\n",
    "    \n",
    "    string_dict = {}\n",
    "    for char in string1:\n",
    "        string_dict[char] = string_dict.get(char,0) + 1\n",
    "#     print string_dict\n",
    "    for char in string2:\n",
    "        if char in string_dict.keys():\n",
    "            string_dict[char]-=1\n",
    "            \n",
    "    one_count =0\n",
    "    for value in string_dict.values():\n",
    "        if value == 1:\n",
    "            one_count+=1\n",
    "        else:\n",
    "            pass\n",
    "    if one_count == 1:\n",
    "        return True\n",
    "    else:\n",
    "        return False\n",
    "    "
   ]
  },
  {
   "cell_type": "code",
   "execution_count": 21,
   "metadata": {},
   "outputs": [
    {
     "name": "stdout",
     "output_type": "stream",
     "text": [
      "{'a': 1, 'p': 1, 'e': 1, 'l': 1}\n",
      "True\n",
      "{'a': 1, 'p': 1, 's': 1, 'e': 1, 'l': 1}\n",
      "True\n",
      "{'a': 1, 'p': 1, 'e': 1, 'l': 1}\n",
      "True\n",
      "{'a': 1, 'p': 1, 'e': 1, 'l': 1}\n",
      "False\n"
     ]
    }
   ],
   "source": [
    "print oneAway(\"pale\",\"ple\")\n",
    "print oneAway(\"pales\",\"pale\")\n",
    "print oneAway(\"pale\",\"bale\")\n",
    "print oneAway(\"pale\",\"bake\")"
   ]
  }
 ],
 "metadata": {
  "kernelspec": {
   "display_name": "Python 2",
   "language": "python",
   "name": "python2"
  },
  "language_info": {
   "codemirror_mode": {
    "name": "ipython",
    "version": 2
   },
   "file_extension": ".py",
   "mimetype": "text/x-python",
   "name": "python",
   "nbconvert_exporter": "python",
   "pygments_lexer": "ipython2",
   "version": "2.7.14"
  }
 },
 "nbformat": 4,
 "nbformat_minor": 2
}
