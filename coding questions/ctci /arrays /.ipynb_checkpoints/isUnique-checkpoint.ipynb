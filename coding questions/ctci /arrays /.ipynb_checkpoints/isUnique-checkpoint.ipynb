{
 "cells": [
  {
   "cell_type": "code",
   "execution_count": 6,
   "metadata": {},
   "outputs": [],
   "source": [
    "def isUnique(string):\n",
    "    \n",
    "    if string is None:\n",
    "        raise TypeError(\"Invalid it can`t be None\")\n",
    "        \n",
    "    if srting =='':\n",
    "        raise ValueError(\"Invalid it can`t be empty\")\n",
    "    \n",
    "    string_dict = {}\n",
    "    \n",
    "    for char in string:\n",
    "        string_dict[char] = string_dict.get(char,0)+1\n",
    "    for values in string_dict.values():\n",
    "        if values > 1:\n",
    "            return False\n",
    "        else:\n",
    "            return True\n",
    "    \n",
    "    "
   ]
  },
  {
   "cell_type": "code",
   "execution_count": 4,
   "metadata": {},
   "outputs": [
    {
     "data": {
      "text/plain": [
       "True"
      ]
     },
     "execution_count": 4,
     "metadata": {},
     "output_type": "execute_result"
    }
   ],
   "source": [
    "isUnique(\"John\")"
   ]
  }
 ],
 "metadata": {
  "kernelspec": {
   "display_name": "Python 2",
   "language": "python",
   "name": "python2"
  },
  "language_info": {
   "codemirror_mode": {
    "name": "ipython",
    "version": 2
   },
   "file_extension": ".py",
   "mimetype": "text/x-python",
   "name": "python",
   "nbconvert_exporter": "python",
   "pygments_lexer": "ipython2",
   "version": "2.7.14"
  }
 },
 "nbformat": 4,
 "nbformat_minor": 2
}
