{
 "cells": [
  {
   "cell_type": "code",
   "execution_count": 35,
   "metadata": {},
   "outputs": [],
   "source": [
    "def string_compression(string):\n",
    "    \n",
    "    length = len(string)\n",
    "    \n",
    "    if length == 1:\n",
    "        return string + \"1\"\n",
    "    if string == '':\n",
    "        return \"\"\n",
    "    \n",
    "    count  = 0\n",
    "    new_string = ''\n",
    "    prev_char = string[0]\n",
    "    for char in string:\n",
    "        if char == prev_char:\n",
    "            count+=1\n",
    "        else:\n",
    "            new_string= new_string + prev_char + str(count)\n",
    "            prev_char = char\n",
    "            count = 1\n",
    "    new_string= new_string + prev_char + str(count)\n",
    "    \n",
    "    \n",
    "    if len(new_string)< len(string):\n",
    "        return new_string\n",
    "    else:\n",
    "        return string\n",
    "    \n",
    "\n",
    "        "
   ]
  },
  {
   "cell_type": "code",
   "execution_count": 36,
   "metadata": {},
   "outputs": [
    {
     "data": {
      "text/plain": [
       "'A3a3'"
      ]
     },
     "execution_count": 36,
     "metadata": {},
     "output_type": "execute_result"
    }
   ],
   "source": [
    "string_compression(\"aabcccccaaa\")\n",
    "string_compression(\"AAAABBBBCCCCCDDEEEE\")\n",
    "string_compression(\"AAAaaa\")"
   ]
  }
 ],
 "metadata": {
  "kernelspec": {
   "display_name": "Python 2",
   "language": "python",
   "name": "python2"
  },
  "language_info": {
   "codemirror_mode": {
    "name": "ipython",
    "version": 2
   },
   "file_extension": ".py",
   "mimetype": "text/x-python",
   "name": "python",
   "nbconvert_exporter": "python",
   "pygments_lexer": "ipython2",
   "version": "2.7.14"
  }
 },
 "nbformat": 4,
 "nbformat_minor": 2
}
