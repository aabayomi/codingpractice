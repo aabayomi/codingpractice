{
 "cells": [
  {
   "cell_type": "code",
   "execution_count": 45,
   "metadata": {
    "collapsed": true
   },
   "outputs": [],
   "source": [
    "def urlify(string,length):\n",
    "    \n",
    "    if string is None:\n",
    "        raise TypeError(\"Enter a correct string value \")\n",
    "\n",
    "    string_list = list(string)\n",
    "    new_list = []\n",
    "    for char in string_list:\n",
    "        if char == \" \":\n",
    "            new_list.append(\"%20\")\n",
    "        else:\n",
    "            new_list.append(char)\n",
    "            \n",
    "    return \"\".join(new_list[:length])\n",
    "          \n",
    "\n",
    "#method 2 \n",
    "\n",
    "def urlify_2(string):\n",
    "    return string.strip().replace(\" \",\"%20\")\n",
    "\n",
    "#method 3\n",
    "\n",
    "def urlify_3(string):   ## NOt correct logic\n",
    "    letters = list(string)\n",
    "    i = len(letters)-1\n",
    "    j = i\n",
    "    while letters[i]==\" \":\n",
    "        i-=1\n",
    "    while j != i:\n",
    "        if letters[i] == \" \":\n",
    "            letters[j-2] = \"%\"\n",
    "            letters[j-1] = \"2\"\n",
    "            letters[j]   = \"0\"\n",
    "            j -= 2\n",
    "        else:\n",
    "            letters[j] = letters[i]\n",
    "            i -= 1\n",
    "            j -= 1\n",
    "    return ''.join(letters)\n",
    "    "
   ]
  },
  {
   "cell_type": "code",
   "execution_count": 49,
   "metadata": {},
   "outputs": [
    {
     "data": {
      "text/plain": [
       "'Mr John%20Smith'"
      ]
     },
     "execution_count": 49,
     "metadata": {},
     "output_type": "execute_result"
    }
   ],
   "source": [
    "urlify_3(\"Mr John Smith  \")"
   ]
  }
 ],
 "metadata": {
  "kernelspec": {
   "display_name": "Python 2",
   "language": "python",
   "name": "python2"
  },
  "language_info": {
   "codemirror_mode": {
    "name": "ipython",
    "version": 2
   },
   "file_extension": ".py",
   "mimetype": "text/x-python",
   "name": "python",
   "nbconvert_exporter": "python",
   "pygments_lexer": "ipython2",
   "version": "2.7.14"
  }
 },
 "nbformat": 4,
 "nbformat_minor": 2
}
