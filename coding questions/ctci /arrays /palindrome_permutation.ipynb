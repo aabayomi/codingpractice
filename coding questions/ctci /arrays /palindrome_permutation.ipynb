{
 "cells": [
  {
   "cell_type": "code",
   "execution_count": 7,
   "metadata": {
    "collapsed": true
   },
   "outputs": [],
   "source": [
    "def pal_perm(word):\n",
    "    word_dict ={}\n",
    "    \n",
    "    for letters in word:\n",
    "        word_dict[letters] = word_dict.get(letters,0) + 1 \n",
    "    print word_dict\n",
    "    odd_count =0\n",
    "    for numbers in word_dict.values():\n",
    "        if numbers %2==1:\n",
    "            odd_count +=1\n",
    "        if odd_count > 1:  \n",
    "            return False\n",
    "        else:\n",
    "            return True"
   ]
  },
  {
   "cell_type": "code",
   "execution_count": 8,
   "metadata": {},
   "outputs": [
    {
     "name": "stdout",
     "output_type": "stream",
     "text": [
      "{'a': 2, ' ': 1, 'c': 1, 'C': 1, 'o': 1, 'T': 1, 't': 1}\n",
      "True\n",
      "{' ': 3, \"'\": 2, 'i': 2, '*': 3, 'o': 2, 'N': 2, 'x': 2, 'n': 2}\n",
      "True\n"
     ]
    }
   ],
   "source": [
    "print pal_perm(\"Tact Cao\")\n",
    "print pal_perm(\"No 'x' in Nixon***\")"
   ]
  }
 ],
 "metadata": {
  "kernelspec": {
   "display_name": "Python 2",
   "language": "python",
   "name": "python2"
  },
  "language_info": {
   "codemirror_mode": {
    "name": "ipython",
    "version": 2
   },
   "file_extension": ".py",
   "mimetype": "text/x-python",
   "name": "python",
   "nbconvert_exporter": "python",
   "pygments_lexer": "ipython2",
   "version": "2.7.14"
  }
 },
 "nbformat": 4,
 "nbformat_minor": 2
}
