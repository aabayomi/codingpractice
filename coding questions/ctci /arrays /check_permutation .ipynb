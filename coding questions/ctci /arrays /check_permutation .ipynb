{
 "cells": [
  {
   "cell_type": "code",
   "execution_count": 10,
   "metadata": {},
   "outputs": [],
   "source": [
    "def check_permutation(string1,string2):\n",
    "    if string1 is None or string2 is None :\n",
    "        raise ValueError(\"Invalid values\")\n",
    "        \n",
    "    if len(string1)!=len(string2):\n",
    "        return False\n",
    "    \n",
    "    string_dict ={}\n",
    "    for char in string1:\n",
    "        string_dict[char]=string_dict.get(char,0) + 1  \n",
    "    for char in string2:\n",
    "        if char in string_dict:\n",
    "            string_dict[char] -=1\n",
    "        else:\n",
    "            return False\n",
    "    return True"
   ]
  },
  {
   "cell_type": "code",
   "execution_count": 12,
   "metadata": {},
   "outputs": [
    {
     "data": {
      "text/plain": [
       "False"
      ]
     },
     "execution_count": 12,
     "metadata": {},
     "output_type": "execute_result"
    }
   ],
   "source": [
    "check_permutation(\"aba\",\"aaba\")"
   ]
  }
 ],
 "metadata": {
  "kernelspec": {
   "display_name": "Python 2",
   "language": "python",
   "name": "python2"
  },
  "language_info": {
   "codemirror_mode": {
    "name": "ipython",
    "version": 2
   },
   "file_extension": ".py",
   "mimetype": "text/x-python",
   "name": "python",
   "nbconvert_exporter": "python",
   "pygments_lexer": "ipython2",
   "version": "2.7.14"
  }
 },
 "nbformat": 4,
 "nbformat_minor": 2
}
