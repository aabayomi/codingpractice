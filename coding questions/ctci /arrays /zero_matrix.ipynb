{
 "cells": [
  {
   "cell_type": "code",
   "execution_count": 5,
   "metadata": {
    "collapsed": true
   },
   "outputs": [],
   "source": [
    "def zero_matrix(mat):    # solution by https://github.com/w-hat\n",
    "    n = len(mat)  # rows\n",
    "    if n == 0:\n",
    "        return mat\n",
    "    m = len(mat[0]) # columns \n",
    "    \n",
    "    zero_rows,zero_colums = [],[]\n",
    "    for rows in xrange(n):\n",
    "        for cols in xrange(m):\n",
    "            if mat[rows][cols] ==0:\n",
    "                zero_rows.append(rows)\n",
    "                zero_colums.append(cols)\n",
    "                break\n",
    "    for rows in zero_rows:\n",
    "        for cols in xrange(m):\n",
    "            mat[rows][cols] = 0\n",
    "    for cols in zero_colums:\n",
    "        for rows in xrange(n):\n",
    "            mat[rows][cols]=0\n",
    "    return mat\n",
    "            "
   ]
  },
  {
   "cell_type": "code",
   "execution_count": 6,
   "metadata": {},
   "outputs": [
    {
     "data": {
      "text/plain": [
       "[[1, 0, 1, 0, 1],\n",
       " [0, 0, 0, 0, 0],\n",
       " [1, 0, 1, 0, 1],\n",
       " [0, 0, 0, 0, 0],\n",
       " [2, 0, 4, 0, 6]]"
      ]
     },
     "execution_count": 6,
     "metadata": {},
     "output_type": "execute_result"
    }
   ],
   "source": [
    "mat = [[1,1,1,1,1],[1,0,1,1,1],[1,1,1,1,1],[1,1,1,0,1],[2,3,4,5,6]]\n",
    "zero_matrix(mat)"
   ]
  }
 ],
 "metadata": {
  "kernelspec": {
   "display_name": "Python 2",
   "language": "python",
   "name": "python2"
  },
  "language_info": {
   "codemirror_mode": {
    "name": "ipython",
    "version": 2
   },
   "file_extension": ".py",
   "mimetype": "text/x-python",
   "name": "python",
   "nbconvert_exporter": "python",
   "pygments_lexer": "ipython2",
   "version": "2.7.14"
  }
 },
 "nbformat": 4,
 "nbformat_minor": 2
}
