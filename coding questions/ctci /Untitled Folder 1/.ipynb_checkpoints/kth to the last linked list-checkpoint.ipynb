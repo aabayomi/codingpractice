{
 "cells": [
  {
   "cell_type": "code",
   "execution_count": null,
   "metadata": {
    "collapsed": true
   },
   "outputs": [],
   "source": [
    "class linkedList:\n",
    "    def __init__(self,x):\n",
    "        self.value = x\n",
    "        self.next = None\n",
    "\n",
    "        \n",
    "def removektoLast(self,head,n):\n",
    "    \n",
    "    if not head:\n",
    "        return head\n",
    "    last = linkedList(-1)\n",
    "    last.next = head\n",
    "    \n",
    "    prev = last\n",
    "    curr = last\n",
    "    \n",
    "    while prev and n >= 0:\n",
    "        prev = prev.next\n",
    "        n -=1\n",
    "    while prev:\n",
    "        prev = prev.next\n",
    "        curr = curr.next\n",
    "    curr.next = curr.next.next\n",
    "    return last\n",
    "    "
   ]
  },
  {
   "cell_type": "code",
   "execution_count": 97,
   "metadata": {},
   "outputs": [
    {
     "name": "stdout",
     "output_type": "stream",
     "text": [
      "]  \n",
      "None\n"
     ]
    }
   ],
   "source": []
  },
  {
   "cell_type": "code",
   "execution_count": null,
   "metadata": {
    "collapsed": true
   },
   "outputs": [],
   "source": []
  }
 ],
 "metadata": {
  "kernelspec": {
   "display_name": "Python 2",
   "language": "python",
   "name": "python2"
  },
  "language_info": {
   "codemirror_mode": {
    "name": "ipython",
    "version": 2
   },
   "file_extension": ".py",
   "mimetype": "text/x-python",
   "name": "python",
   "nbconvert_exporter": "python",
   "pygments_lexer": "ipython2",
   "version": "2.7.14"
  }
 },
 "nbformat": 4,
 "nbformat_minor": 2
}
