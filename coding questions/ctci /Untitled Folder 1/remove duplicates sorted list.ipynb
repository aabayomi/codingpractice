{
 "cells": [
  {
   "cell_type": "code",
   "execution_count": null,
   "metadata": {
    "collapsed": true
   },
   "outputs": [],
   "source": [
    "class linkedList:\n",
    "    def __init__(self,data):  # define the node of a linked list\n",
    "        self.value = data\n",
    "        self.next = None\n",
    "    def myPrint(self):\n",
    "        print self.head\n",
    "        if self.next:\n",
    "            print self.next.head\n",
    "\n",
    "            \n",
    "            \n",
    "def removeDuplicates(self,head):\n",
    "    current = head\n",
    "    while current:\n",
    "        while current.next and current.value == current.next.value:\n",
    "            current.next =  current.next.next\n",
    "        current = current.next\n",
    "    return head"
   ]
  }
 ],
 "metadata": {
  "kernelspec": {
   "display_name": "Python 2",
   "language": "python",
   "name": "python2"
  },
  "language_info": {
   "codemirror_mode": {
    "name": "ipython",
    "version": 2
   },
   "file_extension": ".py",
   "mimetype": "text/x-python",
   "name": "python",
   "nbconvert_exporter": "python",
   "pygments_lexer": "ipython2",
   "version": "2.7.14"
  }
 },
 "nbformat": 4,
 "nbformat_minor": 2
}
