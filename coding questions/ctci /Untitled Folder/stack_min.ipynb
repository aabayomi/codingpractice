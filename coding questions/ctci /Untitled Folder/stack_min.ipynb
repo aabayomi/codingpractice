{
 "cells": [
  {
   "cell_type": "code",
   "execution_count": 1,
   "metadata": {
    "collapsed": true
   },
   "outputs": [],
   "source": [
    "class Stack:\n",
    "    def __init__(self):\n",
    "        self.stack = []\n",
    "        self.minStack = []\n",
    "    def push(self,item):\n",
    "        self.stack.append(item)\n",
    "        if not self.minStack:\n",
    "            self.minStack.append(item)\n",
    "        else:\n",
    "            if self.minStack[-1]>= item:\n",
    "                self.minStack.append(item)\n",
    "    def pop(self):\n",
    "        if self.minStack[-1] == self.stack[-1]:\n",
    "            self.minStack.pop()\n",
    "        self.stack.pop()\n",
    "    def getMin(self):\n",
    "        return self.minStack[-1]\n",
    "    "
   ]
  },
  {
   "cell_type": "code",
   "execution_count": 2,
   "metadata": {},
   "outputs": [
    {
     "name": "stdout",
     "output_type": "stream",
     "text": [
      "-20\n"
     ]
    }
   ],
   "source": [
    "a = Stack()\n",
    "a.push(10)\n",
    "a.push(-2)\n",
    "a.push(34)\n",
    "a.push(-20)\n",
    "print a.getMin()"
   ]
  }
 ],
 "metadata": {
  "kernelspec": {
   "display_name": "Python 2",
   "language": "python",
   "name": "python2"
  },
  "language_info": {
   "codemirror_mode": {
    "name": "ipython",
    "version": 2
   },
   "file_extension": ".py",
   "mimetype": "text/x-python",
   "name": "python",
   "nbconvert_exporter": "python",
   "pygments_lexer": "ipython2",
   "version": "2.7.14"
  }
 },
 "nbformat": 4,
 "nbformat_minor": 2
}
