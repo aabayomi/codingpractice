{
 "cells": [
  {
   "cell_type": "markdown",
   "metadata": {},
   "source": [
    "A binary gap within a positive integer N is any maximal sequence of consecutive zeros that is surrounded by ones at both ends in the binary representation of N.\n",
    "\n",
    "For example, number 9 has binary representation 1001 and contains a binary gap of length 2. The number 529 has binary representation 1000010001 and contains two binary gaps: one of length 4 and one of length 3. The number 20 has binary representation 10100 and contains one binary gap of length 1. The number 15 has binary representation 1111 and has no binary gaps.\n",
    "\n",
    "Write a function:\n",
    "\n",
    "int solution(int N);\n",
    "that, given a positive integer N, returns the length of its longest binary gap. The function should return 0 if N doesn't contain a binary gap.\n",
    "\n",
    "For example, given N = 1041 the function should return 5, because N has binary representation 10000010001 and so its longest binary gap is of length 5.\n",
    "\n",
    "Assume that:\n",
    "\n",
    "N is an integer within the range [1..2,147,483,647].\n",
    "Complexity:\n",
    "\n",
    "expected worst-case time complexity is O(log(N));\n",
    "expected worst-case space complexity is O(1).\n"
   ]
  },
  {
   "cell_type": "code",
   "execution_count": 54,
   "metadata": {
    "collapsed": true
   },
   "outputs": [],
   "source": [
    "def solution(N):\n",
    "    bin  = \"{0:b}\".format(N)\n",
    "    blist = list(bin)\n",
    "#     clist =[int(x) for x in list[\"{0:b}\".format(N)] ]\n",
    "    new = [int(x) for x in blist]\n",
    "    print new \n",
    "    n =len(new)\n",
    "    \n",
    "    foundOne = False\n",
    "    zeros = 0\n",
    "    \n",
    "    for a in range(len(new)):\n",
    "        if new[a] == 1:\n",
    "            foundOne = True\n",
    "            \n",
    "        \n",
    "        if new[a] == 0 and foundOne:   #if i found zeros after I found\n",
    "            temp = 0\n",
    "            while new[a] != 1 and a < len(new) -1:   # while I am yet to find one and not at the end of the list\n",
    "                temp +=1\n",
    "                a +=1\n",
    "            #print temp\n",
    "        \n",
    "            if new[a] == 1:    # if while loop breaks because it found 1\n",
    "                foundOne = True\n",
    "            else:           #loop breaks because it gets to the end\n",
    "                foundOne = False\n",
    "                \n",
    "            if temp > zeros and foundOne:\n",
    "                \n",
    "                zeros = temp\n",
    "                    \n",
    "                \n",
    "    print zeros\n",
    "                \n",
    "#         return zeros\n",
    "#     else:\n",
    "#         return 'no b gap'\n",
    "\n",
    "\n",
    "        "
   ]
  },
  {
   "cell_type": "code",
   "execution_count": 55,
   "metadata": {},
   "outputs": [
    {
     "name": "stdout",
     "output_type": "stream",
     "text": [
      "[1, 0, 0, 0, 0, 1, 0, 0, 0, 1]\n",
      "0\n"
     ]
    }
   ],
   "source": [
    "solution(529)"
   ]
  },
  {
   "cell_type": "code",
   "execution_count": 49,
   "metadata": {},
   "outputs": [
    {
     "data": {
      "text/plain": [
       "[1, 0, 0, 0]"
      ]
     },
     "execution_count": 49,
     "metadata": {},
     "output_type": "execute_result"
    }
   ],
   "source": [
    "[int(x) for x in list('{0:0b}'.format(8))]"
   ]
  },
  {
   "cell_type": "code",
   "execution_count": null,
   "metadata": {
    "collapsed": true
   },
   "outputs": [],
   "source": []
  },
  {
   "cell_type": "code",
   "execution_count": null,
   "metadata": {
    "collapsed": true
   },
   "outputs": [],
   "source": []
  },
  {
   "cell_type": "code",
   "execution_count": null,
   "metadata": {
    "collapsed": true
   },
   "outputs": [],
   "source": []
  },
  {
   "cell_type": "code",
   "execution_count": null,
   "metadata": {
    "collapsed": true
   },
   "outputs": [],
   "source": []
  }
 ],
 "metadata": {
  "kernelspec": {
   "display_name": "Python 2",
   "language": "python",
   "name": "python2"
  },
  "language_info": {
   "codemirror_mode": {
    "name": "ipython",
    "version": 2
   },
   "file_extension": ".py",
   "mimetype": "text/x-python",
   "name": "python",
   "nbconvert_exporter": "python",
   "pygments_lexer": "ipython2",
   "version": "2.7.14"
  }
 },
 "nbformat": 4,
 "nbformat_minor": 2
}
