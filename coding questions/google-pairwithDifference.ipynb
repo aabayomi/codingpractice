{
 "cells": [
  {
   "cell_type": "markdown",
   "metadata": {},
   "source": [
    "Pairs with Specific Difference\n",
    "\n",
    "Given an array arr of distinct integers and a nonnegative integer k, write a function findPairsWithGivenDifference that returns an array of all pairs [x,y] in arr, such that x - y = k. If no such pairs exist, return an empty array.\n",
    "\n",
    "Note: the order of the pairs in the output array should maintain the order of the y element in the original array.\n",
    "\n",
    "Examples:\n",
    "\n",
    "input:  arr = [0, -1, -2, 2, 1], k = 1\n",
    "output: [[1, 0], [0, -1], [-1, -2], [2, 1]]\n",
    "\n",
    "input:  arr = [1, 7, 5, 3, 32, 17, 12], k = 17\n",
    "output: []\n",
    "Constraints:\n",
    "\n",
    "[time limit] 5000ms\n",
    "\n",
    "[input] array.integer arr\n",
    "\n",
    "0 ≤ arr.length ≤ 100\n",
    "[input]integer k\n",
    "\n",
    "k ≥ 0\n",
    "[output] array.array.integer"
   ]
  },
  {
   "cell_type": "code",
   "execution_count": 35,
   "metadata": {
    "collapsed": true
   },
   "outputs": [],
   "source": [
    "from random import randrange\n",
    "def arr(n):\n",
    "    arr = []\n",
    "    for i in range(n):\n",
    "        arr.append(randrange(-n,n))\n",
    "    return arr"
   ]
  },
  {
   "cell_type": "code",
   "execution_count": 36,
   "metadata": {},
   "outputs": [
    {
     "data": {
      "text/plain": [
       "[1, -1]"
      ]
     },
     "execution_count": 36,
     "metadata": {},
     "output_type": "execute_result"
    }
   ],
   "source": [
    "arr(2)"
   ]
  },
  {
   "cell_type": "code",
   "execution_count": 43,
   "metadata": {
    "collapsed": true
   },
   "outputs": [],
   "source": [
    "import timeit\n",
    "def pairwithDifference(arr,k):\n",
    "    \n",
    "    if k < 1:\n",
    "        raise ValueError(\"Invalivd value\")\n",
    "    if len(arr) < 1:\n",
    "        raise TypeError(\"Length has to be more than one\")\n",
    "    seen = []\n",
    "    \n",
    "    for y in arr:\n",
    "        x = k + y\n",
    "        if y not in seen:\n",
    "            if x in arr:\n",
    "                seen.append((x,y))\n",
    "    return seen\n"
   ]
  },
  {
   "cell_type": "code",
   "execution_count": 44,
   "metadata": {},
   "outputs": [
    {
     "name": "stdout",
     "output_type": "stream",
     "text": [
      "1000 loops, best of 3: 379 µs per loop\n"
     ]
    }
   ],
   "source": [
    "# print pairwithDifference([0, -1, -2, 2, 1],1)\n",
    "# print pairwithDifference([1, 7, 5, 3, 32, 17, 12],17)\n",
    "%timeit pairwithDifference(arr(100),10)"
   ]
  }
 ],
 "metadata": {
  "kernelspec": {
   "display_name": "Python 2",
   "language": "python",
   "name": "python2"
  },
  "language_info": {
   "codemirror_mode": {
    "name": "ipython",
    "version": 2
   },
   "file_extension": ".py",
   "mimetype": "text/x-python",
   "name": "python",
   "nbconvert_exporter": "python",
   "pygments_lexer": "ipython2",
   "version": "2.7.14"
  }
 },
 "nbformat": 4,
 "nbformat_minor": 2
}
