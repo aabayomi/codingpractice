{
 "cells": [
  {
   "cell_type": "markdown",
   "metadata": {},
   "source": [
    "Given a string, find the first non-repeating character in it and return it's index. If it doesn't exist, return -1.\n",
    "\n",
    "Examples:\n",
    "\n",
    "s = \"leetcode\"\n",
    "return 0.\n",
    "\n",
    "s = \"loveleetcode\",\n",
    "return 2.\n",
    "Note: You may assume the string contain only lowercase letters."
   ]
  },
  {
   "cell_type": "code",
   "execution_count": 7,
   "metadata": {
    "collapsed": true
   },
   "outputs": [],
   "source": [
    " def firstUniqChar(s):\n",
    "        store = {}\n",
    "        order =[]\n",
    "        for i , x in enumerate(s):\n",
    "            store[x]=store.get(x,0) +1\n",
    "            order.append(x)\n",
    "        for i in order:\n",
    "            if store[x] == 1:\n",
    "                return x\n",
    "        return None\n",
    "#         for i in store.values():\n",
    "#             if i == 1:\n",
    "#                 minIndex = stro\n",
    "            \n",
    "            \n",
    "            \n",
    "#             print i,x\n",
    "#         print store"
   ]
  },
  {
   "cell_type": "code",
   "execution_count": 8,
   "metadata": {},
   "outputs": [],
   "source": [
    "#firstUniqChar(\"leetcode\")\n",
    "firstUniqChar(\"loveleetcode\")"
   ]
  },
  {
   "cell_type": "code",
   "execution_count": 4,
   "metadata": {},
   "outputs": [
    {
     "name": "stdout",
     "output_type": "stream",
     "text": [
      "0 l\n",
      "1 e\n",
      "2 e\n",
      "3 t\n",
      "4 c\n",
      "5 o\n",
      "6 d\n",
      "7 e\n",
      "{'c': 1, 'e': 3, 'd': 1, 'l': 1, 'o': 1, 't': 1}\n"
     ]
    }
   ],
   "source": [
    "firstUniqChar(\"leetcode\")"
   ]
  }
 ],
 "metadata": {
  "kernelspec": {
   "display_name": "Python 2",
   "language": "python",
   "name": "python2"
  },
  "language_info": {
   "codemirror_mode": {
    "name": "ipython",
    "version": 2
   },
   "file_extension": ".py",
   "mimetype": "text/x-python",
   "name": "python",
   "nbconvert_exporter": "python",
   "pygments_lexer": "ipython2",
   "version": "2.7.14"
  }
 },
 "nbformat": 4,
 "nbformat_minor": 2
}
