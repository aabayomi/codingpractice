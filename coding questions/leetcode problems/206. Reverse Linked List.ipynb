{
 "cells": [
  {
   "cell_type": "code",
   "execution_count": 1,
   "metadata": {
    "collapsed": true
   },
   "outputs": [],
   "source": [
    "class linkedNode(object):\n",
    "    def __init__(self,value):\n",
    "        self.val = value\n",
    "        self.next = None\n",
    "\n",
    "        \n",
    "class Solution(object):\n",
    "    def reverseList(self, head):\n",
    "        current = head\n",
    "        previous = None\n",
    "        next = None\n",
    "        \n",
    "        while current:\n",
    "            next = current.next\n",
    "            current.next = previous\n",
    "            \n",
    "            previous = current\n",
    "            current = next\n",
    "        return previous"
   ]
  }
 ],
 "metadata": {
  "kernelspec": {
   "display_name": "Python 2",
   "language": "python",
   "name": "python2"
  },
  "language_info": {
   "codemirror_mode": {
    "name": "ipython",
    "version": 2
   },
   "file_extension": ".py",
   "mimetype": "text/x-python",
   "name": "python",
   "nbconvert_exporter": "python",
   "pygments_lexer": "ipython2",
   "version": "2.7.14"
  }
 },
 "nbformat": 4,
 "nbformat_minor": 2
}
