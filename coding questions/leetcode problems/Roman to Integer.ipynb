{
 "cells": [
  {
   "cell_type": "code",
   "execution_count": 8,
   "metadata": {
    "collapsed": true
   },
   "outputs": [],
   "source": [
    "def romantoInteger(s):\n",
    "    riDict= {}\n",
    "    riDict[\"I\"]= 1\n",
    "    riDict[\"V\"] = 5\n",
    "    riDict[\"X\"] = 10\n",
    "    riDict[\"L\"] = 50\n",
    "    riDict[\"C\"] = 100\n",
    "    riDict[\"D\"] = 500\n",
    "    riDict[\"M\"] = 1000\n",
    "    \n",
    "    if len(s) == 1:\n",
    "        return riDict.get(s)\n",
    "    if len(s) == 2:\n",
    "        if riDict.get(s[1])> riDict.get(s[0]):\n",
    "            return riDict.get(s[1])- riDict.get(s[0])\n",
    "        else:\n",
    "            return riDict.get(s[1]) + riDict.get(s[0])\n",
    "        \n",
    "    Sum = 0    \n",
    "    for i in xrange(len(s)):\n",
    "        if i>0 and riDict.get(s[i]) > riDict.get(s[i-1]):\n",
    "            Sum -= riDict.get(s[i-1])\n",
    "            Sum += riDict.get(s[i]) - riDict.get(s[i-1])\n",
    "        else:\n",
    "            Sum += riDict.get(s[i])\n",
    "    return Sum"
   ]
  },
  {
   "cell_type": "code",
   "execution_count": 10,
   "metadata": {},
   "outputs": [
    {
     "name": "stdout",
     "output_type": "stream",
     "text": [
      "1994\n",
      "3\n",
      "4\n",
      "9\n",
      "58\n",
      "1476\n",
      "2425\n"
     ]
    }
   ],
   "source": [
    "print romantoInteger(\"MCMXCIV\")\n",
    "print romantoInteger(\"III\")\n",
    "print romantoInteger(\"IV\")\n",
    "print romantoInteger(\"IX\")\n",
    "print romantoInteger(\"LVIII\")\n",
    "print romantoInteger(\"MCDLXXVI\")\n",
    "print romantoInteger(\"MMCDXXV\")"
   ]
  }
 ],
 "metadata": {
  "kernelspec": {
   "display_name": "Python 2",
   "language": "python",
   "name": "python2"
  },
  "language_info": {
   "codemirror_mode": {
    "name": "ipython",
    "version": 2
   },
   "file_extension": ".py",
   "mimetype": "text/x-python",
   "name": "python",
   "nbconvert_exporter": "python",
   "pygments_lexer": "ipython2",
   "version": "2.7.14"
  }
 },
 "nbformat": 4,
 "nbformat_minor": 2
}
