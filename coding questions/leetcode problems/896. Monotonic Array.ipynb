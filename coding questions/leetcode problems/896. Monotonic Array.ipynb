{
 "cells": [
  {
   "cell_type": "markdown",
   "metadata": {},
   "source": [
    "An array is monotonic if it is either monotone increasing or monotone decreasing.\n",
    "\n",
    "An array A is monotone increasing if for all i <= j, A[i] <= A[j].  An array A is monotone decreasing if for all i <= j, A[i] >= A[j].\n",
    "\n",
    "Return true if and only if the given array A is monotonic.\n",
    "\n",
    " \n",
    "\n",
    "Example 1:\n",
    "\n",
    "Input: [1,2,2,3]\n",
    "Output: true\n",
    "Example 2:\n",
    "\n",
    "Input: [6,5,4,4]\n",
    "Output: true\n",
    "Example 3:\n",
    "\n",
    "Input: [1,3,2]\n",
    "Output: false\n",
    "Example 4:\n",
    "\n",
    "Input: [1,2,4,5]\n",
    "Output: true\n",
    "Example 5:\n",
    "\n",
    "Input: [1,1,1]\n",
    "Output: true"
   ]
  },
  {
   "cell_type": "code",
   "execution_count": 1,
   "metadata": {},
   "outputs": [
    {
     "ename": "IndentationError",
     "evalue": "expected an indented block (<ipython-input-1-a62ea62cd80b>, line 5)",
     "output_type": "error",
     "traceback": [
      "\u001b[0;36m  File \u001b[0;32m\"<ipython-input-1-a62ea62cd80b>\"\u001b[0;36m, line \u001b[0;32m5\u001b[0m\n\u001b[0;31m    \u001b[0m\n\u001b[0m    ^\u001b[0m\n\u001b[0;31mIndentationError\u001b[0m\u001b[0;31m:\u001b[0m expected an indented block\n"
     ]
    }
   ],
   "source": [
    "def isMonotonic(A):\n",
    "    if len(A) == 1:\n",
    "        return True\n",
    "    else:\n",
    "        flag = A[0] - A[1]\n",
    "        \n",
    "        a = []\n",
    "        if flag < 0:\n",
    "            for ele in A:\n",
    "                if el\n",
    "                \n",
    "\n",
    "    \n",
    "\n",
    "    \n",
    "    while i < len(A) - 1:\n",
    "        \n",
    "    "
   ]
  },
  {
   "cell_type": "code",
   "execution_count": null,
   "metadata": {
    "collapsed": true
   },
   "outputs": [],
   "source": []
  }
 ],
 "metadata": {
  "kernelspec": {
   "display_name": "Python 2",
   "language": "python",
   "name": "python2"
  },
  "language_info": {
   "codemirror_mode": {
    "name": "ipython",
    "version": 2
   },
   "file_extension": ".py",
   "mimetype": "text/x-python",
   "name": "python",
   "nbconvert_exporter": "python",
   "pygments_lexer": "ipython2",
   "version": "2.7.14"
  }
 },
 "nbformat": 4,
 "nbformat_minor": 2
}
