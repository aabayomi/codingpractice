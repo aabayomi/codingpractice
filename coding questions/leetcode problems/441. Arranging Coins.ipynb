{
 "cells": [
  {
   "cell_type": "markdown",
   "metadata": {},
   "source": [
    "You have a total of n coins that you want to form in a staircase shape, where every k-th row must have exactly k coins.\n",
    "\n",
    "Given n, find the total number of full staircase rows that can be formed.\n",
    "\n",
    "n is a non-negative integer and fits within the range of a 32-bit signed integer.\n",
    "\n",
    "Example 1:\n",
    "\n",
    "n = 5\n",
    "\n",
    "The coins can form the following rows:\n",
    "¤\n",
    "¤ ¤\n",
    "¤ ¤\n",
    "\n",
    "Because the 3rd row is incomplete, we return 2.\n",
    "Example 2:\n",
    "\n",
    "n = 8\n",
    "\n",
    "The coins can form the following rows:\n",
    "¤\n",
    "¤ ¤\n",
    "¤ ¤ ¤\n",
    "¤ ¤\n",
    "\n",
    "Because the 4th row is incomplete, we return 3.\n"
   ]
  },
  {
   "cell_type": "code",
   "execution_count": 3,
   "metadata": {
    "collapsed": true
   },
   "outputs": [],
   "source": [
    "def arrangeCoins(n):\n",
    "    a = []\n",
    "    target = n\n",
    "    for i in range (n):\n",
    "        if i < target:\n",
    "            target -=i\n",
    "            a.append(i)\n",
    "        else:\n",
    "            print target\n",
    "            pass\n",
    "    print a\n",
    "    return a[-1]\n",
    "            \n",
    "        "
   ]
  },
  {
   "cell_type": "code",
   "execution_count": 21,
   "metadata": {},
   "outputs": [
    {
     "name": "stdout",
     "output_type": "stream",
     "text": [
      "4\n",
      "4\n",
      "4\n",
      "4\n",
      "4\n",
      "4\n",
      "[0, 1, 2, 3]\n"
     ]
    },
    {
     "data": {
      "text/plain": [
       "3"
      ]
     },
     "execution_count": 21,
     "metadata": {},
     "output_type": "execute_result"
    }
   ],
   "source": [
    "arrangeCoins(10)"
   ]
  },
  {
   "cell_type": "code",
   "execution_count": 8,
   "metadata": {},
   "outputs": [
    {
     "data": {
      "text/plain": [
       "1073741823"
      ]
     },
     "execution_count": 8,
     "metadata": {},
     "output_type": "execute_result"
    }
   ],
   "source": [
    "2147483647/2"
   ]
  },
  {
   "cell_type": "markdown",
   "metadata": {},
   "source": [
    "We can solve this problem with pure math\n",
    "\n",
    "The Coins are arranged in the following way:\n",
    "[1,2,3,4,5....]\n",
    "\n",
    "This is an arithmetic sequence. To find the sum S of an arithmetic series , the formula is :\n",
    "S = ((a + b)* h) /2\n",
    "\n",
    "Where:\n",
    "a is the number of coins on the first line\n",
    "b is the number of coins of the last line\n",
    "h is the number of lines we have (we want to find h)\n",
    "We note that a is always 1 because we start with one coin\n",
    "Therefore a = 1\n",
    "Note that the number of coins on the last line is always the same as the the number of total lines.\n",
    "Therefore: b = h\n",
    "\n",
    "The equation can then be simplified into:\n",
    "S = (1 + h)*h / 2\n",
    "Since we want only full lines, we want the sum S to be smaller than n, the total amount of coins in the question.\n",
    "Therefore:\n",
    "(1 + h)*h / 2 <= n\n",
    "Which simplifies into:\n",
    "h^2 + h <= 2n\n",
    "Or:\n",
    "h^2 + h - 2n <= 0\n",
    "This can be solved using the quadratic formula: (note that a and b here are different from a and b before)\n",
    "ax^2 + bx + c = 0\n",
    "x = -b - sqrt(b^2 - 4ac) / 2a\n",
    "x = -b + sqrt(b^2 - 4ac) / 2a\n",
    "In our case:\n",
    "a = 1, b = 1, c = -2n\n",
    "which yields:\n",
    "h ≤ (sqrt(8n + 1) -1)/2\n",
    "h ≥ (-sqrt(8n + 1) -1)/2\n",
    "\n",
    "Since n >= 1, and negative values of h are irrelevent, we can ignore the second equation. (It simply requires h > 0)\n",
    "Finally, the code is simply:"
   ]
  },
  {
   "cell_type": "code",
   "execution_count": 32,
   "metadata": {},
   "outputs": [],
   "source": [
    "import math\n",
    "def arrangeCoins(n):\n",
    "    return int(math.sqrt(8 * n + 1)/2)"
   ]
  },
  {
   "cell_type": "code",
   "execution_count": 34,
   "metadata": {},
   "outputs": [
    {
     "data": {
      "text/plain": [
       "65535"
      ]
     },
     "execution_count": 34,
     "metadata": {},
     "output_type": "execute_result"
    }
   ],
   "source": [
    "arrangeCoins(2147483647)"
   ]
  }
 ],
 "metadata": {
  "kernelspec": {
   "display_name": "Python 2",
   "language": "python",
   "name": "python2"
  },
  "language_info": {
   "codemirror_mode": {
    "name": "ipython",
    "version": 2
   },
   "file_extension": ".py",
   "mimetype": "text/x-python",
   "name": "python",
   "nbconvert_exporter": "python",
   "pygments_lexer": "ipython2",
   "version": "2.7.14"
  }
 },
 "nbformat": 4,
 "nbformat_minor": 2
}
