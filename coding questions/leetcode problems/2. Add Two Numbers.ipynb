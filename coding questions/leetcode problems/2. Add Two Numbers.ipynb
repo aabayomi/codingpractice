{
 "cells": [
  {
   "cell_type": "markdown",
   "metadata": {},
   "source": [
    "You are given two non-empty linked lists representing two non-negative integers. The digits are stored in reverse order and each of their nodes contain a single digit. Add the two numbers and return it as a linked list.\n",
    "\n",
    "You may assume the two numbers do not contain any leading zero, except the number 0 itself.\n",
    "\n",
    "Example:\n",
    "\n",
    "Input: (2 -> 4 -> 3) + (5 -> 6 -> 4)\n",
    "Output: 7 -> 0 -> 8\n",
    "Explanation: 342 + 465 = 807.\n"
   ]
  },
  {
   "cell_type": "code",
   "execution_count": 1,
   "metadata": {
    "collapsed": true
   },
   "outputs": [],
   "source": [
    "class ListNode(object):\n",
    "    def __init__(self, x):\n",
    "        self.val = x\n",
    "        self.next = None\n",
    "    \n",
    "    def myPrint(self):\n",
    "        print self.val\n",
    "        if self.next:\n",
    "            self.next.myPrint()\n",
    "\n",
    "class Solution(object):\n",
    "    def addTwoNumbers(self, l1, l2):\n",
    "        result = ListNode(0);\n",
    "        cur = result;\n",
    "        \n",
    "        while l1 or l2:\n",
    "            cur.val += self.addTwoNodes(l1,l2)\n",
    "            if cur.val >= 10:\n",
    "                cur.val -=10\n",
    "                cur.next = ListNode(1)\n",
    "            else:\n",
    "                if l1 and l1.next or l2 and l2.next:\n",
    "                    cur.next = ListNode(0)\n",
    "            cur = cur.next\n",
    "            if l1:\n",
    "                l1 =l1.next\n",
    "            if l2:\n",
    "                l2 = l2.next\n",
    "        return result\n",
    "    \n",
    "    def addTwoNodes(self,n1,n2):\n",
    "        if not n1:\n",
    "            return n2.val\n",
    "        if not n2:\n",
    "            return n1.val\n",
    "        return n1.val + n2.val\n",
    "        "
   ]
  }
 ],
 "metadata": {
  "kernelspec": {
   "display_name": "Python 2",
   "language": "python",
   "name": "python2"
  },
  "language_info": {
   "codemirror_mode": {
    "name": "ipython",
    "version": 2
   },
   "file_extension": ".py",
   "mimetype": "text/x-python",
   "name": "python",
   "nbconvert_exporter": "python",
   "pygments_lexer": "ipython2",
   "version": "2.7.14"
  }
 },
 "nbformat": 4,
 "nbformat_minor": 2
}
