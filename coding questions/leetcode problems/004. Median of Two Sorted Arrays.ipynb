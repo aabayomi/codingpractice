{
 "cells": [
  {
   "cell_type": "code",
   "execution_count": 2,
   "metadata": {
    "collapsed": true
   },
   "outputs": [],
   "source": [
    "def findMedianSortedArrays(nums1, nums2): \n",
    "    \n",
    "        m = len(nums1)\n",
    "        n = len(nums2)\n",
    "        if m > n :\n",
    "            return self.findMedianSortedArrays(nums2, nums1)\n",
    "        k = (m + n - 1) / 2\n",
    "        l = 0\n",
    "        r = min(m, k)\n",
    "        #start binarysearch\n",
    "        while l < r:\n",
    "            midNums1 = (l + r) / 2\n",
    "            midNums2 = k - midNums1\n",
    "            if nums1[midNums1] < nums2[midNums2]:\n",
    "                l += 1\n",
    "            else:\n",
    "                r = midNums1\n",
    "        # after binary search, we almost get the median because it must be between\n",
    "        # these 4 numbers: A[l-1], A[l], B[k-l], and B[k-l+1] \n",
    "    \n",
    "        # if (n+m) is odd, the median is the larger one between A[l-1] and B[k-l].\n",
    "        # and there are some corner cases we need to take care of.\n",
    "        a = max(nums1[l-1] if l > 0  else float('-inf'), nums2[k-l] if k-l >= 0 else float('-inf'))\n",
    "        if (m + n) & 1 == 1:\n",
    "            return a\n",
    "        b = min(nums1[l] if l < m else float('inf'), nums2[k-l+1] if k-l+1 < n else float('inf'))\n",
    "        return (a+b)/2.0"
   ]
  },
  {
   "cell_type": "code",
   "execution_count": 1,
   "metadata": {},
   "outputs": [
    {
     "data": {
      "text/plain": [
       "1"
      ]
     },
     "execution_count": 1,
     "metadata": {},
     "output_type": "execute_result"
    }
   ],
   "source": [
    "5 & 1"
   ]
  },
  {
   "cell_type": "code",
   "execution_count": 9,
   "metadata": {},
   "outputs": [],
   "source": [
    "def sort(nums):\n",
    "    for ele in range(len(nums)-1,0,-1):\n",
    "        for i in range(ele):\n",
    "            if nums[i]>nums[i+1]:\n",
    "                temp = nums[i]\n",
    "                nums[i] = nums[i+1]\n",
    "                nums[i+1] = temp\n",
    "            \n",
    "    return nums\n",
    "            "
   ]
  },
  {
   "cell_type": "code",
   "execution_count": 10,
   "metadata": {},
   "outputs": [
    {
     "data": {
      "text/plain": [
       "[1, 2, 3, 4]"
      ]
     },
     "execution_count": 10,
     "metadata": {},
     "output_type": "execute_result"
    }
   ],
   "source": [
    "sort([1,3, 4, 2])"
   ]
  }
 ],
 "metadata": {
  "kernelspec": {
   "display_name": "Python 2",
   "language": "python",
   "name": "python2"
  },
  "language_info": {
   "codemirror_mode": {
    "name": "ipython",
    "version": 2
   },
   "file_extension": ".py",
   "mimetype": "text/x-python",
   "name": "python",
   "nbconvert_exporter": "python",
   "pygments_lexer": "ipython2",
   "version": "2.7.14"
  }
 },
 "nbformat": 4,
 "nbformat_minor": 2
}
