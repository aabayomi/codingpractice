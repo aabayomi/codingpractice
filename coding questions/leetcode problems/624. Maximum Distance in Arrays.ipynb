{
 "cells": [
  {
   "cell_type": "markdown",
   "metadata": {},
   "source": [
    "Given m arrays, and each array is sorted in ascending order. Now you can pick up two integers from two different arrays (each array picks one) and calculate the distance. We define the distance between two integers a and b to be their absolute difference |a-b|. Your task is to find the maximum distance.\n",
    "\n",
    "Example 1:\n",
    "\n",
    "Input: \n",
    "[[1,2,3],\n",
    " [4,5],\n",
    " [1,2,3]]\n",
    "Output: 4\n",
    "Explanation: \n",
    "One way to reach the maximum distance 4 is to pick 1 in the first or third array and pick 5 in the second array.\n",
    "Note:\n",
    "\n",
    "Each given array will have at least 1 number. There will be at least two non-empty arrays.\n",
    "The total number of the integers in all the m arrays will be in the range of [2, 10000].\n",
    "The integers in the m arrays will be in the range of [-10000, 10000].\n"
   ]
  },
  {
   "cell_type": "code",
   "execution_count": 25,
   "metadata": {},
   "outputs": [],
   "source": [
    "def maxDistance(arrays):\n",
    "    low = {}\n",
    "    high = {}\n",
    "    for i , arr in enumerate (arrays):\n",
    "        low[i] = min(arr)\n",
    "        high[i] = max(arr)\n",
    "    print low \n",
    "    print high\n",
    "    \n",
    "    value = []\n",
    "    for k,v in high.items():    \n",
    "        while k != i\n",
    "        \n",
    "    print max(value)\n",
    "        \n",
    "\n"
   ]
  },
  {
   "cell_type": "code",
   "execution_count": 27,
   "metadata": {},
   "outputs": [
    {
     "name": "stdout",
     "output_type": "stream",
     "text": [
      "{0: 1, 1: 4, 2: 1}\n",
      "{0: 3, 1: 5, 2: 3}\n",
      "4\n"
     ]
    }
   ],
   "source": [
    "arrays = [[1,2,3],[4,5],[1,2,3]]\n",
    "\n",
    "# arrays = [[1,4],[0,5]]\n",
    "maxDistance(arrays)\n"
   ]
  }
 ],
 "metadata": {
  "kernelspec": {
   "display_name": "Python 2",
   "language": "python",
   "name": "python2"
  },
  "language_info": {
   "codemirror_mode": {
    "name": "ipython",
    "version": 2
   },
   "file_extension": ".py",
   "mimetype": "text/x-python",
   "name": "python",
   "nbconvert_exporter": "python",
   "pygments_lexer": "ipython2",
   "version": "2.7.14"
  }
 },
 "nbformat": 4,
 "nbformat_minor": 2
}
