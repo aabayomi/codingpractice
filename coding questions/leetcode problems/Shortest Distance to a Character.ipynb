{
 "cells": [
  {
   "cell_type": "markdown",
   "metadata": {},
   "source": [
    "Given a string S and a character C, return an array of integers representing the shortest distance from the character C in the string.\n",
    "\n",
    "Example 1:\n",
    "\n",
    "Input: S = \"loveleetcode\", C = 'e'\n",
    "Output: [3, 2, 1, 0, 1, 0, 0, 1, 2, 2, 1, 0]\n",
    " \n",
    "\n",
    "Note:\n",
    "\n",
    "S string length is in [1, 10000].\n",
    "C is a single character, and guaranteed to be in string S.\n",
    "All letters in S and C are lowercase.\n"
   ]
  },
  {
   "cell_type": "code",
   "execution_count": 32,
   "metadata": {
    "collapsed": true
   },
   "outputs": [],
   "source": [
    " def shortestToChar(S, C):\n",
    "        output = []\n",
    "        searchIndex = []\n",
    "        new_array = []\n",
    "        for i in range(len(S)):\n",
    "            if S[i] == C:\n",
    "                searchIndex.append(i)\n",
    "            output.append(i)\n",
    "            \n",
    "        for i in range(len(searchIndex)):\n",
    "            new_array.append(searchIndex[i] - output[i])\n",
    "        \n",
    "        \n",
    "        \n",
    "        print output,searchIndex,new_array\n",
    "        "
   ]
  },
  {
   "cell_type": "markdown",
   "metadata": {},
   "source": [
    "Intuition\n",
    "\n",
    "For each index S[i], let's try to find the distance to the next character C going left, and going right. The answer is the minimum of these two values.\n",
    "\n",
    "Algorithm\n",
    "\n",
    "When going left to right, we'll remember the index prev of the last character C we've seen. Then the answer is i - prev.\n",
    "\n",
    "When going right to left, we'll remember the index prev of the last character C we've seen. Then the answer is prev - i.\n",
    "\n",
    "We take the minimum of these two answers to create our final answer."
   ]
  },
  {
   "cell_type": "code",
   "execution_count": 42,
   "metadata": {
    "collapsed": true
   },
   "outputs": [],
   "source": [
    "def shortestToChar(S, C):    ### solution gotten from. leetcode \n",
    "    prev = float(\"-inf\")\n",
    "    ans =[]\n",
    "    for i ,x in enumerate(S):\n",
    "        if x == C:\n",
    "            prev = i\n",
    "        ans.append(i-prev)\n",
    "    print ans\n",
    "    \n",
    "    prev = float(\"inf\")\n",
    "    for i in range(len(S)-1,-1,-1):\n",
    "        if S[i]==C:\n",
    "            prev = i\n",
    "        ans[i] = min(ans[i],prev - i)\n",
    "    return ans"
   ]
  },
  {
   "cell_type": "code",
   "execution_count": 43,
   "metadata": {},
   "outputs": [
    {
     "name": "stdout",
     "output_type": "stream",
     "text": [
      "[inf, inf, inf, 0, 1, 0, 0, 1, 2, 3, 4, 0]\n"
     ]
    },
    {
     "data": {
      "text/plain": [
       "[3, 2, 1, 0, 1, 0, 0, 1, 2, 2, 1, 0]"
      ]
     },
     "execution_count": 43,
     "metadata": {},
     "output_type": "execute_result"
    }
   ],
   "source": [
    "shortestToChar(\"loveleetcode\",'e')"
   ]
  }
 ],
 "metadata": {
  "kernelspec": {
   "display_name": "Python 2",
   "language": "python",
   "name": "python2"
  },
  "language_info": {
   "codemirror_mode": {
    "name": "ipython",
    "version": 2
   },
   "file_extension": ".py",
   "mimetype": "text/x-python",
   "name": "python",
   "nbconvert_exporter": "python",
   "pygments_lexer": "ipython2",
   "version": "2.7.14"
  }
 },
 "nbformat": 4,
 "nbformat_minor": 2
}
