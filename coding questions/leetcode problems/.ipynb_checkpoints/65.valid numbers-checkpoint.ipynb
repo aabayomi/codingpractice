{
 "cells": [
  {
   "cell_type": "markdown",
   "metadata": {},
   "source": [
    "Validate if a given string is numeric.\n",
    "\n",
    "Some examples:\n",
    "\"0\" => true\n",
    "\" 0.1 \" => true\n",
    "\"abc\" => false\n",
    "\"1 a\" => false\n",
    "\"2e10\" => true\n",
    "\n",
    "Note: It is intended for the problem statement to be ambiguous. You should gather all requirements up front before implementing one.\n",
    "\n",
    "Update (2015-02-10):\n",
    "The signature of the C++ function had been updated. If you still see your function signature accepts a const char * argument, please click the reload button to reset your code definition.\n",
    "\n"
   ]
  },
  {
   "cell_type": "code",
   "execution_count": 2,
   "metadata": {
    "collapsed": true
   },
   "outputs": [],
   "source": [
    "from pythonds import Stack\n",
    "\n",
    "def isNumber(s):\n",
    "    s =s.strip()\n",
    "    numStack = Stack()\n",
    "    for i in range(len(s)):\n",
    "#         if s[0] in [\"+\",\"-\",\".\"]\n",
    "        if s[i] in [\"+\",\"-\",\".\"] or (s[i].isdigit() == True):\n",
    "            numStack.push(s[i])\n",
    "        else:\n",
    "            if (s[i] == \"e\" or s[i] == \"E\"):\n",
    "                numStack.push(s[i]) \n",
    "            else:\n",
    "                return False\n",
    "    return True\n"
   ]
  },
  {
   "cell_type": "code",
   "execution_count": 3,
   "metadata": {},
   "outputs": [
    {
     "name": "stdout",
     "output_type": "stream",
     "text": [
      "False\n",
      "True\n",
      "True\n",
      "False\n",
      "False\n",
      "False\n",
      "False\n"
     ]
    }
   ],
   "source": [
    "# print isNumber(\" 0.5\")\n",
    "print isNumber(\"3.e-23\")\n",
    "print isNumber(\".2e81\")\n",
    "print isNumber(\"2e10\")\n",
    "print isNumber(\" 0.1\")\n",
    "print isNumber(\"1 b\")\n",
    "print isNumber(\"3-2\")\n",
    "print isNumber(\"abc\")"
   ]
  },
  {
   "cell_type": "code",
   "execution_count": 7,
   "metadata": {},
   "outputs": [
    {
     "data": {
      "text/plain": [
       "True"
      ]
     },
     "execution_count": 7,
     "metadata": {},
     "output_type": "execute_result"
    }
   ],
   "source": [
    "isNumber(\" 0.5\")\n",
    "\n",
    "isNumber(\"3.e-23\") == True\n",
    "isNumber(\".2e81\") == True\n",
    "isNumber(\"2e10\") == True\n",
    "isNumber(\" 0.1\") == True\n",
    "isNumber(\"1 b\") == False\n",
    "isNumber(\"3-2\") == False\n",
    "isNumber(\"abc\") == False"
   ]
  }
 ],
 "metadata": {
  "kernelspec": {
   "display_name": "Python 2",
   "language": "python",
   "name": "python2"
  },
  "language_info": {
   "codemirror_mode": {
    "name": "ipython",
    "version": 2
   },
   "file_extension": ".py",
   "mimetype": "text/x-python",
   "name": "python",
   "nbconvert_exporter": "python",
   "pygments_lexer": "ipython2",
   "version": "2.7.14"
  }
 },
 "nbformat": 4,
 "nbformat_minor": 2
}
