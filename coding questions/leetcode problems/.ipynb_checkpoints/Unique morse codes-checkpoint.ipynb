{
 "cells": [
  {
   "cell_type": "markdown",
   "metadata": {},
   "source": [
    "International Morse Code defines a standard encoding where each letter is mapped to a series of dots and dashes, as follows: \"a\" maps to \".-\", \"b\" maps to \"-...\", \"c\" maps to \"-.-.\", and so on.\n",
    "\n",
    "For convenience, the full table for the 26 letters of the English alphabet is given below:\n",
    "\n",
    "[\".-\",\"-...\",\"-.-.\",\"-..\",\".\",\"..-.\",\"--.\",\"....\",\"..\",\".---\",\"-.-\",\".-..\",\"--\",\"-.\",\"---\",\".--.\",\"--.-\",\".-.\",\"...\",\"-\",\"..-\",\"...-\",\".--\",\"-..-\",\"-.--\",\"--..\"]\n",
    "\n",
    "Now, given a list of words, each word can be written as a concatenation of the Morse code of each letter. For example, \"cab\" can be written as \"-.-.-....-\", (which is the concatenation \"-.-.\" + \"-...\" + \".-\"). We'll call such a concatenation, the transformation of a word.\n",
    "\n",
    "Return the number of different transformations among all words we have.\n",
    "\n",
    "Example:\n",
    "Input: words = [\"gin\", \"zen\", \"gig\", \"msg\"]\n",
    "Output: 2\n",
    "Explanation: \n",
    "The transformation of each word is:\n",
    "\"gin\" -> \"--...-.\"\n",
    "\"zen\" -> \"--...-.\"\n",
    "\"gig\" -> \"--...--.\"\n",
    "\"msg\" -> \"--...--.\"\n",
    "\n",
    "There are 2 different transformations, \"--...-.\" and \"--...--.\".\n",
    "\n",
    "\n",
    "Note:\n",
    "\n",
    "The length of words will be at most 100.\n",
    "Each words[i] will have length in range [1, 12].\n",
    "words[i] will only consist of lowercase letters.\n"
   ]
  },
  {
   "cell_type": "code",
   "execution_count": 58,
   "metadata": {},
   "outputs": [],
   "source": [
    "def uniquemorse(words):\n",
    "    \n",
    "    morse_dict = {\"a\":\".-\",\"b\":\"-...\",\"c\":\"-.-.\",\"d\":\"-..\",\"e\":\".\",\"f\":\"..-.\",\"g\":\"--.\",\"h\":\"....\",\"i\":\"..\",\"j\":\".---\",\"k\":\"-.-\",\"l\":\".-..\",\"m\":\"--\",\"n\":\"-.\",\"o\":\"---\",\"p\":\".--.\",\"q\":\"--.-\",\"r\":\".-.\",\"s\":\"...\",\"t\":\"-\",\"u\":\"..-\",\"v\":\"...-\",\"w\":\".--\",\"x\":\"-..-\",\"y\":\"-.--\",\"z\":\"--..\"}\n",
    "    \n",
    "    conver_list = []\n",
    "    morse_list =[]     \n",
    "    temp_str =\"\"\n",
    "      \n",
    "        \n",
    "    for word in words:\n",
    "        for i in range(len(word)):\n",
    "            if word[i] in morse_dict.keys():\n",
    "                temp_str = temp_str + morse_dict[word[i]]\n",
    "        morse_list.append(temp_str)\n",
    "    print morse_list\n",
    "            \n",
    "            \n",
    "                \n",
    "    #print morse_list\n",
    "            \n",
    "            \n",
    "            \n",
    "            \n",
    "            \n",
    "#             if word[char] in morse_dict.keys():\n",
    "#                 morse_list.append(morse_dict[word[char]])\n",
    "#     print morse_list\n",
    "            \n",
    "            \n",
    "#             if char in morse_dict.keys():\n",
    "#                 morse_list.append(morse_dict[char])\n",
    "#         conver_list.append(\"\".join(morse_list))\n",
    "#     print morse_list\n",
    "#     print conver_list\n",
    "#     return conver_list   \n",
    "            \n",
    "  "
   ]
  },
  {
   "cell_type": "code",
   "execution_count": 59,
   "metadata": {},
   "outputs": [
    {
     "name": "stdout",
     "output_type": "stream",
     "text": [
      "['--...-.', '--...-.--...-.']\n"
     ]
    }
   ],
   "source": [
    "uniquemorse([\"gin\", \"zen\"])"
   ]
  }
 ],
 "metadata": {
  "kernelspec": {
   "display_name": "Python 2",
   "language": "python",
   "name": "python2"
  },
  "language_info": {
   "codemirror_mode": {
    "name": "ipython",
    "version": 2
   },
   "file_extension": ".py",
   "mimetype": "text/x-python",
   "name": "python",
   "nbconvert_exporter": "python",
   "pygments_lexer": "ipython2",
   "version": "2.7.14"
  }
 },
 "nbformat": 4,
 "nbformat_minor": 2
}
