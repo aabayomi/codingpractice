{
 "cells": [
  {
   "cell_type": "code",
   "execution_count": null,
   "metadata": {
    "collapsed": true
   },
   "outputs": [],
   "source": [
    "def missingWord(s,t):\n",
    "    s = s.split()\n",
    "    print s\n",
    "    t = t.split()\n",
    "    print t\n",
    "    for word in t:\n",
    "        if word in s:\n",
    "            s.remove(word)\n",
    "        else:\n",
    "            pass\n",
    "    return s\n",
    "   \n",
    "                \n",
    "    "
   ]
  },
  {
   "cell_type": "code",
   "execution_count": null,
   "metadata": {
    "collapsed": true
   },
   "outputs": [],
   "source": [
    "# print missingWord(\"I am using HackerRank to improve programming\",\"am HackerRank to improve\")\n",
    "print missingWord(\"I    On  like cheese\",\"I , cheese\")"
   ]
  },
  {
   "cell_type": "code",
   "execution_count": 33,
   "metadata": {
    "collapsed": true
   },
   "outputs": [],
   "source": [
    "def electionWinner(votes):\n",
    "    voteDict = {}\n",
    "    maxcand = []\n",
    "    for vote in votes:\n",
    "        voteDict[vote] = voteDict.get(vote,0) + 1\n",
    "    name = dict.keys(voteDict)\n",
    "    nameval = dict.values(voteDict)\n",
    "    maxvote = max(nameval)\n",
    "    \n",
    "    for vote in voteDict:\n",
    "        if voteDict[vote] == maxvote:\n",
    "            if len(maxcand) == 0:\n",
    "                maxcand.append(vote)\n",
    "            else:\n",
    "                if vote > maxcand[0]:\n",
    "                    maxcand.insert(0, vote)\n",
    "                else:\n",
    "                    maxcand.append(vote)\n",
    "                    \n",
    "    return maxcand[0]\n",
    "            \n"
   ]
  },
  {
   "cell_type": "markdown",
   "metadata": {},
   "source": [
    "Simple Text Queries "
   ]
  },
  {
   "cell_type": "code",
   "execution_count": null,
   "metadata": {
    "collapsed": true
   },
   "outputs": [],
   "source": [
    "def textQueries(sentences,queries):\n",
    "    sentDict = {}\n",
    "    sentList = []\n",
    "    for i,sent in enumerate(sentences):\n",
    "        sentDict[sent] = i\n",
    "    print sentDict\n",
    "    \n",
    "#     for keys in   \n",
    "    newWordList = []\n",
    "    \n",
    "    for words in queries:\n",
    "        word = words.split()\n",
    "        miniList =[]\n",
    "        for i in word:\n",
    "            miniList.append(i)\n",
    "        newWordList.append(miniList)\n",
    "    print newWordList\n",
    "    \n",
    "    for i in newWordList:\n",
    "        for j in i:\n",
    "            if j in "
   ]
  },
  {
   "cell_type": "code",
   "execution_count": null,
   "metadata": {
    "collapsed": true
   },
   "outputs": [],
   "source": [
    "sentences = [\"how it was done\",\"are you how\",\"it goes to\",\"goes done are it\"]\n",
    "queries = [\"done it\",\"it\"]\n",
    "\n",
    "print textQueries(sentences,queries)\n"
   ]
  },
  {
   "cell_type": "code",
   "execution_count": 29,
   "metadata": {
    "collapsed": true
   },
   "outputs": [],
   "source": [
    "def two(newString):\n",
    "    temp =''\n",
    "    i= 0\n",
    "    while len(temp)<2:\n",
    "        temp = temp + newString[i]\n",
    "        newString.pop(i)\n",
    "#         print newString,temp\n",
    "    return temp\n",
    "\n",
    "def three(newString):\n",
    "    temp =''\n",
    "    i= 0\n",
    "    while len(temp)<3:\n",
    "        temp = temp + newString[i]\n",
    "        newString.pop(i)\n",
    "#         print newString,temp\n",
    "    return temp\n",
    "\n",
    "\n",
    "#     print newString\n",
    "\n",
    "def decode(astring):\n",
    "    asciiDict={}\n",
    "    lookup ='abcdefghijklmnopqrustvwxyzABCDEFGHIJKLMNOPQRSTUVWXYZ '\n",
    "    for char in lookup:\n",
    "        asciiDict[char] = ord(char)  \n",
    "#     print asciiDict\n",
    "    \n",
    "    newString =[]\n",
    "    \n",
    "    for char in astring[::-1]:\n",
    "        newString.append(char)\n",
    "    value = \"\".join(newString)   \n",
    "    \n",
    "    sentence = []\n",
    "    while newString !=[]:\n",
    "        temp = two(newString)\n",
    "        if int(temp) in asciiDict.values():\n",
    "            tempIndex = asciiDict.values().index(int(temp))\n",
    "            tempKey = asciiDict.keys()[tempIndex]\n",
    "            sentence.append(tempKey)\n",
    "        else:\n",
    "            for i in temp[::-1]:\n",
    "                newString.insert(0,i)\n",
    "            temp = three(newString)\n",
    "            if int(temp) in asciiDict.values():\n",
    "                tempIndex = asciiDict.values().index(int(temp))\n",
    "                tempKey = asciiDict.keys()[tempIndex]\n",
    "                sentence.append(tempKey)\n",
    "            else:\n",
    "                pass\n",
    "    print \"\".join(sentence)\n",
    "        \n",
    "\n",
    "\n"
   ]
  },
  {
   "cell_type": "code",
   "execution_count": 32,
   "metadata": {},
   "outputs": [
    {
     "name": "stdout",
     "output_type": "stream",
     "text": [
      "Hacker Rank\n",
      "Truth Always Wins \n",
      "Honesty is the Best Policy\n"
     ]
    }
   ],
   "source": [
    "#decode(\"729799107101114328297110107\")\n",
    "decode(\"701011792823411101701997927\")\n",
    "decode(\"23511011501782351112179911801562340161171141148\")\n",
    "decode(\"1219950180111108236115111016623101401611235115012312161151110101111127\")\n",
    "# decode(\"701015\")"
   ]
  },
  {
   "cell_type": "code",
   "execution_count": null,
   "metadata": {
    "collapsed": true
   },
   "outputs": [],
   "source": [
    "def shortestToChar(S, C ):    ### solution gotten from. leetcode \n",
    "    prev = float(\"-inf\")\n",
    "    ans =[]\n",
    "    for i ,x in enumerate(S):\n",
    "        if x == C:\n",
    "            prev = i\n",
    "        ans.append(i-prev)\n",
    "    print \"first pass\",ans\n",
    "    prev = float(\"inf\")\n",
    "    for i in range(len(S)-1,-1,-1):\n",
    "        if S[i]==C:\n",
    "            prev = i\n",
    "        ans[i] = min(ans[i],prev - i)\n",
    "    return ans"
   ]
  },
  {
   "cell_type": "code",
   "execution_count": null,
   "metadata": {
    "collapsed": true
   },
   "outputs": [],
   "source": [
    "print shortestToChar(\"loveleetcode\",'e')\n",
    "print shortestToChar(\"babab\",'b')\n",
    "print shortestToChar(\"hackerrank\",'e')\n",
    "print shortestToChar(\"hackerrank\",'a')"
   ]
  },
  {
   "cell_type": "code",
   "execution_count": null,
   "metadata": {
    "collapsed": true
   },
   "outputs": [],
   "source": [
    "def closest(word,query):\n",
    "    \n",
    "    if query < 0 and abs(query) > len(word):\n",
    "        raise ValueError(\"OutofIndex\")\n",
    "    elif query > 0 and query > len(word)-1:\n",
    "        raise ValueError(\"OutofIndex\")\n",
    "    \n",
    "    if query < 0:\n",
    "        newquery = len(word) + query\n",
    "        word = list(word)\n",
    "        lookup= {}\n",
    "        for i , x in enumerate (word):\n",
    "            lookup[i]= ord(x)\n",
    "\n",
    "        same = []\n",
    "        rval = ''\n",
    "        for key,value in lookup.items():\n",
    "            if int(key) == int(newquery):\n",
    "                rval= str(value)\n",
    "        for keys,value in lookup.items():\n",
    "            if int(value) == int(rval):\n",
    "                same.append(keys)\n",
    "\n",
    "        diff = []\n",
    "        idDict = {}\n",
    "        if len(same) ==1:\n",
    "            return -1\n",
    "        elif len(same) == 2:\n",
    "            for ele in same:\n",
    "                if ele == newquery:\n",
    "                    same.remove(ele)\n",
    "            return same[0]\n",
    "        else:\n",
    "            for i in same:\n",
    "                diff.append(abs(i-newquery))\n",
    "            for x,y in zip(same,diff):\n",
    "                idDict[x] = y\n",
    "            for keys,value in idDict.items():\n",
    "                if value == 0:\n",
    "                    del idDict[keys]\n",
    "            return min(idDict,key=idDict.get)\n",
    "    \n",
    "    else:\n",
    "        word = list(word)\n",
    "        lookup= {}\n",
    "        for i , x in enumerate (word):\n",
    "            lookup[i]= ord(x)\n",
    "\n",
    "        same = []\n",
    "        rval = ''\n",
    "        for key,value in lookup.items():\n",
    "            if int(key) == int(query):\n",
    "                rval= str(value)\n",
    "        for keys,value in lookup.items():\n",
    "            if int(value) == int(rval):\n",
    "                same.append(keys)\n",
    "\n",
    "        diff = []\n",
    "        idDict = {}\n",
    "        if len(same) ==1:\n",
    "            return -1\n",
    "        elif len(same) == 2:\n",
    "            for ele in same:\n",
    "                if ele == query:\n",
    "                    same.remove(ele)\n",
    "            return same[0]\n",
    "        else:\n",
    "            for i in same:\n",
    "                diff.append(abs(i-query))\n",
    "            for x,y in zip(same,diff):\n",
    "                idDict[x] = y\n",
    "            for keys,value in idDict.items():\n",
    "                if value == 0:\n",
    "                    del idDict[keys]\n",
    "            return min(idDict,key=idDict.get)\n",
    "\n",
    "        "
   ]
  },
  {
   "cell_type": "code",
   "execution_count": null,
   "metadata": {
    "collapsed": true
   },
   "outputs": [],
   "source": [
    "print closest(\"babab\",2)\n",
    "print closest(\"hackerrank\",4)\n",
    "print closest(\"hackerrank\",-6)\n",
    "# print closest(\"hackerrank\",-20)\n",
    "print closest(\"hackerrank\",4)\n",
    "print closest(\"hackerrank\",1)\n",
    "print closest(\"hackerrank\",6)\n",
    "print closest(\"hackerrank\",8)\n",
    "print closest(\"sam\",1)\n",
    "print closest(\"sam\",1)\n"
   ]
  },
  {
   "cell_type": "code",
   "execution_count": null,
   "metadata": {
    "collapsed": true
   },
   "outputs": [],
   "source": [
    "min ([2,-1])\n",
    "d = {0: -2, 3: -5, 5: -3}\n",
    "print min(d, key=d.get)"
   ]
  }
 ],
 "metadata": {
  "kernelspec": {
   "display_name": "Python 2",
   "language": "python",
   "name": "python2"
  },
  "language_info": {
   "codemirror_mode": {
    "name": "ipython",
    "version": 2
   },
   "file_extension": ".py",
   "mimetype": "text/x-python",
   "name": "python",
   "nbconvert_exporter": "python",
   "pygments_lexer": "ipython2",
   "version": "2.7.14"
  }
 },
 "nbformat": 4,
 "nbformat_minor": 2
}
