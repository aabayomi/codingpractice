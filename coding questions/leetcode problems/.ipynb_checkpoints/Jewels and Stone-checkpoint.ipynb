{
 "cells": [
  {
   "cell_type": "markdown",
   "metadata": {},
   "source": [
    "You're given strings J representing the types of stones that are jewels, and S representing the stones you have.  Each character in S is a type of stone you have.  You want to know how many of the stones you have are also jewels.\n",
    "\n",
    "The letters in J are guaranteed distinct, and all characters in J and S are letters. Letters are case sensitive, so \"a\" is considered a different type of stone from \"A\".\n",
    "\n",
    "\n",
    "Input: J = \"aA\", S = \"aAAbbbb\"\n",
    "Output: 3\n",
    "\n",
    "\n",
    "Input: J = \"z\", S = \"ZZ\"\n",
    "Output: 0"
   ]
  },
  {
   "cell_type": "code",
   "execution_count": 65,
   "metadata": {},
   "outputs": [],
   "source": [
    "def jewel_stone(J,S):\n",
    "    if len(J)>len(S):\n",
    "        lookup_dict ={}\n",
    "        for char in J:\n",
    "            lookup_dict[char] = lookup_dict.get(char,0) + 1\n",
    "        count = 0\n",
    "        for char in S:\n",
    "            if char in lookup_dict:\n",
    "                count = count + lookup_dict.get(char)\n",
    "        return count\n",
    "    \n",
    "    elif len(S)>len(J):\n",
    "        \n",
    "        lookup_dict ={}\n",
    "        for char in S:\n",
    "            lookup_dict[char] = lookup_dict.get(char,0) + 1\n",
    "        count = 0\n",
    "        for char in J:\n",
    "            if char in lookup_dict:\n",
    "                count = count + lookup_dict.get(char)     \n",
    "        return count\n",
    "    \n",
    "    else:\n",
    "        lookup_dict ={}\n",
    "        for char in J:\n",
    "            lookup_dict[char] = lookup_dict.get(char,0) + 1\n",
    "        count = 0\n",
    "        print lookup_dict\n",
    "        for char in S:\n",
    "            if char in lookup_dict:\n",
    "                count = count + lookup_dict.get(char)\n",
    "        return count\n",
    "    "
   ]
  },
  {
   "cell_type": "code",
   "execution_count": 66,
   "metadata": {},
   "outputs": [
    {
     "name": "stdout",
     "output_type": "stream",
     "text": [
      "3\n",
      "0\n",
      "{'c': 1, 'b': 1, 'd': 1}\n",
      "1\n",
      "1\n",
      "1\n",
      "2\n",
      "2\n"
     ]
    }
   ],
   "source": [
    "print jewel_stone(\"aA\",\"aAAbbbb\")\n",
    "print jewel_stone(\"z\",\"ZZ\")\n",
    "print jewel_stone(\"bcd\",\"cba\")"
   ]
  }
 ],
 "metadata": {
  "kernelspec": {
   "display_name": "Python 2",
   "language": "python",
   "name": "python2"
  },
  "language_info": {
   "codemirror_mode": {
    "name": "ipython",
    "version": 2
   },
   "file_extension": ".py",
   "mimetype": "text/x-python",
   "name": "python",
   "nbconvert_exporter": "python",
   "pygments_lexer": "ipython2",
   "version": "2.7.14"
  }
 },
 "nbformat": 4,
 "nbformat_minor": 2
}
