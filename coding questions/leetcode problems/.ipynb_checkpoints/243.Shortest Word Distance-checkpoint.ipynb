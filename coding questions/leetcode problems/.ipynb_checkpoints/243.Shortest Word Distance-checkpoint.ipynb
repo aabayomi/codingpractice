{
 "cells": [
  {
   "cell_type": "markdown",
   "metadata": {},
   "source": [
    "Given a list of words and two words word1 and word2, return the shortest distance between these two words in the list.\n",
    "\n",
    "Example:\n",
    "Assume that words = [\"practice\", \"makes\", \"perfect\", \"coding\", \"makes\"].\n",
    "\n",
    "Input: word1 = “coding”, word2 = “practice”\n",
    "Output: 3\n",
    "Input: word1 = \"makes\", word2 = \"coding\"\n",
    "Output: 1\n",
    "Note:\n",
    "You may assume that word1 does not equal to word2, and word1 and word2 are both in the list.\n",
    "\n"
   ]
  },
  {
   "cell_type": "code",
   "execution_count": 31,
   "metadata": {
    "collapsed": true
   },
   "outputs": [],
   "source": [
    "from collections import defaultdict                 #not efficennt O(n^2)\n",
    "def shortestDistance(words,word1,word2):\n",
    "    \n",
    "    d=defaultdict(list)\n",
    "    for i, word in enumerate (words):\n",
    "        d[word].append(i) \n",
    "    lookup = dict(d)\n",
    "    \n",
    "    if word1 in lookup:\n",
    "        word1List= lookup.get(word1)\n",
    "    if word2 in lookup:\n",
    "        word2List= lookup.get(word2)\n",
    "    value = []\n",
    "    for num1 in word1List:\n",
    "        for num2 in word2List:\n",
    "             value.append(abs(num1-num2))\n",
    "    return min(value)\n",
    "\n",
    "def shortestDistance2(words,word1,word2):     # O(n) best leetcode soloution\n",
    "    index1 = float(\"-inf\")\n",
    "    index2 = float(\"-inf\")\n",
    "    ans = float(\"inf\")\n",
    "    \n",
    "    for i,word in enumerate(words):\n",
    "        if word == word1:\n",
    "            ans = min(ans,i-index2)\n",
    "            index1 = i\n",
    "        if word == word2:\n",
    "            ans = min(ans,i-index1)\n",
    "            index2 = i\n",
    "    return ans\n",
    "        "
   ]
  },
  {
   "cell_type": "code",
   "execution_count": 33,
   "metadata": {},
   "outputs": [
    {
     "name": "stdout",
     "output_type": "stream",
     "text": [
      "3\n",
      "3\n"
     ]
    }
   ],
   "source": [
    "words = [\"practice\", \"makes\", \"perfect\", \"coding\", \"makes\"]\n",
    "\n",
    "word1 = \"coding\"\n",
    "word2 = \"practice\"\n",
    "\n",
    "# word1 = \"makes\"\n",
    "# word2 = \"coding\"\n",
    "\n",
    "print shortestDistance(words,word1,word2)\n",
    "print shortestDistance2(words,word1,word2)\n",
    "\n"
   ]
  }
 ],
 "metadata": {
  "kernelspec": {
   "display_name": "Python 2",
   "language": "python",
   "name": "python2"
  },
  "language_info": {
   "codemirror_mode": {
    "name": "ipython",
    "version": 2
   },
   "file_extension": ".py",
   "mimetype": "text/x-python",
   "name": "python",
   "nbconvert_exporter": "python",
   "pygments_lexer": "ipython2",
   "version": "2.7.14"
  }
 },
 "nbformat": 4,
 "nbformat_minor": 2
}
