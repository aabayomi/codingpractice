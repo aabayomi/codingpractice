{
 "cells": [
  {
   "cell_type": "markdown",
   "metadata": {},
   "source": [
    "Given an array of strings, group anagrams together.\n",
    "\n",
    "Example:\n",
    "\n",
    "Input: [\"eat\", \"tea\", \"tan\", \"ate\", \"nat\", \"bat\"]\n",
    "Output:\n",
    "[\n",
    "  [\"ate\",\"eat\",\"tea\"],\n",
    "  [\"nat\",\"tan\"],\n",
    "  [\"bat\"]\n",
    "]\n",
    "Note:\n",
    "\n",
    "All inputs will be in lowercase.\n",
    "The order of your output does not matter."
   ]
  },
  {
   "cell_type": "code",
   "execution_count": 45,
   "metadata": {
    "collapsed": true
   },
   "outputs": [],
   "source": [
    " def groupAnagrams(strs):\n",
    "        new = []\n",
    "        for ele in strs:\n",
    "            sortEle= sorted(ele)\n",
    "            new.append(\"\".join(sortEle))\n",
    "        print new \n",
    "        \n",
    "        \n",
    "#         same = set()\n",
    "        \n",
    "#         for ele in new:\n",
    "#             same.add(ele)\n",
    "            \n",
    "#         sameList = list(same) \n",
    "        \n",
    "#         print len(same)\n",
    "#         lookup = {}\n",
    "        \n",
    "        \n",
    "#         for i , v in zip(strs,new):\n",
    "#             if v in sameList:\n",
    "#                 lookup[i] = sameList.index(v)\n",
    "#         print lookup\n",
    "        \n",
    "#         groups =[]\n",
    "        \n",
    "#         temp = []\n",
    "#         for i in range(len(same)):\n",
    "#             for keys , v in lookup.items():\n",
    "#                 if i == v:\n",
    "#                     temp.append(keys)\n",
    "#             groups.append(temp)\n",
    "#             temp = []\n",
    "#         return groups\n",
    "        "
   ]
  },
  {
   "cell_type": "code",
   "execution_count": 46,
   "metadata": {},
   "outputs": [
    {
     "name": "stdout",
     "output_type": "stream",
     "text": [
      "['aet', 'aet', 'ant', 'aet', 'ant', 'abt']\n",
      "None\n",
      "['', '']\n",
      "None\n"
     ]
    }
   ],
   "source": [
    "print groupAnagrams([\"eat\", \"tea\", \"tan\", \"ate\", \"nat\", \"bat\"])\n",
    "print groupAnagrams([\"\",\"\"])"
   ]
  },
  {
   "cell_type": "code",
   "execution_count": 12,
   "metadata": {},
   "outputs": [],
   "source": [
    "def groupAnagrams(strs):\n",
    "    map = {}\n",
    "    for i, v in enumerate(strs):\n",
    "        target = \"\".join(sorted(v))\n",
    "        print target \n",
    "        if target not in map:\n",
    "            map[target]=[v]\n",
    "        else:\n",
    "            map[target].append(v)\n",
    "    print map\n",
    "\n",
    "    result = []\n",
    "    for value in map.values():\n",
    "        result += [sorted(value)]\n",
    "    return result"
   ]
  },
  {
   "cell_type": "code",
   "execution_count": 13,
   "metadata": {},
   "outputs": [
    {
     "name": "stdout",
     "output_type": "stream",
     "text": [
      "aet\n",
      "aet\n",
      "ant\n",
      "aet\n",
      "ant\n",
      "abt\n",
      "{'ant': ['tan', 'nat'], 'abt': ['bat'], 'aet': ['eat', 'tea', 'ate']}\n",
      "[['nat', 'tan'], ['bat'], ['ate', 'eat', 'tea']]\n",
      "\n",
      "\n",
      "{'': ['', '']}\n",
      "[['', '']]\n"
     ]
    }
   ],
   "source": [
    "print groupAnagrams([\"eat\", \"tea\", \"tan\", \"ate\", \"nat\", \"bat\"])\n",
    "print groupAnagrams([\"\",\"\"])"
   ]
  }
 ],
 "metadata": {
  "kernelspec": {
   "display_name": "Python 2",
   "language": "python",
   "name": "python2"
  },
  "language_info": {
   "codemirror_mode": {
    "name": "ipython",
    "version": 2
   },
   "file_extension": ".py",
   "mimetype": "text/x-python",
   "name": "python",
   "nbconvert_exporter": "python",
   "pygments_lexer": "ipython2",
   "version": "2.7.14"
  }
 },
 "nbformat": 4,
 "nbformat_minor": 2
}
