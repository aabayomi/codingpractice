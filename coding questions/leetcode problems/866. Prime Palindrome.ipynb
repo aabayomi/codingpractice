{
 "cells": [
  {
   "cell_type": "code",
   "execution_count": 33,
   "metadata": {
    "collapsed": true
   },
   "outputs": [],
   "source": [
    "def primeNumbers(N,M):\n",
    "    primes = []\n",
    "    for i in range(N,M*N+1):\n",
    "        isPrime = True\n",
    "        for j in range(2,i):\n",
    "            if i % j == 0:\n",
    "                isPrime = False\n",
    "                break\n",
    "        if isPrime:\n",
    "            primes.append(i)\n",
    "           \n",
    "    return primes\n",
    "    \n",
    "    \n",
    "def primePalindrome(N):\n",
    "    primeList = primeNumbers(N,N//2)\n",
    "    print primeList\n",
    "    \n",
    "    primePal = []\n",
    "    for i in primeList:\n",
    "        if str(i) == str(i)[::-1]:\n",
    "            primePal.append(i)\n",
    "        else:\n",
    "            pass\n",
    "        \n",
    "    if primePal == []:\n",
    "        print \"nothing\"\n",
    "        \n",
    "    else:\n",
    "        return min (primePal)"
   ]
  },
  {
   "cell_type": "code",
   "execution_count": 34,
   "metadata": {},
   "outputs": [
    {
     "name": "stdout",
     "output_type": "stream",
     "text": [
      "[13, 17, 19, 23, 29, 31, 37, 41, 43, 47, 53, 59, 61, 67, 71, 73]\n",
      "nothing\n"
     ]
    }
   ],
   "source": [
    "primePalindrome(13)"
   ]
  }
 ],
 "metadata": {
  "kernelspec": {
   "display_name": "Python 2",
   "language": "python",
   "name": "python2"
  },
  "language_info": {
   "codemirror_mode": {
    "name": "ipython",
    "version": 2
   },
   "file_extension": ".py",
   "mimetype": "text/x-python",
   "name": "python",
   "nbconvert_exporter": "python",
   "pygments_lexer": "ipython2",
   "version": "2.7.14"
  }
 },
 "nbformat": 4,
 "nbformat_minor": 2
}
