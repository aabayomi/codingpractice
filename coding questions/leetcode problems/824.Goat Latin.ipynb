{
 "cells": [
  {
   "cell_type": "markdown",
   "metadata": {},
   "source": [
    "A sentence S is given, composed of words separated by spaces. Each word consists of lowercase and uppercase letters only.\n",
    "\n",
    "We would like to convert the sentence to \"Goat Latin\" (a made-up language similar to Pig Latin.)\n",
    "\n",
    "The rules of Goat Latin are as follows:\n",
    "\n",
    "If a word begins with a vowel (a, e, i, o, or u), append \"ma\" to the end of the word.\n",
    "For example, the word 'apple' becomes 'applema'.\n",
    " \n",
    "If a word begins with a consonant (i.e. not a vowel), remove the first letter and append it to the end, then add \"ma\".\n",
    "For example, the word \"goat\" becomes \"oatgma\".\n",
    " \n",
    "Add one letter 'a' to the end of each word per its word index in the sentence, starting with 1.\n",
    "For example, the first word gets \"a\" added to the end, the second word gets \"aa\" added to the end and so on.\n",
    "Return the final sentence representing the conversion from S to Goat Latin. \n",
    "\n",
    " \n",
    "Example 1:\n",
    "\n",
    "Input: \"I speak Goat Latin\"\n",
    "Output: \"Imaa peaksmaaa oatGmaaaa atinLmaaaaa\"\n",
    "Example 2:\n",
    "\n",
    "Input: \"The quick brown fox jumped over the lazy dog\"\n",
    "Output: \"heTmaa uickqmaaa rownbmaaaa oxfmaaaaa umpedjmaaaaaa overmaaaaaaa hetmaaaaaaaa azylmaaaaaaaaa ogdmaaaaaaaaaa\"\n",
    " \n",
    "\n",
    "Notes:\n",
    "\n",
    "S contains only uppercase, lowercase and spaces. Exactly one space between each word.\n",
    "1 <= S.length <= 150.\n"
   ]
  },
  {
   "cell_type": "code",
   "execution_count": 33,
   "metadata": {},
   "outputs": [],
   "source": [
    "def toGoatLatin(S):\n",
    "    S = S.split()\n",
    "    vowelList = [\"a\",\"e\",\"i\",\"o\",\"u\",\"A\",\"E\",\"I\",\"O\",\"U\"]\n",
    "    \n",
    "    word = ''\n",
    "    sentence = []\n",
    "    for i, ele in enumerate(S):\n",
    "        if ele[0] in vowelList:\n",
    "            word = word + ele + \"ma\" + \"\".join(['a']*(i+1))\n",
    "        else :\n",
    "            word = word + ele[1:] + ele[0] + \"ma\" + \"\".join(['a']*(i+1))\n",
    "        sentence.append(word)\n",
    "        word = ''\n",
    "    print \" \".join(sentence)\n",
    "    "
   ]
  },
  {
   "cell_type": "code",
   "execution_count": 34,
   "metadata": {},
   "outputs": [
    {
     "name": "stdout",
     "output_type": "stream",
     "text": [
      "Imaa peaksmaaa oatGmaaaa atinLmaaaaa\n",
      "heTmaa uickqmaaa rownbmaaaa oxfmaaaaa umpedjmaaaaaa overmaaaaaaa hetmaaaaaaaa azylmaaaaaaaaa ogdmaaaaaaaaaa\n"
     ]
    }
   ],
   "source": [
    "toGoatLatin(\"I speak Goat Latin\")\n",
    "toGoatLatin(\"The quick brown fox jumped over the lazy dog\")\n",
    "# \"I speak Goat Latin\""
   ]
  },
  {
   "cell_type": "code",
   "execution_count": 5,
   "metadata": {},
   "outputs": [
    {
     "name": "stdout",
     "output_type": "stream",
     "text": [
      "aaa\n"
     ]
    }
   ],
   "source": [
    "print \"\".join(['a']*3)"
   ]
  },
  {
   "cell_type": "code",
   "execution_count": 22,
   "metadata": {},
   "outputs": [
    {
     "name": "stdout",
     "output_type": "stream",
     "text": [
      "oatG\n"
     ]
    }
   ],
   "source": [
    "a = \"Goat\"\n",
    "print a[1:] + a[0]"
   ]
  }
 ],
 "metadata": {
  "kernelspec": {
   "display_name": "Python 2",
   "language": "python",
   "name": "python2"
  },
  "language_info": {
   "codemirror_mode": {
    "name": "ipython",
    "version": 2
   },
   "file_extension": ".py",
   "mimetype": "text/x-python",
   "name": "python",
   "nbconvert_exporter": "python",
   "pygments_lexer": "ipython2",
   "version": "2.7.14"
  }
 },
 "nbformat": 4,
 "nbformat_minor": 2
}
