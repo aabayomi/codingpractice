{
 "cells": [
  {
   "cell_type": "markdown",
   "metadata": {},
   "source": [
    "Given a List of words, return the words that can be typed using letters of alphabet on only one row's of American keyboard like the image below.\n",
    "\n",
    "\n",
    "\n",
    "Input: [\"Hello\", \"Alaska\", \"Dad\", \"Peace\"]\n",
    "Output: [\"Alaska\", \"Dad\"]"
   ]
  },
  {
   "cell_type": "code",
   "execution_count": 54,
   "metadata": {},
   "outputs": [],
   "source": [
    "def findWords(words):\n",
    "    \n",
    "    first_row = \"qwertyuiopQWERTYUIOP\"\n",
    "    second_row =\"asdfghjklASDFGHJKL\"\n",
    "    third_row =\"zxcvbnmZXCVBNM\"\n",
    "    \n",
    "    new_string = \"\"\n",
    "    output = []\n",
    "    for word in words:\n",
    "        for letter in range(len(word)):\n",
    "            if word[letter] in first_row:\n",
    "                new_string = new_string + word[letter]\n",
    "                \n",
    "        new_string = \"\"\n",
    "        \n",
    "        if word[letter] in second_row:\n",
    "            new_string = new_string + word[letter]\n",
    "#             elif word[letter] in third_row:\n",
    "#                 new_string = new_string + word[letter]\n",
    "   \n",
    "                \n",
    "    \n",
    "        output.append(new_string)\n",
    "    print output\n",
    "         \n",
    "            \n"
   ]
  },
  {
   "cell_type": "code",
   "execution_count": 52,
   "metadata": {},
   "outputs": [
    {
     "name": "stdout",
     "output_type": "stream",
     "text": [
      "['Hello', 'HelloAlaska', 'HelloAlaskaDad', 'HelloAlaskaDadPeae']\n"
     ]
    }
   ],
   "source": [
    "findWords([\"Hello\", \"Alaska\", \"Dad\", \"Peace\"])"
   ]
  }
 ],
 "metadata": {
  "kernelspec": {
   "display_name": "Python 2",
   "language": "python",
   "name": "python2"
  },
  "language_info": {
   "codemirror_mode": {
    "name": "ipython",
    "version": 2
   },
   "file_extension": ".py",
   "mimetype": "text/x-python",
   "name": "python",
   "nbconvert_exporter": "python",
   "pygments_lexer": "ipython2",
   "version": "2.7.14"
  }
 },
 "nbformat": 4,
 "nbformat_minor": 2
}
