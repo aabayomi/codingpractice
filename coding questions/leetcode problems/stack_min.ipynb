{
 "cells": [
  {
   "cell_type": "code",
   "execution_count": 10,
   "metadata": {},
   "outputs": [],
   "source": [
    "class minStack:\n",
    "    def __init__(self):\n",
    "        self.stack =[]\n",
    "        self.minStack =[]\n",
    "        \n",
    "    def push(self,item):\n",
    "        self.stack.append(item)\n",
    "        if not self.minStack:\n",
    "            self.minStack.append(item)\n",
    "        else:\n",
    "            if self.minStack[-1] >= item:\n",
    "                self.minStack.append(item)\n",
    "    def pop(self):\n",
    "        if self.stack:\n",
    "            if self.stack[-1] == self.minStack[-1]:\n",
    "                self.minStack.pop()\n",
    "        self.stack.pop()\n",
    "        \n",
    "    def getMin(self):\n",
    "        if self.minStack:\n",
    "            return self.minStack[-1]\n",
    "        \n",
    "    def top(self):\n",
    "        if self.stack:\n",
    "            return self.stack[-1]"
   ]
  },
  {
   "cell_type": "code",
   "execution_count": 8,
   "metadata": {},
   "outputs": [
    {
     "name": "stdout",
     "output_type": "stream",
     "text": [
      "3\n",
      "1\n"
     ]
    }
   ],
   "source": [
    "minStack = MinStack()\n",
    "minStack.push(4)\n",
    "minStack.push(5)\n",
    "minStack.push(1)\n",
    "minStack.push(3)\n",
    "print minStack.top()\n",
    "print minStack.getMin()\n",
    "print minStack\n",
    "# minStack.pop()\n",
    "# minStack.pop()"
   ]
  }
 ],
 "metadata": {
  "kernelspec": {
   "display_name": "Python 2",
   "language": "python",
   "name": "python2"
  },
  "language_info": {
   "codemirror_mode": {
    "name": "ipython",
    "version": 2
   },
   "file_extension": ".py",
   "mimetype": "text/x-python",
   "name": "python",
   "nbconvert_exporter": "python",
   "pygments_lexer": "ipython2",
   "version": "2.7.14"
  }
 },
 "nbformat": 4,
 "nbformat_minor": 2
}
