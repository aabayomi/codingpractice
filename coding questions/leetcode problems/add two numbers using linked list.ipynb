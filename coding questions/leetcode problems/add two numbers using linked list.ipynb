{
 "cells": [
  {
   "cell_type": "code",
   "execution_count": 4,
   "metadata": {},
   "outputs": [],
   "source": [
    "# Definition for singly-linked list.  \n",
    "class ListNode(object):\n",
    "    def __init__(self, x):\n",
    "        self.val = x\n",
    "        self.next = None\n",
    "        \n",
    "    def myPrint(self):\n",
    "        print self.val\n",
    "        if self.next:\n",
    "            print self.next.myPrint()\n",
    "            \n",
    "\n",
    "def addTwoNumbers(self, l1, l2):\n",
    "    result = ListNode(0)\n",
    "    current = result\n",
    "    while l1 or l2:\n",
    "        current.val += self.addTwoNodes(self,l1,l2)\n",
    "        if current.val >= 10:\n",
    "            current.val -=10\n",
    "            current.next = ListNode(1)\n",
    "        else:\n",
    "            if l1 and l1.next or l2 and l2.next:\n",
    "                current.next=ListNode(0)\n",
    "        current = current.next\n",
    "        if l1:\n",
    "            l1 = l1.next\n",
    "        if l2:\n",
    "            l2 = l2.next\n",
    "    return result \n",
    "        \n",
    "        "
   ]
  }
 ],
 "metadata": {
  "kernelspec": {
   "display_name": "Python 2",
   "language": "python",
   "name": "python2"
  },
  "language_info": {
   "codemirror_mode": {
    "name": "ipython",
    "version": 2
   },
   "file_extension": ".py",
   "mimetype": "text/x-python",
   "name": "python",
   "nbconvert_exporter": "python",
   "pygments_lexer": "ipython2",
   "version": "2.7.14"
  }
 },
 "nbformat": 4,
 "nbformat_minor": 2
}
