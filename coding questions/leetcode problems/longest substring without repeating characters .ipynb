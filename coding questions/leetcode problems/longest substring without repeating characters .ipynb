{
 "cells": [
  {
   "cell_type": "code",
   "execution_count": 4,
   "metadata": {},
   "outputs": [],
   "source": [
    "def lengthofLongestSub(s):\n",
    "    if not s:\n",
    "        return 0\n",
    "    if len(s)<=1:\n",
    "        return len(s)\n",
    "    locations = [-1 for i in range(256)] # creating an array of -1`s in a size of ASCII values as a lookup f\n",
    "    index = -1\n",
    "    count = 0\n",
    "    \n",
    "    for i,x in enumerate(s):\n",
    "        if (locations[ord(x)]> index):\n",
    "            index = locations[ord(x)]\n",
    "        count = max(count,i-index)\n",
    "        locations[ord(x)] = i\n",
    "    return count\n",
    "    "
   ]
  },
  {
   "cell_type": "code",
   "execution_count": 6,
   "metadata": {},
   "outputs": [
    {
     "data": {
      "text/plain": [
       "3"
      ]
     },
     "execution_count": 6,
     "metadata": {},
     "output_type": "execute_result"
    }
   ],
   "source": [
    "lengthofLongestSub(\"pwwkew\")"
   ]
  }
 ],
 "metadata": {
  "kernelspec": {
   "display_name": "Python 2",
   "language": "python",
   "name": "python2"
  },
  "language_info": {
   "codemirror_mode": {
    "name": "ipython",
    "version": 2
   },
   "file_extension": ".py",
   "mimetype": "text/x-python",
   "name": "python",
   "nbconvert_exporter": "python",
   "pygments_lexer": "ipython2",
   "version": "2.7.14"
  }
 },
 "nbformat": 4,
 "nbformat_minor": 2
}
