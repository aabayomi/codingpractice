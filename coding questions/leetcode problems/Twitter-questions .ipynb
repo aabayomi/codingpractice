{
 "cells": [
  {
   "cell_type": "code",
   "execution_count": null,
   "metadata": {
    "collapsed": true
   },
   "outputs": [],
   "source": [
    "def missingWord(s,t):\n",
    "    s = s.split()\n",
    "    print s\n",
    "    t = t.split()\n",
    "    print t\n",
    "    for word in t:\n",
    "        if word in s:\n",
    "            s.remove(word)\n",
    "        else:\n",
    "            pass\n",
    "    return s\n",
    "   \n",
    "                \n",
    "    "
   ]
  },
  {
   "cell_type": "code",
   "execution_count": null,
   "metadata": {
    "collapsed": true
   },
   "outputs": [],
   "source": [
    "# print missingWord(\"I am using HackerRank to improve programming\",\"am HackerRank to improve\")\n",
    "print missingWord(\"I    On  like cheese\",\"I , cheese\")"
   ]
  },
  {
   "cell_type": "code",
   "execution_count": null,
   "metadata": {
    "collapsed": true
   },
   "outputs": [],
   "source": [
    "def electionWinner(votes):\n",
    "    voteDict = {}\n",
    "    maxcand = []\n",
    "    for vote in votes:\n",
    "        voteDict[vote] = voteDict.get(vote,0) + 1\n",
    "    name = dict.keys(voteDict)\n",
    "    nameval = dict.values(voteDict)\n",
    "    maxvote = max(nameval)\n",
    "    \n",
    "    for vote in voteDict:\n",
    "        if voteDict[vote] == maxvote:\n",
    "            if len(maxcand) == 0:\n",
    "                maxcand.append(vote)\n",
    "            else:\n",
    "                if vote > maxcand[0]:\n",
    "                    maxcand.insert(0, vote)\n",
    "                else:\n",
    "                    maxcand.append(vote)\n",
    "                    \n",
    "    return maxcand[0]\n",
    "            \n"
   ]
  },
  {
   "cell_type": "markdown",
   "metadata": {},
   "source": [
    "Simple Text Queries "
   ]
  },
  {
   "cell_type": "code",
   "execution_count": null,
   "metadata": {
    "collapsed": true
   },
   "outputs": [],
   "source": [
    "from collections import defaultdict\n",
    "\n",
    "def textQueries(sentences,queries):\n",
    "    wordDict= {}\n",
    "    d=defaultdict(list)\n",
    "    vlist = []\n",
    "    for i , sent in enumerate(sentences):\n",
    "        wordDict[sent]= i\n",
    "    print wordDict\n",
    "        \n",
    "    \n",
    "    for word in sentences:\n",
    "        newWord = word.split()\n",
    "        vlist.append(newWord)\n",
    "    print vlist\n",
    "    \n",
    "    queryList = []\n",
    "    for query in queries:\n",
    "        new = query.split()\n",
    "        queryList.append(new)\n",
    "    print queryList\n",
    "        \n",
    "    indexList = []\n",
    "    \n",
    "    for i , items in enumerate (vlist):\n",
    "        for ele in items:\n",
    "            d[ele].append(i)\n",
    "        lookup = dict(d)\n",
    "    print lookup\n",
    "    print \n",
    "    \n",
    "    mini = []\n",
    "    for i in range(len (queryList)):\n",
    "        print queryList[i]\n",
    "        for j in range(len(queryList[i])):\n",
    "            if queryList[i][j] in lookup:\n",
    "#                 mini.append(lookup.get(queryList[i][j]))\n",
    "                mini = lookup.get(queryList[i][j])\n",
    "                mini.append(lookup.get(queryList[i][j]))\n",
    "            print mini\n",
    "                \n",
    "    indexList.append(mini)\n",
    "#                 print items[i]\n",
    "#                 print lookup.get(items[i])\n",
    "            \n",
    "    print indexList\n"
   ]
  },
  {
   "cell_type": "code",
   "execution_count": null,
   "metadata": {},
   "outputs": [],
   "source": [
    "sentences = [\"how it was done\",\"are you how\",\"it goes to\",\"goes done are it\"]\n",
    "queries = [\"done it\",\"it\"]\n",
    "\n",
    "print textQueries(sentences,queries)\n"
   ]
  },
  {
   "cell_type": "code",
   "execution_count": null,
   "metadata": {
    "collapsed": true
   },
   "outputs": [],
   "source": [
    "def two(newString):\n",
    "    temp =''\n",
    "    i= 0\n",
    "    while len(temp)<2:\n",
    "        temp = temp + newString[i]\n",
    "        newString.pop(i)\n",
    "#         print newString,temp\n",
    "    return temp\n",
    "\n",
    "def three(newString):\n",
    "    temp =''\n",
    "    i= 0\n",
    "    while len(temp)<3:\n",
    "        temp = temp + newString[i]\n",
    "        newString.pop(i)\n",
    "#         print newString,temp\n",
    "    return temp\n",
    "\n",
    "\n",
    "#     print newString\n",
    "\n",
    "def decode(astring):\n",
    "    asciiDict={}\n",
    "    lookup ='abcdefghijklmnopqrustvwxyzABCDEFGHIJKLMNOPQRSTUVWXYZ '\n",
    "    for char in lookup:\n",
    "        asciiDict[char] = ord(char)  \n",
    "#     print asciiDict\n",
    "    \n",
    "    newString =[]\n",
    "    \n",
    "    for char in astring[::-1]:\n",
    "        newString.append(char)\n",
    "    value = \"\".join(newString)   \n",
    "    \n",
    "    sentence = []\n",
    "    while newString !=[]:\n",
    "        temp = two(newString)\n",
    "        if int(temp) in asciiDict.values():\n",
    "            tempIndex = asciiDict.values().index(int(temp))\n",
    "            tempKey = asciiDict.keys()[tempIndex]\n",
    "            sentence.append(tempKey)\n",
    "        else:\n",
    "            for i in temp[::-1]:\n",
    "                newString.insert(0,i)\n",
    "            temp = three(newString)\n",
    "            if int(temp) in asciiDict.values():\n",
    "                tempIndex = asciiDict.values().index(int(temp))\n",
    "                tempKey = asciiDict.keys()[tempIndex]\n",
    "                sentence.append(tempKey)\n",
    "            else:\n",
    "                pass\n",
    "    return \"\".join(sentence)\n",
    "        \n",
    "\n",
    "\n"
   ]
  },
  {
   "cell_type": "code",
   "execution_count": null,
   "metadata": {},
   "outputs": [],
   "source": [
    "#decode(\"729799107101114328297110107\")\n",
    "decode(\"701011792823411101701997927\")\n",
    "decode(\"23511011501782351112179911801562340161171141148\")\n",
    "decode(\"1219950180111108236115111016623101401611235115012312161151110101111127\")\n",
    "# decode(\"701015\")"
   ]
  },
  {
   "cell_type": "code",
   "execution_count": null,
   "metadata": {
    "collapsed": true
   },
   "outputs": [],
   "source": [
    "def shortestToChar(S, C ):    ### solution gotten from. leetcode \n",
    "    prev = float(\"-inf\")\n",
    "    ans =[]\n",
    "    for i ,x in enumerate(S):\n",
    "        if x == C:\n",
    "            prev = i\n",
    "        ans.append(i-prev)\n",
    "    print \"first pass\",ans\n",
    "    prev = float(\"inf\")\n",
    "    for i in range(len(S)-1,-1,-1):\n",
    "        if S[i]==C:\n",
    "            prev = i\n",
    "        ans[i] = min(ans[i],prev - i)\n",
    "    return ans"
   ]
  },
  {
   "cell_type": "code",
   "execution_count": null,
   "metadata": {
    "collapsed": true
   },
   "outputs": [],
   "source": [
    "print shortestToChar(\"loveleetcode\",'e')\n",
    "print shortestToChar(\"babab\",'b')\n",
    "print shortestToChar(\"hackerrank\",'e')\n",
    "print shortestToChar(\"hackerrank\",'a')"
   ]
  },
  {
   "cell_type": "code",
   "execution_count": null,
   "metadata": {
    "collapsed": true
   },
   "outputs": [],
   "source": [
    "def closest(word,query):\n",
    "    \n",
    "    if query < 0 and abs(query) > len(word):\n",
    "        raise ValueError(\"OutofIndex\")\n",
    "    elif query > 0 and query > len(word)-1:\n",
    "        raise ValueError(\"OutofIndex\")\n",
    "    \n",
    "    if query < 0:\n",
    "        newquery = len(word) + query\n",
    "        word = list(word)\n",
    "        lookup= {}\n",
    "        for i , x in enumerate (word):\n",
    "            lookup[i]= ord(x)\n",
    "\n",
    "        same = []\n",
    "        rval = ''\n",
    "        for key,value in lookup.items():\n",
    "            if int(key) == int(newquery):\n",
    "                rval= str(value)\n",
    "        for keys,value in lookup.items():\n",
    "            if int(value) == int(rval):\n",
    "                same.append(keys)\n",
    "\n",
    "        diff = []\n",
    "        idDict = {}\n",
    "        if len(same) ==1:\n",
    "            return -1\n",
    "        elif len(same) == 2:\n",
    "            for ele in same:\n",
    "                if ele == newquery:\n",
    "                    same.remove(ele)\n",
    "            return same[0]\n",
    "        else:\n",
    "            for i in same:\n",
    "                diff.append(abs(i-newquery))\n",
    "            for x,y in zip(same,diff):\n",
    "                idDict[x] = y\n",
    "            for keys,value in idDict.items():\n",
    "                if value == 0:\n",
    "                    del idDict[keys]\n",
    "            return min(idDict,key=idDict.get)\n",
    "    \n",
    "    else:\n",
    "        word = list(word)\n",
    "        lookup= {}\n",
    "        for i , x in enumerate (word):\n",
    "            lookup[i]= ord(x)\n",
    "\n",
    "        same = []\n",
    "        rval = ''\n",
    "        for key,value in lookup.items():\n",
    "            if int(key) == int(query):\n",
    "                rval= str(value)\n",
    "        for keys,value in lookup.items():\n",
    "            if int(value) == int(rval):\n",
    "                same.append(keys)\n",
    "\n",
    "        diff = []\n",
    "        idDict = {}\n",
    "        if len(same) ==1:\n",
    "            return -1\n",
    "        elif len(same) == 2:\n",
    "            for ele in same:\n",
    "                if ele == query:\n",
    "                    same.remove(ele)\n",
    "            return same[0]\n",
    "        else:\n",
    "            for i in same:\n",
    "                diff.append(abs(i-query))\n",
    "            for x,y in zip(same,diff):\n",
    "                idDict[x] = y\n",
    "            for keys,value in idDict.items():\n",
    "                if value == 0:\n",
    "                    del idDict[keys]\n",
    "            return min(idDict,key=idDict.get)\n",
    "\n",
    "        "
   ]
  },
  {
   "cell_type": "code",
   "execution_count": null,
   "metadata": {},
   "outputs": [],
   "source": [
    "print closest(\"babab\",2)\n",
    "print closest(\"hackerrank\",4)\n",
    "print closest(\"hackerrank\",-6)\n",
    "# print closest(\"hackerrank\",-20)\n",
    "print closest(\"hackerrank\",4)\n",
    "print closest(\"hackerrank\",1)\n",
    "print closest(\"hackerrank\",6)\n",
    "print closest(\"hackerrank\",8)\n",
    "print closest(\"sam\",1)\n",
    "print closest(\"sam\",1)\n"
   ]
  },
  {
   "cell_type": "code",
   "execution_count": null,
   "metadata": {
    "collapsed": true
   },
   "outputs": [],
   "source": [
    "min ([2,-1])\n",
    "d = {0: -2, 3: -5, 5: -3}\n",
    "print min(d, key=d.get)"
   ]
  },
  {
   "cell_type": "markdown",
   "metadata": {
    "collapsed": true
   },
   "source": [
    "No Pairs Allowed"
   ]
  },
  {
   "cell_type": "code",
   "execution_count": null,
   "metadata": {
    "collapsed": true
   },
   "outputs": [],
   "source": [
    "def minimalOperations(words):\n",
    "    \n",
    "    for word in words:\n",
    "        \n",
    "#         for i , items in enumerate (vlist):\n",
    "#             for ele in items:\n",
    "#                 d[ele].append(i)\n",
    "#             lookup = dict(d)\n",
    "#         print lookup\n",
    "#         print \n",
    "    "
   ]
  },
  {
   "cell_type": "code",
   "execution_count": null,
   "metadata": {},
   "outputs": [],
   "source": [
    "minimalOperations([\"add\",\"boook\",\"break\"])"
   ]
  },
  {
   "cell_type": "markdown",
   "metadata": {},
   "source": [
    "Huffam Decoder "
   ]
  },
  {
   "cell_type": "code",
   "execution_count": 5,
   "metadata": {
    "collapsed": true
   },
   "outputs": [],
   "source": [
    "def findMax(codeDict):\n",
    "    length =[]\n",
    "    for values in codeDict.values():\n",
    "        length.append(len(values))\n",
    "    \n",
    "    maximum = max(length)\n",
    "    minimum = min(length)\n",
    "    return [maximum,minimum]\n",
    "\n",
    "\n",
    "def decoder(code,encode):\n",
    "    codeDict = {}\n",
    "    for item in code:\n",
    "        item = item.split(\" \")\n",
    "        if len(item)== 2:\n",
    "            if item[0] == '[newline]':\n",
    "                item[0] = \"\\n\"\n",
    "                codeDict[item[0]] = item[1]\n",
    "            else:\n",
    "                codeDict[item[0]] = item[1]\n",
    "        else:\n",
    "            pass   \n",
    "#     print codeDict\n",
    "    rangeList = findMax(codeDict)\n",
    "    maximum = rangeList[0]\n",
    "    minimum = rangeList[1]\n",
    "#     print maximum\n",
    "#     print minimum\n",
    "    if minimum == maximum:\n",
    "        i= minimum\n",
    "        j= 0\n",
    "        word = \"\"\n",
    "        while i <= len(encode):\n",
    "            value = encode[j:i]\n",
    "#             print value\n",
    "            for keys,values in codeDict.items():\n",
    "                if value == values:\n",
    "#                     word.append(keys)\n",
    "                    word = word + keys\n",
    "                    \n",
    "            j= i\n",
    "            i+=minimum\n",
    "    else:\n",
    "        pass\n",
    "    \n",
    "    print word\n",
    "    \n",
    "    \n",
    "    "
   ]
  },
  {
   "cell_type": "code",
   "execution_count": 6,
   "metadata": {},
   "outputs": [
    {
     "name": "stdout",
     "output_type": "stream",
     "text": [
      "pqa\n",
      "bcp\n"
     ]
    }
   ],
   "source": [
    "code = ('a 100100','b 100101','c 110001','d 100000','[newline] 111111','p 111110','q 000001')\n",
    "encode = \"111110000001100100111111100101110001111110\"\n",
    "# code1 = ('a 100100','b 100101','[newline] 111111')\n",
    "# encode1 = \"100100111111100101\"\n",
    "decoder(code,encode)"
   ]
  },
  {
   "cell_type": "code",
   "execution_count": null,
   "metadata": {},
   "outputs": [],
   "source": [
    "code1 = ('a 100100','b 100101','[newline] 111111')\n",
    "code = ('a 100100','b 100101','c 110001','d 100000','[newline] 111111','p 111110','q 000001')\n",
    "\n",
    "codeDict = {}\n",
    "\n",
    "for item in code:\n",
    "    item = item.split(\" \")\n",
    "    if len(item)== 2:\n",
    "        if item[0] == '[newline]':\n",
    "            item[0] = \"\\n\"\n",
    "            codeDict[item[0]] = item[1]\n",
    "        else:\n",
    "            codeDict[item[0]] = item[1]\n",
    "    else:\n",
    "        pass   \n",
    "    rangeList = findMax(codeDict)\n",
    "\n"
   ]
  },
  {
   "cell_type": "code",
   "execution_count": null,
   "metadata": {
    "collapsed": true
   },
   "outputs": [],
   "source": [
    "def findMax(codeDict):\n",
    "    length =[]\n",
    "    for values in codeDict.values():\n",
    "        length.append(len(values))\n",
    "    \n",
    "    maximum = max(length)\n",
    "    minimum = min(length)\n",
    "    return [maximum,minimum]\n",
    "        "
   ]
  },
  {
   "cell_type": "code",
   "execution_count": null,
   "metadata": {},
   "outputs": [],
   "source": [
    "codeDict = {'a': '100100', 'b': '100100', '[newline]': '111111'}\n",
    "findMax(codeDict)"
   ]
  },
  {
   "cell_type": "code",
   "execution_count": null,
   "metadata": {},
   "outputs": [],
   "source": [
    "encoded =\"100100111111100101\"\n",
    "look = encoded[:6]\n",
    "print look\n",
    "new = list(encoded)\n",
    "new.pop(new[0:6])\n",
    "print encoded\n",
    "# encod = encoded.strip(encoded[:6])\n",
    "# print encod"
   ]
  },
  {
   "cell_type": "code",
   "execution_count": null,
   "metadata": {},
   "outputs": [],
   "source": [
    "# codeDict = {'a': '100100', 'b': '100101', '\\n': '111111'}\n",
    "# codeDict = {'a': '100100', 'c': '110001', 'b': '100101', 'd': '100000', '\\n': '111111', 'q': '000001', 'p': '111110'}# encoded =\"100100111111100101\"\n",
    "# encoded =\"111110000001100100111111100101110001111110\"\n",
    "\n",
    "\n",
    "# def finder(encoded,codeDict,maximum,minimum):\n",
    "#     i= minimum\n",
    "#     j= 0\n",
    "#     word = \"\"\n",
    "#     while i <= len(encoded):\n",
    "#         value = encoded[j:i]\n",
    "#         print value\n",
    "#         for keys,values in codeDict.items():\n",
    "#             if value == values:\n",
    "#                 word = word + keys\n",
    "#             else:\n",
    "# #                 finder(encoded,codeDict,maximum,minimum+)\n",
    "                \n",
    "\n",
    "#         j= i\n",
    "#         i+=6\n",
    "\n",
    "#     print word\n",
    "\n",
    "def checkString(newString,minimum):\n",
    "    temp =''\n",
    "    i= 0\n",
    "    while len(temp)<minimum:\n",
    "        temp = temp + newString[i]\n",
    "        newString.pop(i)\n",
    "#         print newString,temp\n",
    "    return temp\n",
    "\n",
    "\n",
    "def finder(encoded,codeDict,minimum,maximum):\n",
    "    word = []\n",
    "    newString = list(encoded)\n",
    "    while newString !=[] and minimum <= maximum:\n",
    "        temp = checkString(newString,minimum)\n",
    "        if temp in codeDict.values():\n",
    "            tempIndex = codeDict.values().index(temp)\n",
    "            tempKey = codeDict.keys()[tempIndex]\n",
    "            word.append(tempKey)\n",
    "        else:\n",
    "            \n",
    "            finder(encoded,codeDict,minimum,maximum)\n",
    "    \n",
    "    print \"\".join(word)\n",
    "            \n",
    "        \n",
    "\n",
    "        \n",
    "\n",
    "\n",
    "            \n",
    "    "
   ]
  },
  {
   "cell_type": "code",
   "execution_count": null,
   "metadata": {},
   "outputs": [],
   "source": [
    "maximum = 9\n",
    "minimum = 6\n",
    "codeDict = {'a': '10010011', 'c': '110001', 'b': '100101222', 'd': '100000', '\\n': '111111', 'q': '000001', 'p': '111110'}\n",
    "encoded =\"10010011110001100101222100000\"\n",
    "finder(encoded,codeDict,minimum,maximum)\n",
    "\n",
    "# codeDict = {'a': '100100', 'c': '110001', 'b': '100101', 'd': '100000', '\\n': '111111', 'q': '000001', 'p': '111110'}# encoded =\"100100111111100101\"\n",
    "# encoded =\"111110000001100100111111100101110001111110\"\n",
    "#finder(encoded,codeDict,minimum,maximum)"
   ]
  },
  {
   "cell_type": "code",
   "execution_count": 34,
   "metadata": {
    "collapsed": true
   },
   "outputs": [],
   "source": [
    "def findMax(codeDict):\n",
    "    length =[]\n",
    "    for values in codeDict.values():\n",
    "        length.append(len(values))\n",
    "    \n",
    "    maximum = max(length)\n",
    "    minimum = min(length)\n",
    "    return [maximum,minimum]\n",
    "\n",
    "def decoder(code,encode):\n",
    "    codeDict = {}\n",
    "    for item in code:\n",
    "        item = item.split(\" \")\n",
    "        if len(item)== 2:\n",
    "            if item[0] == '[newline]':\n",
    "                item[0] = \"\\\\n\"\n",
    "                codeDict[item[0]] = item[1]\n",
    "            else:\n",
    "                codeDict[item[0]] = item[1]\n",
    "        else:\n",
    "            pass   \n",
    "\n",
    "    word = ''\n",
    "    \n",
    "    for i in range(len(encode)):\n",
    "        start = 0\n",
    "        while encode[start:i] not in codeDict.values():\n",
    "            i +=6\n",
    "        temp = codeDict.values().index(encode[start:i])\n",
    "        word = word + temp\n",
    "#         word.append(codeDict.keys()[temp])\n",
    "        start = i\n",
    "    \n",
    "#     new = \"\".join(word)\n",
    "    print word \n",
    "        \n",
    "    \n"
   ]
  },
  {
   "cell_type": "code",
   "execution_count": 33,
   "metadata": {},
   "outputs": [
    {
     "name": "stdout",
     "output_type": "stream",
     "text": [
      "['a', '\\n', 'b', 'c', 'd']\n"
     ]
    },
    {
     "data": {
      "text/plain": [
       "'a\\nbcd'"
      ]
     },
     "execution_count": 33,
     "metadata": {},
     "output_type": "execute_result"
    }
   ],
   "source": [
    "# code = ('a 100100','b 100101','c 110001','d 100000','[newline] 111111','p 111110','q 000001')\n",
    "# encode = \"111110000001100100111111100101110001111110\"\n",
    "# code1 = ('a 100100','b 100101','[newline] 111111')\n",
    "# encode1 = \"100100111111100101\"\n",
    "\n",
    "code1 = ('a 100100','b 100101','c 110001','d 100000','[newline] 111111')\n",
    "encode1 = '100100111111100101110001100000'\n",
    "decode(code1,encode1)"
   ]
  }
 ],
 "metadata": {
  "kernelspec": {
   "display_name": "Python 2",
   "language": "python",
   "name": "python2"
  },
  "language_info": {
   "codemirror_mode": {
    "name": "ipython",
    "version": 2
   },
   "file_extension": ".py",
   "mimetype": "text/x-python",
   "name": "python",
   "nbconvert_exporter": "python",
   "pygments_lexer": "ipython2",
   "version": "2.7.14"
  }
 },
 "nbformat": 4,
 "nbformat_minor": 2
}
