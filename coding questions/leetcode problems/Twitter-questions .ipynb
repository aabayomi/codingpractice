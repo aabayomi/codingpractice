{
 "cells": [
  {
   "cell_type": "code",
   "execution_count": null,
   "metadata": {
    "collapsed": true
   },
   "outputs": [],
   "source": [
    "def missingWord(s,t):\n",
    "    s = s.split()\n",
    "    print s\n",
    "    t = t.split()\n",
    "    print t\n",
    "    for word in t:\n",
    "        if word in s:\n",
    "            s.remove(word)\n",
    "        else:\n",
    "            pass\n",
    "    return s\n",
    "   \n",
    "                \n",
    "    "
   ]
  },
  {
   "cell_type": "code",
   "execution_count": null,
   "metadata": {},
   "outputs": [],
   "source": [
    "# print missingWord(\"I am using HackerRank to improve programming\",\"am HackerRank to improve\")\n",
    "print missingWord(\"I    On  like cheese\",\"I , cheese\")"
   ]
  },
  {
   "cell_type": "code",
   "execution_count": null,
   "metadata": {
    "collapsed": true
   },
   "outputs": [],
   "source": [
    "def electionWinner(votes):\n",
    "    voteDict = {}\n",
    "    maxcand = []\n",
    "    for vote in votes:\n",
    "        voteDict[vote] = voteDict.get(vote,0) + 1\n",
    "    name = dict.keys(voteDict)\n",
    "    nameval = dict.values(voteDict)\n",
    "    maxvote = max(nameval)\n",
    "    \n",
    "    for vote in voteDict:\n",
    "        if voteDict[vote] == maxvote:\n",
    "            if len(maxcand) == 0:\n",
    "                maxcand.append(vote)\n",
    "            else:\n",
    "                if vote > maxcand[0]:\n",
    "                    maxcand.insert(0, vote)\n",
    "                else:\n",
    "                    maxcand.append(vote)\n",
    "                    \n",
    "    return maxcand[0]\n",
    "            \n"
   ]
  },
  {
   "cell_type": "code",
   "execution_count": 1,
   "metadata": {
    "collapsed": true
   },
   "outputs": [],
   "source": [
    "def BinaryTree(r):\n",
    "    return [r, [], []]\n",
    "\n",
    "def insertLeft(root,newBranch):\n",
    "    t = root.pop(1)\n",
    "    if len(t) > 1:\n",
    "        root.insert(1,[newBranch,t,[]])\n",
    "    else:\n",
    "        root.insert(1,[newBranch, [], []])\n",
    "    return root\n",
    "\n",
    "def insertRight(root,newBranch):\n",
    "    t = root.pop(2)\n",
    "    if len(t) > 1:\n",
    "        root.insert(2,[newBranch,[],t])\n",
    "    else:\n",
    "        root.insert(2,[newBranch,[],[]])\n",
    "    return root\n",
    "\n",
    "def getRootVal(root):\n",
    "    return root[0]\n",
    "\n",
    "def setRootVal(root,newVal):\n",
    "    root[0] = newVal\n",
    "\n",
    "def getLeftChild(root):\n",
    "    return root[1]\n",
    "\n",
    "def getRightChild(root):\n",
    "    return root[2]"
   ]
  },
  {
   "cell_type": "code",
   "execution_count": null,
   "metadata": {
    "collapsed": true
   },
   "outputs": [],
   "source": []
  },
  {
   "cell_type": "code",
   "execution_count": 22,
   "metadata": {},
   "outputs": [],
   "source": [
    "def textQueries(sentences,queries):\n",
    "    sentDict = {}\n",
    "    sentList = []\n",
    "    for i,sent in enumerate(sentences):\n",
    "        sentDict[sent] = i\n",
    "    print sentDict\n",
    "    \n",
    "#     for keys in \n",
    "    \n",
    "    \n",
    "    \n",
    "    newWordList = []\n",
    "    \n",
    "    for words in queries:\n",
    "        word = words.split()\n",
    "        miniList =[]\n",
    "        for i in word:\n",
    "            miniList.append(i)\n",
    "        newWordList.append(miniList)\n",
    "    print newWordList\n",
    "    \n",
    "    for i in newWordList:\n",
    "        for j in i:\n",
    "            if j in "
   ]
  },
  {
   "cell_type": "code",
   "execution_count": 23,
   "metadata": {},
   "outputs": [
    {
     "name": "stdout",
     "output_type": "stream",
     "text": [
      "{'it goes to': 2, 'how it was done': 0, 'are you how': 1, 'goes done are it': 3}\n",
      "[['done', 'it'], ['it']]\n",
      "None\n"
     ]
    }
   ],
   "source": [
    "sentences = [\"how it was done\",\"are you how\",\"it goes to\",\"goes done are it\"]\n",
    "queries = [\"done it\",\"it\"]\n",
    "\n",
    "print textQueries(sentences,queries)\n"
   ]
  },
  {
   "cell_type": "code",
   "execution_count": 27,
   "metadata": {},
   "outputs": [
    {
     "name": "stdout",
     "output_type": "stream",
     "text": [
      "{}\n",
      "\n",
      "{}\n",
      "\n",
      "[\"A:['B', 'C', 'E']\", \"C:['A', 'B', 'D', 'E']\", \"B:['A', 'C', 'D']\", \"E:['A', 'C']\", \"D:['B', 'C']\"]\n",
      "\n",
      "[[ 0.  1.  1.  0.  1.]\n",
      " [ 1.  0.  1.  1.  0.]\n",
      " [ 1.  1.  0.  1.  1.]\n",
      " [ 0.  1.  1.  0.  0.]\n",
      " [ 1.  0.  1.  0.  0.]]\n"
     ]
    }
   ],
   "source": [
    "class Vertex:\n",
    "    def __init__(self, vertex):\n",
    "        self.name = vertex\n",
    "        self.neighbors = []\n",
    "        \n",
    "    def add_neighbor(self, neighbor):\n",
    "        if isinstance(neighbor, Vertex):\n",
    "            if neighbor.name not in self.neighbors:\n",
    "                self.neighbors.append(neighbor.name)\n",
    "                neighbor.neighbors.append(self.name)\n",
    "                self.neighbors = sorted(self.neighbors)\n",
    "                neighbor.neighbors = sorted(neighbor.neighbors)\n",
    "        else:\n",
    "            return False\n",
    "        \n",
    "    def add_neighbors(self, neighbors):\n",
    "        for neighbor in neighbors:\n",
    "            if isinstance(neighbor, Vertex):\n",
    "                if neighbor.name not in self.neighbors:\n",
    "                    self.neighbors.append(neighbor.name)\n",
    "                    neighbor.neighbors.append(self.name)\n",
    "                    self.neighbors = sorted(self.neighbors)\n",
    "                    neighbor.neighbors = sorted(neighbor.neighbors)\n",
    "            else:\n",
    "                return False\n",
    "        \n",
    "    def __repr__(self):\n",
    "        return str(self.neighbors)\n",
    "\n",
    "class Graph:\n",
    "    def __init__(self):\n",
    "        self.vertices = {}\n",
    "    \n",
    "    def add_vertex(self, vertex):\n",
    "        if isinstance(vertex, Vertex):\n",
    "            self.vertices[vertex.name] = vertex.neighbors\n",
    "\n",
    "            \n",
    "    def add_vertices(self, vertices):\n",
    "        for vertex in vertices:\n",
    "            if isinstance(vertex, Vertex):\n",
    "                self.vertices[vertex.name] = vertex.neighbors\n",
    "            \n",
    "    def add_edge(self, vertex_from, vertex_to):\n",
    "        if isinstance(vertex_from, Vertex) and isinstance(vertex_to, Vertex):\n",
    "            vertex_from.add_neighbor(vertex_to)\n",
    "            if isinstance(vertex_from, Vertex) and isinstance(vertex_to, Vertex):\n",
    "                self.vertices[vertex_from.name] = vertex_from.neighbors\n",
    "                self.vertices[vertex_to.name] = vertex_to.neighbors\n",
    "                \n",
    "    def add_edges(self, edges):\n",
    "        for edge in edges:\n",
    "            self.add_edge(edge[0],edge[1])          \n",
    "    \n",
    "    def adjacencyList(self):\n",
    "        if len(self.vertices) >= 1:\n",
    "                return [str(key) + \":\" + str(self.vertices[key]) for key in self.vertices.keys()]  \n",
    "        else:\n",
    "            return dict()\n",
    "        \n",
    "    def adjacencyMatrix(self):\n",
    "        if len(self.vertices) >= 1:\n",
    "            self.vertex_names = sorted(g.vertices.keys())\n",
    "            self.vertex_indices = dict(zip(self.vertex_names, range(len(self.vertex_names)))) \n",
    "            import numpy as np\n",
    "            self.adjacency_matrix = np.zeros(shape=(len(self.vertices),len(self.vertices)))\n",
    "            for i in range(len(self.vertex_names)):\n",
    "                for j in range(i, len(self.vertices)):\n",
    "                    for el in g.vertices[self.vertex_names[i]]:\n",
    "                        j = g.vertex_indices[el]\n",
    "                        self.adjacency_matrix[i,j] = 1\n",
    "            return self.adjacency_matrix\n",
    "        else:\n",
    "            return dict()              \n",
    "                        \n",
    "def graph(g):\n",
    "    \"\"\" Function to print a graph as adjacency list and adjacency matrix. \"\"\"\n",
    "    return str(g.adjacencyList()) + '\\n' + '\\n' + str(g.adjacencyMatrix())\n",
    "\n",
    "###################################################################################\n",
    "\n",
    "a = Vertex('A')\n",
    "b = Vertex('B')\n",
    "c = Vertex('C')\n",
    "d = Vertex('D')\n",
    "e = Vertex('E')\n",
    "\n",
    "a.add_neighbors([b,c,e]) \n",
    "b.add_neighbors([a,c])\n",
    "c.add_neighbors([b,d,a,e])\n",
    "d.add_neighbor(c)\n",
    "e.add_neighbors([a,c])\n",
    "        \n",
    "g = Graph()\n",
    "print graph(g)\n",
    "print \n",
    "g.add_vertices([a,b,c,d,e])\n",
    "g.add_edge(b,d)\n",
    "print graph(g)"
   ]
  },
  {
   "cell_type": "code",
   "execution_count": 26,
   "metadata": {},
   "outputs": [
    {
     "name": "stdout",
     "output_type": "stream",
     "text": [
      "{1: {8: 1, 2: 1}, 2: {}, 3: {5: 1}, 4: {8: 1}, 5: {8: 1}, 6: {9: 1, 7: 1}, 7: {}, 8: {9: 1, 10: 1}, 9: {}, 10: {}}\n"
     ]
    }
   ],
   "source": [
    "g = Graph()\n",
    "g.connect(6,9)\n",
    "g.connect(8,9)\n",
    "g.connect(3,5)\n",
    "g.connect(6,7)\n",
    "g.connect(4,8)\n",
    "g.connect(1,8)\n",
    "g.connect(8,10)\n",
    "g.connect(5,8)\n",
    "g.connect(1,2)\n",
    " \n",
    "g.paint()\n",
    "\n",
    "\n",
    "a = Vertex('A')\n",
    "b = Vertex('B')\n",
    "c = Vertex('C')\n",
    "d = Vertex('D')\n",
    "e = Vertex('E')\n",
    "\n",
    "a.add_neighbors([b,c,e]) \n",
    "b.add_neighbors([a,c])\n",
    "c.add_neighbors([b,d,a,e])\n",
    "d.add_neighbor(c)\n",
    "e.add_neighbors([a,c])\n",
    "        \n",
    "g = Graph()\n",
    "print graph(g)\n",
    "print \n",
    "g.add_vertices([a,b,c,d,e])\n",
    "g.add_edge(b,d)\n",
    "print graph(g)"
   ]
  }
 ],
 "metadata": {
  "kernelspec": {
   "display_name": "Python 2",
   "language": "python",
   "name": "python2"
  },
  "language_info": {
   "codemirror_mode": {
    "name": "ipython",
    "version": 2
   },
   "file_extension": ".py",
   "mimetype": "text/x-python",
   "name": "python",
   "nbconvert_exporter": "python",
   "pygments_lexer": "ipython2",
   "version": "2.7.14"
  }
 },
 "nbformat": 4,
 "nbformat_minor": 2
}
