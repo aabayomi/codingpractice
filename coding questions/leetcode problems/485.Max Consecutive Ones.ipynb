{
 "cells": [
  {
   "cell_type": "markdown",
   "metadata": {},
   "source": [
    "Given a binary array, find the maximum number of consecutive 1s in this array.\n",
    "\n",
    "Example 1:\n",
    "Input: [1,1,0,1,1,1]\n",
    "Output: 3\n",
    "Explanation: The first two digits or the last three digits are consecutive 1s.\n",
    "    The maximum number of consecutive 1s is 3.\n",
    "Note:\n",
    "\n",
    "The input array will only contain 0 and 1.\n",
    "The length of input array is a positive integer and will not exceed 10,000\n"
   ]
  },
  {
   "cell_type": "code",
   "execution_count": 100,
   "metadata": {},
   "outputs": [],
   "source": [
    "def findMaxConsecutiveOnes(nums):\n",
    "    S = ''\n",
    "    county = 0\n",
    "    for ele in nums:\n",
    "        if ele == 1:\n",
    "            S = S + str(ele)\n",
    "            length = len(S)\n",
    "            count= length\n",
    "        else:\n",
    "            S = ''\n",
    "        county = max(county,count)\n",
    "    return county\n",
    "\n",
    "def findMaxConsecutiveOnes1(nums):  # not effiecent \n",
    "    \n",
    "    i = 0\n",
    "    S = ''\n",
    "    count =0\n",
    "    while i < len(nums):\n",
    "        if nums[i] == 1:\n",
    "            S = S + str(nums[i])\n",
    "            length = len(S)\n",
    "            count = max(count,length)\n",
    "        else:\n",
    "            S = ''\n",
    "        i+=1\n",
    "    return count \n",
    "        \n",
    "\n",
    "def findMaxConsecutiveOnes2(nums):   \n",
    "    \n",
    "    return max([len(i) for i in bytearray(nums).split(\"\\x00\")])"
   ]
  },
  {
   "cell_type": "code",
   "execution_count": 101,
   "metadata": {},
   "outputs": [
    {
     "data": {
      "text/plain": [
       "5"
      ]
     },
     "execution_count": 101,
     "metadata": {},
     "output_type": "execute_result"
    }
   ],
   "source": [
    "findMaxConsecutiveOnes1([1,1,1,1,0,0,1,1,1,1,1,0,1])"
   ]
  },
  {
   "cell_type": "code",
   "execution_count": 103,
   "metadata": {},
   "outputs": [
    {
     "name": "stdout",
     "output_type": "stream",
     "text": [
      "[bytearray(b'\\x01\\x01\\x01\\x01'), bytearray(b''), bytearray(b'\\x01\\x01\\x01\\x01\\x01'), bytearray(b'\\x01')]\n"
     ]
    }
   ],
   "source": [
    "num = [1,1,1,1,0,0,1,1,1,1,1,0,1]\n",
    "\n",
    "S = bytearray(num).split(\"\\x00\")\n",
    "\n",
    "print  S\n",
    "# for i in num:\n",
    "#     s = "
   ]
  }
 ],
 "metadata": {
  "kernelspec": {
   "display_name": "Python 2",
   "language": "python",
   "name": "python2"
  },
  "language_info": {
   "codemirror_mode": {
    "name": "ipython",
    "version": 2
   },
   "file_extension": ".py",
   "mimetype": "text/x-python",
   "name": "python",
   "nbconvert_exporter": "python",
   "pygments_lexer": "ipython2",
   "version": "2.7.14"
  }
 },
 "nbformat": 4,
 "nbformat_minor": 2
}
