{
 "cells": [
  {
   "cell_type": "code",
   "execution_count": 62,
   "metadata": {},
   "outputs": [],
   "source": [
    "def solution(S):\n",
    "    S = S.split(\".\")\n",
    "    N = []\n",
    "    E = []\n",
    "    for ele in S:\n",
    "        N.append(ele.split(\"?\"))\n",
    "    for i in range(len(N)):\n",
    "        for j in range(len(N[i])):\n",
    "            E.append(N[i][j].split(\"!\"))    \n",
    "    count = 0\n",
    "    \n",
    "    for i in range(len(E)):\n",
    "        for j in range(len(E[i])):\n",
    "            temp = E[i][j].split()\n",
    "            count = max(len(temp),count)\n",
    "    return count\n",
    "        \n",
    "        \n",
    "       "
   ]
  },
  {
   "cell_type": "code",
   "execution_count": 64,
   "metadata": {},
   "outputs": [
    {
     "data": {
      "text/plain": [
       "2"
      ]
     },
     "execution_count": 64,
     "metadata": {},
     "output_type": "execute_result"
    }
   ],
   "source": [
    "# S = \"We test coders. Give us a try?\"\n",
    "S = \"Forget  CVs..Save time . x x\"\n",
    "solution(S)"
   ]
  },
  {
   "cell_type": "code",
   "execution_count": 93,
   "metadata": {},
   "outputs": [],
   "source": [
    "def solution1(A):\n",
    "    st = str(A)\n",
    "    print st\n",
    "    s = list(st)   \n",
    "    left = 0\n",
    "    right = len(s) - 1\n",
    "    \n",
    "#     while left<= right:\n",
    "#         if left % 2 == 0:\n",
    "#             left += 1\n",
    "# #             print left,right\n",
    "#         else:\n",
    "#             s[left],s[right] = s[right],s[left]\n",
    "#             right -=1 \n",
    "#             left += 1\n",
    "#         print left,right\n",
    "#     return s\n",
    "            \n",
    "            "
   ]
  },
  {
   "cell_type": "code",
   "execution_count": 94,
   "metadata": {},
   "outputs": [
    {
     "name": "stdout",
     "output_type": "stream",
     "text": [
      "123456\n",
      "1 5\n",
      "2 4\n",
      "3 4\n",
      "4 3\n"
     ]
    },
    {
     "data": {
      "text/plain": [
       "['1', '6', '3', '5', '4', '2']"
      ]
     },
     "execution_count": 94,
     "metadata": {},
     "output_type": "execute_result"
    }
   ],
   "source": [
    "solution1(123456)"
   ]
  },
  {
   "cell_type": "code",
   "execution_count": 95,
   "metadata": {
    "collapsed": true
   },
   "outputs": [],
   "source": [
    "def pair_sum(arr,k):\n",
    "    \n",
    "    if len(arr)<2:\n",
    "        return\n",
    "    \n",
    "    seen = set()\n",
    "    output = set()\n",
    "    \n",
    "    for num in arr:\n",
    "        target = k-num\n",
    "    \n",
    "        if target not in seen:\n",
    "            seen.add(num)\n",
    "        else:\n",
    "            output.add( (min(num,target),  max(num,target)) )\n",
    "    return output"
   ]
  },
  {
   "cell_type": "code",
   "execution_count": 97,
   "metadata": {},
   "outputs": [
    {
     "data": {
      "text/plain": [
       "{(1, 4), (2, 3)}"
      ]
     },
     "execution_count": 97,
     "metadata": {},
     "output_type": "execute_result"
    }
   ],
   "source": [
    "pair_sum([1, 6, 3, 5, 4, 2],5)"
   ]
  }
 ],
 "metadata": {
  "kernelspec": {
   "display_name": "Python 2",
   "language": "python",
   "name": "python2"
  },
  "language_info": {
   "codemirror_mode": {
    "name": "ipython",
    "version": 2
   },
   "file_extension": ".py",
   "mimetype": "text/x-python",
   "name": "python",
   "nbconvert_exporter": "python",
   "pygments_lexer": "ipython2",
   "version": "2.7.14"
  }
 },
 "nbformat": 4,
 "nbformat_minor": 2
}
