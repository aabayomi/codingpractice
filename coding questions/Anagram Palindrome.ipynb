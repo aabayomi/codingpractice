{
 "cells": [
  {
   "cell_type": "markdown",
   "metadata": {},
   "source": [
    "We have given a anagram string and we have to check whether it can be made palindrome or not.\n",
    "\n",
    "Input : geeksforgeeks \n",
    "Output : No\n",
    "There is no palindrome anagram of \n",
    "given string\n",
    "\n",
    "Input  : geeksgeeks\n",
    "Output : Yes\n",
    "There are palindrome anagrams of\n",
    "given string. For example kgeeseegk\n",
    "\n",
    "1) A string is a palindrome if it reads the same from left-to-right as it does right-to-left.\n",
    "e.g “nolemonnomelon”, “racecar” & “neveroddoreven” are all palindromes.\n",
    "A string is an anagram of another string if it consists of exactly the same characters but in another order.\n",
    "e.g The string “carrace” is an anagram of “racecar”.\n",
    "Write a function `def is_anagram_of_palindrome(str):`\n",
    "such that it returns True if the string str is an anagram of a palindrome, and otherwise returns False.\n",
    "You may assume that str contains only lowercase characters a-z and is not empty.\n",
    "e.g Given str = “carrace” the function should return True as it is an anagram of the palindrome “racecar”.\n",
    "Given str = “tangent” the function should return False as while it is an anagram,\n",
    "it is not possible that it is an anagram of a palindrome.\n",
    "We are not dealing with English words here, “bbcbb” is still a palindrome.\n",
    "\"\"\"\n",
    "\n",
    " >>> is_anagram_of_palindrome('')\n",
    "    False\n",
    "    >>> any(is_anagram_of_palindrome(n*'a') for n in range(1, 10)) # all already ordered as only palindrome\n",
    "    False\n",
    "    >>> any(is_anagram_of_palindrome(n*'a' + 'b' + n*'a') for n in range(1, 10)) # all already ordered as only palindrome\n",
    "    False\n",
    "    >>> is_anagram_of_palindrome('ab')\n",
    "    False\n",
    "    >>> is_anagram_of_palindrome('aab')\n",
    "    True\n",
    "    >>> is_anagram_of_palindrome('aba') # already ordered as only palindrome\n",
    "    False\n",
    "    >>> is_anagram_of_palindrome('abab')\n",
    "    True\n",
    "    >>> is_anagram_of_palindrome('abba') # has one other palindrome\n",
    "    True\n",
    "    >>> is_anagram_of_palindrome('abcba') # has one other palindrome\n",
    "    True\n",
    "    >>> is_anagram_of_palindrome('aabc')\n",
    "    False\n",
    "    >>> is_anagram_of_palindrome('aaabb')\n",
    "    True\n",
    "    >>> is_anagram_of_palindrome('aaabc')\n",
    "    False\n",
    "    >>> is_anagram_of_palindrome('aaaabb')\n",
    "    True\n",
    "    >>> is_anagram_of_palindrome('aaaabbc')\n",
    "    True\n",
    "    >>> is_anagram_of_palindrome('tangent')\n",
    "    False\n",
    "    >>> is_anagram_of_palindrome('nolemonnomelon') # already palindrome but others possible\n",
    "    True\n",
    "\n"
   ]
  },
  {
   "cell_type": "code",
   "execution_count": 1,
   "metadata": {
    "collapsed": true
   },
   "outputs": [],
   "source": [
    "def is_anagram_palidrome(word):\n",
    "    \n",
    "    word_dict ={}\n",
    "    \n",
    "    for letters in word:\n",
    "        word_dict[letters] = word_dict.get(letters,0) + 1  \n",
    "        print(word_dict.items())\n",
    "    odd_count =0\n",
    "    for numbers in word_dict.values():\n",
    "        if numbers %2==1:\n",
    "            odd_count +=1\n",
    "    return odd_count <= 1\n",
    "        "
   ]
  },
  {
   "cell_type": "code",
   "execution_count": 2,
   "metadata": {},
   "outputs": [
    {
     "name": "stdout",
     "output_type": "stream",
     "text": [
      "[('g', 1)]\n",
      "[('e', 1), ('g', 1)]\n",
      "[('e', 2), ('g', 1)]\n",
      "[('k', 1), ('e', 2), ('g', 1)]\n",
      "[('k', 1), ('e', 2), ('s', 1), ('g', 1)]\n",
      "[('k', 1), ('e', 2), ('s', 1), ('g', 1), ('f', 1)]\n",
      "[('e', 2), ('g', 1), ('f', 1), ('k', 1), ('o', 1), ('s', 1)]\n",
      "[('e', 2), ('g', 1), ('f', 1), ('k', 1), ('o', 1), ('s', 1), ('r', 1)]\n",
      "[('e', 2), ('g', 2), ('f', 1), ('k', 1), ('o', 1), ('s', 1), ('r', 1)]\n",
      "[('e', 3), ('g', 2), ('f', 1), ('k', 1), ('o', 1), ('s', 1), ('r', 1)]\n",
      "[('e', 4), ('g', 2), ('f', 1), ('k', 1), ('o', 1), ('s', 1), ('r', 1)]\n",
      "[('e', 4), ('g', 2), ('f', 1), ('k', 2), ('o', 1), ('s', 1), ('r', 1)]\n",
      "[('e', 4), ('g', 2), ('f', 1), ('k', 2), ('o', 1), ('s', 2), ('r', 1)]\n"
     ]
    },
    {
     "data": {
      "text/plain": [
       "False"
      ]
     },
     "execution_count": 2,
     "metadata": {},
     "output_type": "execute_result"
    }
   ],
   "source": [
    "is_anagram_palidrome(\"geeksgeeks\")"
   ]
  }
 ],
 "metadata": {
  "kernelspec": {
   "display_name": "Python 2",
   "language": "python",
   "name": "python2"
  },
  "language_info": {
   "codemirror_mode": {
    "name": "ipython",
    "version": 2
   },
   "file_extension": ".py",
   "mimetype": "text/x-python",
   "name": "python",
   "nbconvert_exporter": "python",
   "pygments_lexer": "ipython2",
   "version": "2.7.14"
  }
 },
 "nbformat": 4,
 "nbformat_minor": 2
}
