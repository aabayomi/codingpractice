{
 "cells": [
  {
   "cell_type": "code",
   "execution_count": null,
   "metadata": {
    "collapsed": true
   },
   "outputs": [],
   "source": [
    "# Declare second integer, double, and String variables.\n",
    "k = input()\n",
    "l = input()\n",
    "m = raw_input()\n",
    "\n",
    "# Read and save an integer, double, and String to your variables.\n",
    "k= int(k)\n",
    "l = float(l)\n",
    "m = str(m)\n",
    "\n",
    "# Print the sum of both integer variables on a new line.\n",
    "print k + i\n",
    "# Print the sum of the double variables on a new line.\n",
    "print l + d\n",
    "# Concatenate and print the String variables on a new line\n",
    "# The 's' variable above should be printed first.\n",
    "print s + m"
   ]
  }
 ],
 "metadata": {
  "kernelspec": {
   "display_name": "Python 2",
   "language": "python",
   "name": "python2"
  },
  "language_info": {
   "codemirror_mode": {
    "name": "ipython",
    "version": 2
   },
   "file_extension": ".py",
   "mimetype": "text/x-python",
   "name": "python",
   "nbconvert_exporter": "python",
   "pygments_lexer": "ipython2",
   "version": "2.7.14"
  }
 },
 "nbformat": 4,
 "nbformat_minor": 2
}
