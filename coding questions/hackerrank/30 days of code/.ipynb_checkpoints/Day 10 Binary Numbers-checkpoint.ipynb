{
 "cells": [
  {
   "cell_type": "code",
   "execution_count": null,
   "metadata": {
    "collapsed": true
   },
   "outputs": [],
   "source": [
    "#!/bin/python\n",
    "\n",
    "import math\n",
    "import os\n",
    "import random\n",
    "import re\n",
    "import sys\n",
    "def OneCount(N):\n",
    "    Bin = bin(N)\n",
    "    BinList = list(Bin)\n",
    "    Bin2 = BinList[2:]\n",
    "    length = len(Bin2)\n",
    "    one = 0\n",
    "    cons = 0\n",
    "    i = 0\n",
    "    count = []\n",
    "    while i < length:\n",
    "        if Bin2[i] == \"1\":\n",
    "            one += 1\n",
    "            count.append(one)\n",
    "        else:\n",
    "            one = 0\n",
    "        i += 1\n",
    "    print max(count)  \n",
    "\n",
    "\n",
    "if __name__ == '__main__':\n",
    "    n = int(raw_input())\n",
    "    OneCount(n)\n",
    "\n"
   ]
  }
 ],
 "metadata": {
  "kernelspec": {
   "display_name": "Python 2",
   "language": "python",
   "name": "python2"
  },
  "language_info": {
   "codemirror_mode": {
    "name": "ipython",
    "version": 2
   },
   "file_extension": ".py",
   "mimetype": "text/x-python",
   "name": "python",
   "nbconvert_exporter": "python",
   "pygments_lexer": "ipython2",
   "version": "2.7.14"
  }
 },
 "nbformat": 4,
 "nbformat_minor": 2
}
