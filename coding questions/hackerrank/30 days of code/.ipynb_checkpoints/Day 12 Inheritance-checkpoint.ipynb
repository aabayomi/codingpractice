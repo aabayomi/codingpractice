{
 "cells": [
  {
   "cell_type": "code",
   "execution_count": null,
   "metadata": {
    "collapsed": true
   },
   "outputs": [],
   "source": [
    "class Student(Person):\n",
    "\n",
    "    #   Class Constructor\n",
    "    #   \n",
    "    #   Parameters:\n",
    "    #   firstName - A string denoting the Person's first name.\n",
    "    #   lastName - A string denoting the Person's last name.\n",
    "    #   id - An integer denoting the Person's ID number.\n",
    "    #   scores - An array of integers denoting the Person's test scores.\n",
    "    #\n",
    "    # Write your constructor here\n",
    "    \n",
    "    def __init__(self,firstName,lastName,idNumber,scores):\n",
    "        Person.__init__(self,firstName,lastName,idNumber)\n",
    "        self.studentScores = scores\n",
    "    \n",
    "    #   Function Name: calculate\n",
    "    #   Return: A character denoting the grade.\n",
    "    #\n",
    "    # Write your function here\n",
    "    def calculate(self):\n",
    "        total = len(self.studentScores)\n",
    "        sumTotal = 0\n",
    "        for i in self.studentScores:\n",
    "            sumTotal += i\n",
    "        avg = sumTotal/ total\n",
    "        \n",
    "        if avg in range(90,101):\n",
    "            return \"O\"\n",
    "        elif avg in range(80,90):\n",
    "            return \"E\"\n",
    "        elif avg in range(70,80):\n",
    "            return \"A\"\n",
    "        elif avg in range(55,70):\n",
    "            return \"P\"\n",
    "        elif avg in range(40,55):\n",
    "            return \"D\"\n",
    "        else:\n",
    "            return \"T\""
   ]
  }
 ],
 "metadata": {
  "kernelspec": {
   "display_name": "Python 2",
   "language": "python",
   "name": "python2"
  },
  "language_info": {
   "codemirror_mode": {
    "name": "ipython",
    "version": 2
   },
   "file_extension": ".py",
   "mimetype": "text/x-python",
   "name": "python",
   "nbconvert_exporter": "python",
   "pygments_lexer": "ipython2",
   "version": "2.7.14"
  }
 },
 "nbformat": 4,
 "nbformat_minor": 2
}
