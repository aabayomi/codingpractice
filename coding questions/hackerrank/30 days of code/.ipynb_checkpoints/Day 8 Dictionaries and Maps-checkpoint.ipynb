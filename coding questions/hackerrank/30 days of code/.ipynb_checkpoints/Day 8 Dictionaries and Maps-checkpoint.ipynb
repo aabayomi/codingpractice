{
 "cells": [
  {
   "cell_type": "code",
   "execution_count": null,
   "metadata": {
    "collapsed": true
   },
   "outputs": [],
   "source": [
    "num = int(input())\n",
    "\n",
    "phone_book = {}\n",
    "\n",
    "for i in range(0, num):\n",
    "    entry = str(input()).split(\" \")\n",
    "\n",
    "    name = entry[0]\n",
    "    phone = int(entry[1])\n",
    "    phone_book[name] = phone\n",
    "\n",
    "for j in range(0, num):\n",
    "    name = str(input())\n",
    "\n",
    "    if name in phone_book:\n",
    "        phone = phone_book[name]\n",
    "        print(name + \"=\" + str(phone))\n",
    "    else:\n",
    "        print(\"Not found\")\n",
    "\n",
    "\n"
   ]
  }
 ],
 "metadata": {
  "kernelspec": {
   "display_name": "Python 2",
   "language": "python",
   "name": "python2"
  },
  "language_info": {
   "codemirror_mode": {
    "name": "ipython",
    "version": 2
   },
   "file_extension": ".py",
   "mimetype": "text/x-python",
   "name": "python",
   "nbconvert_exporter": "python",
   "pygments_lexer": "ipython2",
   "version": "2.7.14"
  }
 },
 "nbformat": 4,
 "nbformat_minor": 2
}
