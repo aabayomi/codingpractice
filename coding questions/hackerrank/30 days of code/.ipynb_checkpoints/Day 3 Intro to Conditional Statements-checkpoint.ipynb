{
 "cells": [
  {
   "cell_type": "code",
   "execution_count": null,
   "metadata": {
    "collapsed": true
   },
   "outputs": [],
   "source": [
    "#!/bin/python\n",
    "\n",
    "import math\n",
    "import os\n",
    "import random\n",
    "import re\n",
    "import sys\n",
    "\n",
    "def conditional(N):\n",
    "    if N % 2 == 1:\n",
    "        print \"Weird\"  \n",
    "    elif N % 2 == 0 and N in range(2,6):\n",
    "        print \"Not Weird\"\n",
    "    elif N % 2 == 0 and N in range(6,21):\n",
    "        print \"Weird\"\n",
    "    elif N % 2 == 0 and N > 20:\n",
    "        print \"Not Weird\"\n",
    "    else:\n",
    "        pass\n",
    "if __name__ == '__main__':\n",
    "    N = int(raw_input())\n",
    "    conditional(N)\n",
    "\n"
   ]
  }
 ],
 "metadata": {
  "kernelspec": {
   "display_name": "Python 2",
   "language": "python",
   "name": "python2"
  },
  "language_info": {
   "codemirror_mode": {
    "name": "ipython",
    "version": 2
   },
   "file_extension": ".py",
   "mimetype": "text/x-python",
   "name": "python",
   "nbconvert_exporter": "python",
   "pygments_lexer": "ipython2",
   "version": "2.7.14"
  }
 },
 "nbformat": 4,
 "nbformat_minor": 2
}
