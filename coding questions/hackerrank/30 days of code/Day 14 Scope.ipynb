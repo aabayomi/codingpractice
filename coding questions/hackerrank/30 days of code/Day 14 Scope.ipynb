{
 "cells": [
  {
   "cell_type": "code",
   "execution_count": null,
   "metadata": {
    "collapsed": true
   },
   "outputs": [],
   "source": [
    "  self.maximumDifference = 0\n",
    "    def computeDifference(self):\n",
    "        for i in self.__elements:\n",
    "            for j in self.__elements[1:]:\n",
    "                d = abs(i - j)\n",
    "                self.maximumDifference = max(self.maximumDifference,d)\n",
    "        return self.maximumDifference\n",
    "\n",
    "\n",
    "\n",
    "    "
   ]
  }
 ],
 "metadata": {
  "kernelspec": {
   "display_name": "Python 2",
   "language": "python",
   "name": "python2"
  },
  "language_info": {
   "codemirror_mode": {
    "name": "ipython",
    "version": 2
   },
   "file_extension": ".py",
   "mimetype": "text/x-python",
   "name": "python",
   "nbconvert_exporter": "python",
   "pygments_lexer": "ipython2",
   "version": "2.7.14"
  }
 },
 "nbformat": 4,
 "nbformat_minor": 2
}
