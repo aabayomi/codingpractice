{
 "cells": [
  {
   "cell_type": "code",
   "execution_count": null,
   "metadata": {
    "collapsed": true
   },
   "outputs": [],
   "source": [
    "import sys\n",
    "\n",
    "def remove(Input):\n",
    "    even = \"\"\n",
    "    odd = \"\"\n",
    "    for i, n in enumerate(Input):\n",
    "        if i % 2 == 0:\n",
    "            even = even + n\n",
    "        else:\n",
    "            odd = odd + n\n",
    "    print even + \" \" + odd \n",
    "    \n",
    "    \n",
    "    \n",
    "\n",
    "def letReview(stringInput):    \n",
    "    for ele in stringInput[1:]:\n",
    "        remove(ele)\n",
    "    \n",
    "   \n",
    "    \n",
    "    \n",
    "if __name__ == '__main__':\n",
    "    # stringInput = sys.stdin.readlines()\n",
    "    stringInput = []\n",
    "    for line in sys.stdin:\n",
    "         stringInput.append(line.strip())\n",
    "    letReview(stringInput)"
   ]
  }
 ],
 "metadata": {
  "kernelspec": {
   "display_name": "Python 2",
   "language": "python",
   "name": "python2"
  },
  "language_info": {
   "codemirror_mode": {
    "name": "ipython",
    "version": 2
   },
   "file_extension": ".py",
   "mimetype": "text/x-python",
   "name": "python",
   "nbconvert_exporter": "python",
   "pygments_lexer": "ipython2",
   "version": "2.7.14"
  }
 },
 "nbformat": 4,
 "nbformat_minor": 2
}
