{
 "cells": [
  {
   "cell_type": "code",
   "execution_count": null,
   "metadata": {
    "collapsed": true
   },
   "outputs": [],
   "source": [
    "#!/bin/python\n",
    "\n",
    "import math\n",
    "import os\n",
    "import random\n",
    "import re\n",
    "import sys\n",
    "\n",
    "# Complete the solve function below.\n",
    "def solve(meal_cost, tip_percent, tax_percent):\n",
    "    tip = (meal_cost * tip_percent)/100\n",
    "    tax = (meal_cost * tax_percent)/100\n",
    "    \n",
    "    totalCost = meal_cost + float(tax) + float(tip)\n",
    "    \n",
    "    totalCost = round(totalCost)\n",
    "    \n",
    "    print int(totalCost)\n",
    "\n",
    "if __name__ == '__main__':\n",
    "    meal_cost = float(raw_input())\n",
    "\n",
    "    tip_percent = int(raw_input())\n",
    "\n",
    "    tax_percent = int(raw_input())\n",
    "\n",
    "    solve(meal_cost, tip_percent, tax_percent)\n",
    "\n"
   ]
  }
 ],
 "metadata": {
  "kernelspec": {
   "display_name": "Python 2",
   "language": "python",
   "name": "python2"
  },
  "language_info": {
   "codemirror_mode": {
    "name": "ipython",
    "version": 2
   },
   "file_extension": ".py",
   "mimetype": "text/x-python",
   "name": "python",
   "nbconvert_exporter": "python",
   "pygments_lexer": "ipython2",
   "version": "2.7.14"
  }
 },
 "nbformat": 4,
 "nbformat_minor": 2
}
