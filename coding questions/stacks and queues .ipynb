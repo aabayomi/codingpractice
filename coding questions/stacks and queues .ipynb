{
 "cells": [
  {
   "cell_type": "code",
   "execution_count": 1,
   "metadata": {},
   "outputs": [
    {
     "name": "stdout",
     "output_type": "stream",
     "text": [
      "[-1, -1]\n"
     ]
    }
   ],
   "source": [
    "num_stacks = 2\n",
    "stack_pointers = [-1] * num_stacks\n",
    "print stack_pointers"
   ]
  },
  {
   "cell_type": "code",
   "execution_count": 7,
   "metadata": {
    "collapsed": true
   },
   "outputs": [],
   "source": [
    "from pythonds.basic.stack import Stack\n",
    "\n",
    "def divideByTwo(num):\n",
    "    remstack = Stack()\n",
    "    \n",
    "    while num >0:\n",
    "        rem = num %2\n",
    "        remstack.push(rem)\n",
    "        num = num // 2\n",
    "    binary =\"\"\n",
    "    while not remstack.isEmpty():\n",
    "        binary = binary + str(remstack.pop())\n",
    "    return binary"
   ]
  },
  {
   "cell_type": "code",
   "execution_count": 8,
   "metadata": {},
   "outputs": [
    {
     "data": {
      "text/plain": [
       "'11101001'"
      ]
     },
     "execution_count": 8,
     "metadata": {},
     "output_type": "execute_result"
    }
   ],
   "source": [
    "divideByTwo(233)"
   ]
  },
  {
   "cell_type": "code",
   "execution_count": 10,
   "metadata": {
    "collapsed": true
   },
   "outputs": [],
   "source": [
    "class Stack:\n",
    "    def __init__(self):\n",
    "        self.items=[]\n",
    "    def push(self,item):\n",
    "        self.items.append(item)\n",
    "    def pop(self):\n",
    "        return self.items.pop()\n",
    "    def size(self):\n",
    "        return len(self.items)\n",
    "    def isEmpty(self):\n",
    "        return self.items ==[]\n",
    "    \n",
    "def baseConverter(num,base):\n",
    "    digits = \"0123456789ABCDEF\"\n",
    "    base_stack = Stack()\n",
    "    while num > 0:\n",
    "        rem = num % base\n",
    "        base_stack.push(rem)\n",
    "        num = num // base\n",
    "    result=''\n",
    "    while not base_stack.isEmpty():\n",
    "        result = result + digits[base_stack.pop()]\n",
    "    return result\n",
    "    \n",
    "        "
   ]
  },
  {
   "cell_type": "code",
   "execution_count": 16,
   "metadata": {},
   "outputs": [
    {
     "data": {
      "text/plain": [
       "'10'"
      ]
     },
     "execution_count": 16,
     "metadata": {},
     "output_type": "execute_result"
    }
   ],
   "source": [
    "baseConverter(26,26)"
   ]
  },
  {
   "cell_type": "markdown",
   "metadata": {},
   "source": [
    "Infix to Postfix problem"
   ]
  },
  {
   "cell_type": "code",
   "execution_count": 4,
   "metadata": {
    "collapsed": true
   },
   "outputs": [],
   "source": [
    "from pythonds.basic.stack import Stack  #see question in interactivepython.org chapter 3\n",
    "\n",
    "def infixToPostfix(Infix):\n",
    "    prec ={}\n",
    "    prec[\"**\"]=4\n",
    "    prec[\"*\"]=3\n",
    "    prec[\"/\"]=3\n",
    "    prec[\"+\"]=2\n",
    "    prec[\"-\"]=2\n",
    "    prec[\"(\"]=1\n",
    "    opstack = Stack()\n",
    "    post_fixlist = []\n",
    "    token_list = Infix.split()\n",
    "    \n",
    "    alphabet =\"ABCDEFGHIJKLMNOPQRSTUVWXYZ\"\n",
    "    numbers = \"0123456789\"\n",
    "    \n",
    "    for token in token_list:\n",
    "        if token in alphabet or token in numbers:\n",
    "            post_fixlist.append(token)\n",
    "            \n",
    "        elif token ==\"(\":\n",
    "            opstack.push(token)\n",
    "        elif token ==\")\":\n",
    "            toptoken = opstack.pop()\n",
    "            while toptoken !=\"(\":\n",
    "                post_fixlist.append(toptoken)\n",
    "                toptoken = opstack.pop()\n",
    "        else:\n",
    "            while (not opstack.isEmpty()) and (prec[opstack.peek()]>=prec[token]):\n",
    "                post_fixlist.append(opstack.pop())\n",
    "            opstack.push(token)\n",
    "            \n",
    "    while not opstack.isEmpty():\n",
    "        post_fixlist.append(opstack.pop())\n",
    "    return \"\".join(post_fixlist)\n",
    "            "
   ]
  },
  {
   "cell_type": "code",
   "execution_count": 5,
   "metadata": {},
   "outputs": [
    {
     "name": "stdout",
     "output_type": "stream",
     "text": [
      "AB*CD*+\n",
      "AB+C*DE-FG+*-\n",
      "5342-***\n"
     ]
    }
   ],
   "source": [
    "print infixToPostfix(\"A * B + C * D\")\n",
    "print infixToPostfix(\"( A + B ) * C - ( D - E ) * ( F + G )\")\n",
    "# print infixToPostfix(\"1 0 + ( ( 3 * 5) / ( 1 6 - 4 ) ) \")\n",
    "print infixToPostfix(\"5 * 3 ** ( 4 - 2 )\")"
   ]
  },
  {
   "cell_type": "code",
   "execution_count": 60,
   "metadata": {
    "collapsed": true
   },
   "outputs": [],
   "source": [
    "from pythonds.basic.stack import Stack                  #see question in interactivepython.org chapter 3\n",
    "\n",
    "def postfixEval(postfix):\n",
    "    numstack = Stack()\n",
    "    opstack = Stack()\n",
    "#     numbers =\"0123456789\"\n",
    "    tokens = postfix.split()\n",
    "    \n",
    "    for token in tokens:\n",
    "#         if token in numbers:\n",
    "        if token.isdigit()==True:\n",
    "            numstack.push(int(token))\n",
    "        else:\n",
    "            operand2=numstack.pop()\n",
    "            operand1= numstack.pop()\n",
    "            result= arith_op(token,operand1,operand2)\n",
    "            numstack.push(result)\n",
    "    return numstack.pop()\n",
    "\n",
    "def arith_op(token,operand1,operand2):\n",
    "    if token == \"*\":\n",
    "        return operand1 * operand2\n",
    "#     elif token == \"==\":\n",
    "#         return \n",
    "    \n",
    "    elif token == \"/\":\n",
    "        return operand1/operand2\n",
    "    elif token == \"+\":\n",
    "        return operand1 + operand2\n",
    "    else:\n",
    "        return operand1 - operand2\n",
    "            \n",
    "    "
   ]
  },
  {
   "cell_type": "code",
   "execution_count": 61,
   "metadata": {},
   "outputs": [
    {
     "name": "stdout",
     "output_type": "stream",
     "text": [
      "3\n",
      "9\n"
     ]
    }
   ],
   "source": [
    "print postfixEval('7 8 + 3 2 + /')\n",
    "print postfixEval('17 10 + 3 * 9 /')"
   ]
  },
  {
   "cell_type": "code",
   "execution_count": null,
   "metadata": {
    "collapsed": true
   },
   "outputs": [],
   "source": [
    "Queues "
   ]
  },
  {
   "cell_type": "code",
   "execution_count": 8,
   "metadata": {},
   "outputs": [
    {
     "name": "stdout",
     "output_type": "stream",
     "text": [
      "Susan\n"
     ]
    }
   ],
   "source": [
    "#Hot potatoe simulation\n",
    "\n",
    "class MyQueue:\n",
    "    def __init__(self):\n",
    "        self.items =[]\n",
    "    def enqueue(self,item):\n",
    "        self.items.insert(0,item)\n",
    "    def dequeue(self):\n",
    "        return self.items.pop()\n",
    "    def isEmpty(self):\n",
    "        return self.items==[]\n",
    "    def size(self):\n",
    "        return len(self.items)\n",
    "    \n",
    "def hotPotatoe(namelist,num):\n",
    "    simqueue = MyQueue()\n",
    "    for name in namelist:\n",
    "        simqueue.enqueue(name)\n",
    "    \n",
    "    while simqueue.size()>1:\n",
    "        for i in range(num):\n",
    "            first = simqueue.dequeue()\n",
    "       # print first\n",
    "            simqueue.enqueue(first)\n",
    "        simqueue.dequeue()\n",
    "    return simqueue.dequeue()\n",
    "\n",
    "print hotPotatoe([\"Bill\",\"David\",\"Susan\",\"Jane\",\"Kent\",\"Brad\"],7)"
   ]
  },
  {
   "cell_type": "code",
   "execution_count": 7,
   "metadata": {
    "collapsed": true
   },
   "outputs": [],
   "source": [
    "def reverse(s):\n",
    "    new_s = s[::-1].split(\" \")\n",
    "    string_list = []\n",
    "    for i in range(len(s)-1,-1,-1):\n",
    "        string_list.append(s[i])\n",
    "    return \"\".join(string_list)"
   ]
  },
  {
   "cell_type": "code",
   "execution_count": 8,
   "metadata": {},
   "outputs": [
    {
     "name": "stdout",
     "output_type": "stream",
     "text": [
      "olleH\n"
     ]
    }
   ],
   "source": [
    "print reverse(\"Hello\")"
   ]
  },
  {
   "cell_type": "markdown",
   "metadata": {},
   "source": [
    "Simulating a Printing task "
   ]
  }
 ],
 "metadata": {
  "kernelspec": {
   "display_name": "Python 2",
   "language": "python",
   "name": "python2"
  },
  "language_info": {
   "codemirror_mode": {
    "name": "ipython",
    "version": 2
   },
   "file_extension": ".py",
   "mimetype": "text/x-python",
   "name": "python",
   "nbconvert_exporter": "python",
   "pygments_lexer": "ipython2",
   "version": "2.7.14"
  }
 },
 "nbformat": 4,
 "nbformat_minor": 2
}
